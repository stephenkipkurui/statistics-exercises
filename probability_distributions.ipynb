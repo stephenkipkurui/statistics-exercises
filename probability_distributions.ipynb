{
 "cells": [
  {
   "cell_type": "markdown",
   "id": "c73b4df4",
   "metadata": {},
   "source": [
    "Exercises\n",
    "\n",
    "Do your work for this exercise in either a python script named probability_distributions.py or \n",
    "a jupyter notebook named probability_distributions.ipynb.\n",
    "\n",
    "For the following problems, use python to simulate the problem and calculate an experimental \n",
    "probability, then compare that to the theoretical probability.\n",
    "\n"
   ]
  },
  {
   "cell_type": "code",
   "execution_count": null,
   "id": "cfd841d2",
   "metadata": {},
   "outputs": [],
   "source": []
  },
  {
   "cell_type": "markdown",
   "id": "7d2a9b07",
   "metadata": {},
   "source": [
    "1). A bank found that the average number of cars waiting during the noon hour at a drive-up \n",
    "window follows a Poisson distribution with a mean of 2 cars. Make a chart of this distribution\n",
    "and answer these questions concerning the probability of cars waiting at the drive-up window.\n",
    "\n",
    "\n",
    "What is the probability that no cars drive up in the noon hour?\n",
    "What is the probability that 3 or more cars come through the drive through?\n",
    "How likely is it that the drive through gets at least 1 car?"
   ]
  },
  {
   "cell_type": "code",
   "execution_count": null,
   "id": "2d65734d",
   "metadata": {},
   "outputs": [],
   "source": []
  },
  {
   "cell_type": "markdown",
   "id": "503d6fb2",
   "metadata": {},
   "source": [
    "\n",
    "2). Grades of State University graduates are normally distributed with a mean of 3.0 and a standard \n",
    "deviation of .3. Calculate the following:\n",
    "\n",
    "What grade point average is required to be in the top 5% of the graduating class?\n",
    "\n",
    "What GPA constitutes the bottom 15% of the class?\n",
    "\n",
    "An eccentric alumnus left scholarship money for students in the third decile from the bottom of \n",
    "their class. Determine the range of the third decile. Would a student with a 2.8 grade point average \n",
    "qualify for this scholarship?\n",
    "\n",
    "If I have a GPA of 3.5, what percentile am I in?"
   ]
  },
  {
   "cell_type": "code",
   "execution_count": null,
   "id": "edb1da0d",
   "metadata": {},
   "outputs": [],
   "source": []
  },
  {
   "cell_type": "markdown",
   "id": "8f6a4d39",
   "metadata": {},
   "source": [
    "\n",
    "3). A marketing website has an average click-through rate of 2%. One day they observe 4326 visitors and 97 \n",
    "click-throughs. How likely is it that this many people or more click through?"
   ]
  },
  {
   "cell_type": "code",
   "execution_count": null,
   "id": "ff338cc0",
   "metadata": {},
   "outputs": [],
   "source": []
  },
  {
   "cell_type": "markdown",
   "id": "d2eeeeb4",
   "metadata": {},
   "source": [
    "4). You are working on some statistics homework consisting of 100 questions where all of the answers are a \n",
    "probability rounded to the hundreths place. Looking to save time, you put down random probabilities as \n",
    "the answer to each question.\n",
    "\n",
    "What is the probability that at least one of your first 60 answers is correct?\n",
    "\n"
   ]
  },
  {
   "cell_type": "code",
   "execution_count": null,
   "id": "c5a114f9",
   "metadata": {},
   "outputs": [],
   "source": []
  },
  {
   "cell_type": "markdown",
   "id": "85eb9388",
   "metadata": {},
   "source": [
    "5). The codeup staff tends to get upset when the student break area is not cleaned up. Suppose that \n",
    "there's a 3% chance that any one student cleans the break area when they visit it, and, on any \n",
    "given day, about 90% of the 3 active cohorts of 22 students visit the break area. How likely is \n",
    "it that the break area gets cleaned up each day? How likely is it that it goes two days without \n",
    "getting cleaned up? All week?"
   ]
  },
  {
   "cell_type": "code",
   "execution_count": null,
   "id": "b03ce24b",
   "metadata": {},
   "outputs": [],
   "source": []
  },
  {
   "cell_type": "markdown",
   "id": "586130c6",
   "metadata": {},
   "source": [
    "\n",
    "6). You want to get lunch at La Panaderia, but notice that the line is usually very long at lunchtime. After \n",
    "several weeks of careful observation, you notice that the average number of people in line when your lunch \n",
    "break starts is normally distributed with a mean of 15 and standard deviation of 3. If it takes 2 minutes \n",
    "for each person to order, and 10 minutes from ordering to getting your food, what is the likelihood that \n",
    "you have at least 15 minutes left to eat your food before you have to go back to class? Assume you have \n",
    "one hour for lunch, and ignore travel time to and from La Panaderia."
   ]
  },
  {
   "cell_type": "code",
   "execution_count": null,
   "id": "0ed6539d",
   "metadata": {},
   "outputs": [],
   "source": []
  },
  {
   "cell_type": "markdown",
   "id": "6edc9b6a",
   "metadata": {},
   "source": [
    "\n",
    "7). Connect to the employees database and find the average salary of current employees, along with the standard \n",
    "deviation. For the following questions, calculate the answer based on modeling the employees salaries with a \n",
    "normal distribution defined by the calculated mean and standard deviation then compare this answer to the actual \n",
    "values present in the salaries dataset.\n",
    "\n",
    "\n",
    "\n",
    "a). What percent of employees earn less than 60,000?\n",
    "b). What percent of employees earn more than 95,000?\n",
    "c). What percent of employees earn between 65,000 and 80,000?\n",
    "d). What do the top 5% of employees make?"
   ]
  },
  {
   "cell_type": "code",
   "execution_count": null,
   "id": "f2f3e282",
   "metadata": {},
   "outputs": [],
   "source": []
  },
  {
   "cell_type": "markdown",
   "id": "4cec1dc8",
   "metadata": {},
   "source": [
    "\n",
    "## Hint If you're looking at this exercise and wondering \"How do I get pandas to talk the database, again?\", remember that you'll need 3 things: your .gitignore, your env.py, and to use pd.read_sql.\n",
    "\n",
    "## Be sure to run the following 2 commands from your terminal: 1. cp ~/codeup-data-science/numpy-pandas-visualization-exercises/.gitignore ~/codeup-data-science/statistics-exercises to ensure that your stats repo has a known-good gitignore 2. cp ~/codeup-data-science/numpy-pandas-exercises/env.py ~/codeup-data-science/statistics-exercises to ensure that pandas will have access to your db credentials."
   ]
  },
  {
   "cell_type": "code",
   "execution_count": null,
   "id": "be792878",
   "metadata": {},
   "outputs": [],
   "source": []
  },
  {
   "cell_type": "code",
   "execution_count": null,
   "id": "40751d2d",
   "metadata": {},
   "outputs": [],
   "source": []
  },
  {
   "cell_type": "code",
   "execution_count": null,
   "id": "2090f9e8",
   "metadata": {},
   "outputs": [],
   "source": []
  },
  {
   "cell_type": "code",
   "execution_count": null,
   "id": "762d2535",
   "metadata": {},
   "outputs": [],
   "source": []
  },
  {
   "cell_type": "code",
   "execution_count": null,
   "id": "7afd2c7f",
   "metadata": {},
   "outputs": [],
   "source": []
  },
  {
   "cell_type": "code",
   "execution_count": null,
   "id": "ffd7351e",
   "metadata": {},
   "outputs": [],
   "source": []
  },
  {
   "cell_type": "code",
   "execution_count": null,
   "id": "72073cbe",
   "metadata": {},
   "outputs": [],
   "source": []
  },
  {
   "cell_type": "code",
   "execution_count": null,
   "id": "b1bb2737",
   "metadata": {},
   "outputs": [],
   "source": []
  },
  {
   "cell_type": "code",
   "execution_count": null,
   "id": "8e19d7da",
   "metadata": {},
   "outputs": [],
   "source": []
  },
  {
   "cell_type": "code",
   "execution_count": null,
   "id": "5feba52c",
   "metadata": {},
   "outputs": [],
   "source": []
  },
  {
   "cell_type": "code",
   "execution_count": null,
   "id": "3ca22eb6",
   "metadata": {},
   "outputs": [],
   "source": []
  }
 ],
 "metadata": {
  "kernelspec": {
   "display_name": "Python 3 (ipykernel)",
   "language": "python",
   "name": "python3"
  },
  "language_info": {
   "codemirror_mode": {
    "name": "ipython",
    "version": 3
   },
   "file_extension": ".py",
   "mimetype": "text/x-python",
   "name": "python",
   "nbconvert_exporter": "python",
   "pygments_lexer": "ipython3",
   "version": "3.9.7"
  }
 },
 "nbformat": 4,
 "nbformat_minor": 5
}
