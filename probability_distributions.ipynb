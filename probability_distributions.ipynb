{
 "cells": [
  {
   "cell_type": "markdown",
   "id": "c73b4df4",
   "metadata": {},
   "source": [
    "# Probability Distributions Exercises\n",
    "\n",
    "Do your work for this exercise in either a python script named probability_distributions.py or \n",
    "a jupyter notebook named probability_distributions.ipynb.\n",
    "\n",
    "For the following problems, use python to simulate the problem and calculate an experimental \n",
    "probability, then compare that to the theoretical probability.\n",
    "\n"
   ]
  },
  {
   "cell_type": "code",
   "execution_count": 185,
   "id": "cfd841d2",
   "metadata": {},
   "outputs": [],
   "source": [
    "import matplotlib.pyplot as plt\n",
    "import numpy as np\n",
    "import pandas as pd\n",
    "from scipy import stats\n",
    "\n",
    "from scipy.stats import poisson\n",
    "\n",
    "# import viz # curriculum viz example code\n",
    "\n",
    "np.random.seed(123)\n"
   ]
  },
  {
   "cell_type": "markdown",
   "id": "7d2a9b07",
   "metadata": {},
   "source": [
    "1). A bank found that the average number of cars waiting during the noon hour at a drive-up \n",
    "window follows a Poisson distribution with a mean of 2 cars. Make a chart of this distribution\n",
    "and answer these questions concerning the probability of cars waiting at the drive-up window.\n",
    "\n",
    "\n",
    "What is the probability that no cars drive up in the noon hour?\n",
    "\n",
    "What is the probability that 3 or more cars come through the drive through?\n",
    "\n",
    "How likely is it that the drive through gets at least 1 car?"
   ]
  },
  {
   "cell_type": "code",
   "execution_count": 19,
   "id": "503b5993",
   "metadata": {},
   "outputs": [
    {
     "data": {
      "text/plain": [
       "Text(0.5, 1.0, 'Cars with poisson mean of 2')"
      ]
     },
     "execution_count": 19,
     "metadata": {},
     "output_type": "execute_result"
    },
    {
     "data": {
      "image/png": "[encoded data removed]",
      "text/plain": [
       "<Figure size 432x288 with 1 Axes>"
      ]
     },
     "metadata": {
      "needs_background": "light"
     },
     "output_type": "display_data"
    }
   ],
   "source": [
    "cars = 100\n",
    "\n",
    "x = poisson.rvs(mu = 2, size= cars)\n",
    "\n",
    "plt.hist(x, bins=range(1, 10), width=1, ec='red')\n",
    "\n",
    "plt.title('Cars with poisson mean of 2')"
   ]
  },
  {
   "cell_type": "code",
   "execution_count": 20,
   "id": "62d29df3",
   "metadata": {},
   "outputs": [
    {
     "data": {
      "text/plain": [
       "0.5392706545729752"
      ]
     },
     "execution_count": 20,
     "metadata": {},
     "output_type": "execute_result"
    }
   ],
   "source": [
    "# No car drives in the drive through\n",
    "\n",
    "\n",
    "cars = 0\n",
    "\n",
    "traffic_one_hour = np.random.random(2)\n",
    "\n",
    "\n",
    "traffic_one_hour = np.where(traffic_one_hour == 0, 0,traffic_one_hour)\n",
    "\n",
    "traffic_one_hour.mean() \n",
    "\n"
   ]
  },
  {
   "cell_type": "code",
   "execution_count": 21,
   "id": "f4cdd3a7",
   "metadata": {},
   "outputs": [
    {
     "data": {
      "text/plain": [
       "0.1353352832366127"
      ]
     },
     "execution_count": 21,
     "metadata": {},
     "output_type": "execute_result"
    }
   ],
   "source": [
    "# 0 cars CORRECT************\n",
    "\n",
    "stats.poisson(2).pmf(0)"
   ]
  },
  {
   "cell_type": "code",
   "execution_count": 22,
   "id": "f1e731ce",
   "metadata": {},
   "outputs": [
    {
     "data": {
      "text/plain": [
       "0.9696969696969697"
      ]
     },
     "execution_count": 22,
     "metadata": {},
     "output_type": "execute_result"
    }
   ],
   "source": [
    "# What is the probability that 3 or more cars come through the drive through?***********\n",
    "\n",
    "traffic = stats.randint(1,100)\n",
    "\n",
    "traffic.sf(3)"
   ]
  },
  {
   "cell_type": "code",
   "execution_count": 23,
   "id": "71cc4613",
   "metadata": {},
   "outputs": [
    {
     "data": {
      "text/plain": [
       "0.18044704431548356"
      ]
     },
     "execution_count": 23,
     "metadata": {},
     "output_type": "execute_result"
    }
   ],
   "source": [
    "# What is the probability that 3 or more cars come through the drive through?***********\n",
    "\n",
    "stats.poisson(2).pmf(3)"
   ]
  },
  {
   "cell_type": "code",
   "execution_count": 24,
   "id": "a710e606",
   "metadata": {},
   "outputs": [
    {
     "data": {
      "text/plain": [
       "50.0"
      ]
     },
     "execution_count": 24,
     "metadata": {},
     "output_type": "execute_result"
    }
   ],
   "source": [
    "# How likely is it that the drive through gets at least 1 car?\n",
    "\n",
    "traffic.isf(1/2)"
   ]
  },
  {
   "cell_type": "markdown",
   "id": "503d6fb2",
   "metadata": {},
   "source": [
    "\n",
    "2). Grades of State University graduates are normally distributed with a mean of 3.0 and a standard \n",
    "deviation of .3. Calculate the following:\n",
    "\n",
    "2a). What grade point average is required to be in the top 5% of the graduating class?\n",
    "\n",
    "2b). What GPA constitutes the bottom 15% of the class?\n",
    "\n",
    "2c). An eccentric alumnus left scholarship money for students in the third decile from the bottom of \n",
    "their class. Determine the range of the third decile. Would a student with a 2.8 grade point average \n",
    "qualify for this scholarship?\n",
    "\n",
    "If I have a GPA of 3.5, what percentile am I in?"
   ]
  },
  {
   "cell_type": "code",
   "execution_count": 25,
   "id": "edb1da0d",
   "metadata": {},
   "outputs": [
    {
     "data": {
      "text/plain": [
       "2.5065439119145583"
      ]
     },
     "execution_count": 25,
     "metadata": {},
     "output_type": "execute_result"
    }
   ],
   "source": [
    "# 2a). What grade point average is required to be in the top 5% of the graduating class?\n",
    "\n",
    "grade_mean = 3.0\n",
    "std_grade = 0.3\n",
    "\n",
    "gpa = stats.norm(grade_mean, std_grade)\n",
    "\n",
    "top_five_percent = gpa.ppf(.05)\n",
    "\n",
    "top_five_percent"
   ]
  },
  {
   "cell_type": "code",
   "execution_count": 26,
   "id": "cdd8ff59",
   "metadata": {},
   "outputs": [
    {
     "data": {
      "text/plain": [
       "1.0494515075362604e-21"
      ]
     },
     "execution_count": 26,
     "metadata": {},
     "output_type": "execute_result"
    }
   ],
   "source": [
    "# 2b). What GPA constitutes the bottom 15% of the class?\n",
    "\n",
    "bottom_fifteen_percent = gpa.cdf(.15)\n",
    "\n",
    "bottom_fifteen_percent"
   ]
  },
  {
   "cell_type": "code",
   "execution_count": 27,
   "id": "c4f8594f",
   "metadata": {},
   "outputs": [],
   "source": [
    "# 2c). An eccentric alumnus left scholarship money for students in the third decile from the bottom of \n",
    "# their class. Determine the range of the third decile. Would a student with a 2.8 grade point average \n",
    "# qualify for this scholarship?*********************\n",
    "\n",
    "\n",
    "\n",
    "\n"
   ]
  },
  {
   "cell_type": "code",
   "execution_count": 28,
   "id": "ff3a07ba",
   "metadata": {},
   "outputs": [
    {
     "data": {
      "text/plain": [
       "3.2023469250588246"
      ]
     },
     "execution_count": 28,
     "metadata": {},
     "output_type": "execute_result"
    }
   ],
   "source": [
    "# 2d). If I have a GPA of 3.5, what percentile am I in?******************\n",
    "\n",
    "percentile_value = gpa.ppf(0.75)\n",
    "\n",
    "percentile_value"
   ]
  },
  {
   "cell_type": "code",
   "execution_count": null,
   "id": "b8b2bdd1",
   "metadata": {},
   "outputs": [],
   "source": []
  },
  {
   "cell_type": "markdown",
   "id": "8f6a4d39",
   "metadata": {},
   "source": [
    "\n",
    "3). A marketing website has an average click-through rate of 2%. One day they observe 4326 visitors and 97 \n",
    "click-throughs. How likely is it that this many people or more click through?"
   ]
  },
  {
   "cell_type": "code",
   "execution_count": 29,
   "id": "ff338cc0",
   "metadata": {},
   "outputs": [
    {
     "data": {
      "text/plain": [
       "0.02194293045437555"
      ]
     },
     "execution_count": 29,
     "metadata": {},
     "output_type": "execute_result"
    }
   ],
   "source": [
    "stats.binom(4326, 0.02).pmf(97)"
   ]
  },
  {
   "cell_type": "markdown",
   "id": "d2eeeeb4",
   "metadata": {},
   "source": [
    "4). You are working on some statistics homework consisting of 100 questions where all of the answers are a \n",
    "probability rounded to the hundreths place. Looking to save time, you put down random probabilities as \n",
    "the answer to each question.\n",
    "\n",
    "What is the probability that at least one of your first 60 answers is correct?\n",
    "\n"
   ]
  },
  {
   "cell_type": "code",
   "execution_count": 177,
   "id": "c5a114f9",
   "metadata": {},
   "outputs": [
    {
     "data": {
      "text/plain": [
       "6.129908671335171e-95"
      ]
     },
     "execution_count": 177,
     "metadata": {},
     "output_type": "execute_result"
    }
   ],
   "source": [
    "stats.binom(100, 0.01).sf(60)"
   ]
  },
  {
   "cell_type": "markdown",
   "id": "85eb9388",
   "metadata": {},
   "source": [
    "5). The codeup staff tends to get upset when the student break area is not cleaned up. Suppose that \n",
    "there's a 3% chance that any one student cleans the break area when they visit it, and, on any \n",
    "given day, about 90% of the 3 active cohorts of 22 students visit the break area. How likely is \n",
    "it that the break area gets cleaned up each day? How likely is it that it goes two days without \n",
    "getting cleaned up? All week?"
   ]
  },
  {
   "cell_type": "code",
   "execution_count": 31,
   "id": "b03ce24b",
   "metadata": {},
   "outputs": [
    {
     "data": {
      "text/plain": [
       "0.30086868013300505"
      ]
     },
     "execution_count": 31,
     "metadata": {},
     "output_type": "execute_result"
    }
   ],
   "source": [
    "#5a). How likely is it that the break area gets cleaned up each day?\n",
    "\n",
    "visits_per_day = (0.9 * (3 *22))\n",
    "\n",
    "each_day = stats.binom(visits_per_day, 0.03).pmf(1)\n",
    "\n",
    "each_day"
   ]
  },
  {
   "cell_type": "code",
   "execution_count": 32,
   "id": "44a0f084",
   "metadata": {},
   "outputs": [
    {
     "data": {
      "text/plain": [
       "0.27171233381083754"
      ]
     },
     "execution_count": 32,
     "metadata": {},
     "output_type": "execute_result"
    }
   ],
   "source": [
    "# 5b). How likely is it that it goes two days without getting cleaned up?\n",
    "two_days = stats.binom(visits_per_day, 0.03).pmf(2)\n",
    "\n",
    "two_days"
   ]
  },
  {
   "cell_type": "code",
   "execution_count": 33,
   "id": "9229d467",
   "metadata": {},
   "outputs": [
    {
     "name": "stdout",
     "output_type": "stream",
     "text": [
      "0.024027435762619603\n"
     ]
    }
   ],
   "source": [
    "# 5c). All week?\n",
    "\n",
    "all_week = stats.binom(visits_per_day, 0.03).pmf(5)\n",
    "\n",
    "print(all_week)\n"
   ]
  },
  {
   "cell_type": "markdown",
   "id": "586130c6",
   "metadata": {},
   "source": [
    "\n",
    "6). You want to get lunch at La Panaderia, but notice that the line is usually very long at lunchtime. After \n",
    "several weeks of careful observation, you notice that the average number of people in line when your lunch \n",
    "break starts is normally distributed with a mean of 15 and standard deviation of 3. If it takes 2 minutes \n",
    "for each person to order, and 10 minutes from ordering to getting your food, what is the likelihood that \n",
    "you have at least 15 minutes left to eat your food before you have to go back to class? Assume you have \n",
    "one hour for lunch, and ignore travel time to and from La Panaderia."
   ]
  },
  {
   "cell_type": "code",
   "execution_count": 175,
   "id": "0ed6539d",
   "metadata": {},
   "outputs": [
    {
     "data": {
      "text/plain": [
       "17.023469250588246"
      ]
     },
     "execution_count": 175,
     "metadata": {},
     "output_type": "execute_result"
    }
   ],
   "source": [
    "num_ppl_mean = 15\n",
    "num_ppl_std = 3\n",
    "\n",
    "# mean_time = 15 * 2\n",
    "\n",
    "lunch_time = stats.norm(num_ppl_mean,num_ppl_std).isf(15/60)\n",
    "\n",
    "lunch_time"
   ]
  },
  {
   "cell_type": "markdown",
   "id": "6edc9b6a",
   "metadata": {},
   "source": [
    "\n",
    "7). Connect to the employees database and find the average salary of current employees, along with the standard \n",
    "deviation. For the following questions, calculate the answer based on modeling the employees salaries with a \n",
    "normal distribution defined by the calculated mean and standard deviation then compare this answer to the actual \n",
    "values present in the salaries dataset.\n",
    "\n",
    "\n",
    "\n",
    "a). What percent of employees earn less than 60,000?\n",
    "b). What percent of employees earn more than 95,000?\n",
    "c). What percent of employees earn between 65,000 and 80,000?\n",
    "d). What do the top 5% of employees make?"
   ]
  },
  {
   "cell_type": "code",
   "execution_count": 192,
   "id": "f2f3e282",
   "metadata": {},
   "outputs": [],
   "source": [
    "from env import host, user, password\n",
    "\n",
    "\n",
    "url = f'mysql+pymysql://{user}:{password}@{host}/employees'\n",
    "\n",
    "\n",
    "salaries_query = 'SELECT * FROM salaries LIMIT 5 OFFSET 50'\n",
    "\n",
    "\n",
    "pd.read_sql(salaries_query, url)"
   ]
  },
  {
   "cell_type": "code",
   "execution_count": 194,
   "id": "5815d627",
   "metadata": {},
   "outputs": [
    {
     "data": {
      "text/html": [
       "<div>\n",
       "<style scoped>\n",
       "    .dataframe tbody tr th:only-of-type {\n",
       "        vertical-align: middle;\n",
       "    }\n",
       "\n",
       "    .dataframe tbody tr th {\n",
       "        vertical-align: top;\n",
       "    }\n",
       "\n",
       "    .dataframe thead th {\n",
       "        text-align: right;\n",
       "    }\n",
       "</style>\n",
       "<table border=\"1\" class=\"dataframe\">\n",
       "  <thead>\n",
       "    <tr style=\"text-align: right;\">\n",
       "      <th></th>\n",
       "      <th>emp_no</th>\n",
       "      <th>salary</th>\n",
       "      <th>from_date</th>\n",
       "      <th>to_date</th>\n",
       "    </tr>\n",
       "  </thead>\n",
       "  <tbody>\n",
       "    <tr>\n",
       "      <th>0</th>\n",
       "      <td>10005</td>\n",
       "      <td>85076</td>\n",
       "      <td>1993-09-11</td>\n",
       "      <td>1994-09-11</td>\n",
       "    </tr>\n",
       "    <tr>\n",
       "      <th>1</th>\n",
       "      <td>10005</td>\n",
       "      <td>86050</td>\n",
       "      <td>1994-09-11</td>\n",
       "      <td>1995-09-11</td>\n",
       "    </tr>\n",
       "    <tr>\n",
       "      <th>2</th>\n",
       "      <td>10005</td>\n",
       "      <td>88448</td>\n",
       "      <td>1995-09-11</td>\n",
       "      <td>1996-09-10</td>\n",
       "    </tr>\n",
       "    <tr>\n",
       "      <th>3</th>\n",
       "      <td>10005</td>\n",
       "      <td>88063</td>\n",
       "      <td>1996-09-10</td>\n",
       "      <td>1997-09-10</td>\n",
       "    </tr>\n",
       "    <tr>\n",
       "      <th>4</th>\n",
       "      <td>10005</td>\n",
       "      <td>89724</td>\n",
       "      <td>1997-09-10</td>\n",
       "      <td>1998-09-10</td>\n",
       "    </tr>\n",
       "  </tbody>\n",
       "</table>\n",
       "</div>"
      ],
      "text/plain": [
       "   emp_no  salary   from_date     to_date\n",
       "0   10005   85076  1993-09-11  1994-09-11\n",
       "1   10005   86050  1994-09-11  1995-09-11\n",
       "2   10005   88448  1995-09-11  1996-09-10\n",
       "3   10005   88063  1996-09-10  1997-09-10\n",
       "4   10005   89724  1997-09-10  1998-09-10"
      ]
     },
     "execution_count": 194,
     "metadata": {},
     "output_type": "execute_result"
    }
   ],
   "source": [
    "df = pd.DataFrame(pd.read_sql(salaries_query, url))\n",
    "\n",
    "df"
   ]
  },
  {
   "cell_type": "code",
   "execution_count": 199,
   "id": "78617db3",
   "metadata": {},
   "outputs": [
    {
     "data": {
      "text/plain": [
       "87472.2"
      ]
     },
     "execution_count": 199,
     "metadata": {},
     "output_type": "execute_result"
    }
   ],
   "source": [
    "mean_salaries = df.salary.mean()\n",
    "mean_salaries"
   ]
  },
  {
   "cell_type": "code",
   "execution_count": 203,
   "id": "2d4d9197",
   "metadata": {},
   "outputs": [
    {
     "data": {
      "text/plain": [
       "1879.9109553380447"
      ]
     },
     "execution_count": 203,
     "metadata": {},
     "output_type": "execute_result"
    }
   ],
   "source": [
    "std_salaries = df.salary.std()\n",
    "std_salaries"
   ]
  },
  {
   "cell_type": "code",
   "execution_count": 214,
   "id": "c69322c7",
   "metadata": {},
   "outputs": [
    {
     "data": {
      "text/plain": [
       "1.1507720274561179e-48"
      ]
     },
     "execution_count": 214,
     "metadata": {},
     "output_type": "execute_result"
    }
   ],
   "source": [
    "# a). What percent of employees earn less than 60,000? b).\n",
    "\n",
    "sal_below_sixty_thousand = stats.norm(mean_salaries, std_salaries).cdf(60000)\n",
    "\n",
    "sal_below_sixty_thousand\n"
   ]
  },
  {
   "cell_type": "code",
   "execution_count": 219,
   "id": "caa9749d",
   "metadata": {},
   "outputs": [
    {
     "data": {
      "text/plain": [
       "3.109561729877341e-05"
      ]
     },
     "execution_count": 219,
     "metadata": {},
     "output_type": "execute_result"
    }
   ],
   "source": [
    "\n",
    "# b). What percent of employees earn more than 95,000? \n",
    "\n",
    "sal_above_ninety_five_thousand = stats.norm(mean_salaries, std_salaries).sf(95000)\n",
    "\n",
    "sal_above_ninety_five_thousand"
   ]
  },
  {
   "cell_type": "code",
   "execution_count": 240,
   "id": "9bdf0261",
   "metadata": {},
   "outputs": [
    {
     "data": {
      "text/plain": [
       "array([], dtype=float64)"
      ]
     },
     "execution_count": 240,
     "metadata": {},
     "output_type": "execute_result"
    }
   ],
   "source": [
    "# c). What percent of employees earn between 65,000 and 80,000? d). \n",
    "data_range = df.salary[(df.salary >= 65000) & (df.salary <= 80000)]\n",
    "\n",
    "sal_between_range = stats.norm(mean_salaries, std_salaries).ppf(data_range)\n",
    "\n",
    "sal_between_range"
   ]
  },
  {
   "cell_type": "code",
   "execution_count": 244,
   "id": "e8cca163",
   "metadata": {},
   "outputs": [
    {
     "data": {
      "text/plain": [
       "90564.3783532336"
      ]
     },
     "execution_count": 244,
     "metadata": {},
     "output_type": "execute_result"
    }
   ],
   "source": [
    "# d). What do the top 5% of employees make?\n",
    "\n",
    "sal_above_five_percent = stats.norm(mean_salaries, std_salaries).isf(0.05)\n",
    "\n",
    "sal_above_five_percent\n",
    "\n"
   ]
  },
  {
   "cell_type": "markdown",
   "id": "4cec1dc8",
   "metadata": {},
   "source": [
    "\n",
    "## Hint If you're looking at this exercise and wondering \"How do I get pandas to talk the database, again?\", remember that you'll need 3 things: your .gitignore, your env.py, and to use pd.read_sql.\n",
    "\n",
    "## Be sure to run the following 2 commands from your terminal: 1. cp ~/codeup-data-science/numpy-pandas-visualization-exercises/.gitignore ~/codeup-data-science/statistics-exercises to ensure that your stats repo has a known-good gitignore 2. cp ~/codeup-data-science/numpy-pandas-exercises/env.py ~/codeup-data-science/statistics-exercises to ensure that pandas will have access to your db credentials."
   ]
  },
  {
   "cell_type": "code",
   "execution_count": null,
   "id": "be792878",
   "metadata": {},
   "outputs": [],
   "source": []
  },
  {
   "cell_type": "code",
   "execution_count": null,
   "id": "40751d2d",
   "metadata": {},
   "outputs": [],
   "source": []
  },
  {
   "cell_type": "code",
   "execution_count": null,
   "id": "2090f9e8",
   "metadata": {},
   "outputs": [],
   "source": []
  },
  {
   "cell_type": "code",
   "execution_count": null,
   "id": "762d2535",
   "metadata": {},
   "outputs": [],
   "source": []
  },
  {
   "cell_type": "code",
   "execution_count": null,
   "id": "7afd2c7f",
   "metadata": {},
   "outputs": [],
   "source": []
  },
  {
   "cell_type": "code",
   "execution_count": null,
   "id": "ffd7351e",
   "metadata": {},
   "outputs": [],
   "source": []
  },
  {
   "cell_type": "code",
   "execution_count": null,
   "id": "72073cbe",
   "metadata": {},
   "outputs": [],
   "source": []
  },
  {
   "cell_type": "code",
   "execution_count": null,
   "id": "b1bb2737",
   "metadata": {},
   "outputs": [],
   "source": []
  },
  {
   "cell_type": "code",
   "execution_count": null,
   "id": "8e19d7da",
   "metadata": {},
   "outputs": [],
   "source": []
  },
  {
   "cell_type": "code",
   "execution_count": null,
   "id": "5feba52c",
   "metadata": {},
   "outputs": [],
   "source": []
  },
  {
   "cell_type": "code",
   "execution_count": null,
   "id": "3ca22eb6",
   "metadata": {},
   "outputs": [],
   "source": []
  }
 ],
 "metadata": {
  "kernelspec": {
   "display_name": "Python 3 (ipykernel)",
   "language": "python",
   "name": "python3"
  },
  "language_info": {
   "codemirror_mode": {
    "name": "ipython",
    "version": 3
   },
   "file_extension": ".py",
   "mimetype": "text/x-python",
   "name": "python",
   "nbconvert_exporter": "python",
   "pygments_lexer": "ipython3",
   "version": "3.9.7"
  }
 },
 "nbformat": 4,
 "nbformat_minor": 5
}
