{
 "cells": [
  {
   "cell_type": "markdown",
   "id": "8358ae27",
   "metadata": {},
   "source": [
    "# Statistics: Overview\n"
   ]
  },
  {
   "cell_type": "code",
   "execution_count": null,
   "id": "0d757529",
   "metadata": {},
   "outputs": [],
   "source": []
  },
  {
   "cell_type": "code",
   "execution_count": 8,
   "id": "99d5783b",
   "metadata": {},
   "outputs": [
    {
     "ename": "ModuleNotFoundError",
     "evalue": "No module named 'wrangle_telco'",
     "output_type": "error",
     "traceback": [
      "\u001b[0;31m---------------------------------------------------------------------------\u001b[0m",
      "\u001b[0;31mModuleNotFoundError\u001b[0m                       Traceback (most recent call last)",
      "\u001b[0;32m/var/folders/b2/3fdswr7x4v5fhdt54wpcfmdw0000gn/T/ipykernel_5220/5786321.py\u001b[0m in \u001b[0;36m<module>\u001b[0;34m\u001b[0m\n\u001b[1;32m     14\u001b[0m \u001b[0;32mfrom\u001b[0m \u001b[0menv\u001b[0m \u001b[0;32mimport\u001b[0m \u001b[0mhost\u001b[0m\u001b[0;34m,\u001b[0m \u001b[0muser\u001b[0m\u001b[0;34m,\u001b[0m \u001b[0mpassword\u001b[0m\u001b[0;34m\u001b[0m\u001b[0;34m\u001b[0m\u001b[0m\n\u001b[1;32m     15\u001b[0m \u001b[0;34m\u001b[0m\u001b[0m\n\u001b[0;32m---> 16\u001b[0;31m \u001b[0;32mfrom\u001b[0m \u001b[0mwrangle_telco\u001b[0m \u001b[0;32mimport\u001b[0m \u001b[0mwrangle_telco\u001b[0m\u001b[0;34m\u001b[0m\u001b[0;34m\u001b[0m\u001b[0m\n\u001b[0m\u001b[1;32m     17\u001b[0m \u001b[0;32mfrom\u001b[0m \u001b[0mexplore\u001b[0m \u001b[0;32mimport\u001b[0m \u001b[0mcorrelation_exploration\u001b[0m\u001b[0;34m\u001b[0m\u001b[0;34m\u001b[0m\u001b[0m\n\u001b[1;32m     18\u001b[0m \u001b[0;34m\u001b[0m\u001b[0m\n",
      "\u001b[0;31mModuleNotFoundError\u001b[0m: No module named 'wrangle_telco'"
     ]
    }
   ],
   "source": [
    "\n",
    "\n",
    "import pandas as pd\n",
    "import numpy as np\n",
    "\n",
    "import matplotlib.pyplot as plt\n",
    "import seaborn as sns\n",
    "\n",
    "from math import sqrt\n",
    "from scipy import stats\n",
    "\n",
    "np.random.seed(123)\n",
    "\n",
    "from pydataset import data\n",
    "\n",
    "from env import host, user, password\n",
    "\n",
    "from wrangle_telco import wrangle_telco\n",
    "from explore import correlation_exploration\n",
    "\n",
    "import viz"
   ]
  },
  {
   "cell_type": "code",
   "execution_count": 23,
   "id": "1c9d8010",
   "metadata": {},
   "outputs": [
    {
     "data": {
      "text/plain": [
       "Index(['customer_id', 'gender', 'senior_citizen', 'partner', 'dependents',\n",
       "       'tenure', 'phone_service', 'multiple_lines', 'internet_service_type_id',\n",
       "       'online_security', 'online_backup', 'device_protection', 'tech_support',\n",
       "       'streaming_tv', 'streaming_movies', 'contract_type_id',\n",
       "       'paperless_billing', 'payment_type_id', 'monthly_charges',\n",
       "       'total_charges', 'churn'],\n",
       "      dtype='object')"
      ]
     },
     "execution_count": 23,
     "metadata": {},
     "output_type": "execute_result"
    }
   ],
   "source": [
    "import env\n",
    "\n",
    "db_url = f'mysql+pymysql://{env.user}:{env.password}@{env.host}/telco_churn'\n",
    "df = pd.read_sql('SELECT * FROM customers', db_url)\n",
    "\n",
    "df.columns"
   ]
  },
  {
   "cell_type": "code",
   "execution_count": null,
   "id": "4d483ed8",
   "metadata": {},
   "outputs": [],
   "source": [
    "# "
   ]
  },
  {
   "cell_type": "code",
   "execution_count": 19,
   "id": "2940eb90",
   "metadata": {},
   "outputs": [
    {
     "data": {
      "text/plain": [
       "array([ 1,  2,  3,  4,  5,  6,  7,  8,  9, 10])"
      ]
     },
     "execution_count": 19,
     "metadata": {},
     "output_type": "execute_result"
    }
   ],
   "source": [
    "x = np.array([1,2,3,4,5,6,7,8,9,10])\n",
    "x"
   ]
  },
  {
   "cell_type": "code",
   "execution_count": 22,
   "id": "5e031a89",
   "metadata": {},
   "outputs": [
    {
     "data": {
      "text/plain": [
       "4.5"
      ]
     },
     "execution_count": 22,
     "metadata": {},
     "output_type": "execute_result"
    }
   ],
   "source": [
    "(np.quantile(x, 0.75) - np.quantile(x, 0.25))"
   ]
  },
  {
   "cell_type": "markdown",
   "id": "55df3639",
   "metadata": {},
   "source": [
    "# Simulations "
   ]
  },
  {
   "cell_type": "code",
   "execution_count": 24,
   "id": "943f9aa8",
   "metadata": {},
   "outputs": [],
   "source": [
    "%matplotlib inline\n",
    "import numpy as np\n",
    "import pandas as pd\n",
    "\n",
    "import viz # curriculum example visualizations\n",
    "\n",
    "np.random.seed(29)\n"
   ]
  },
  {
   "cell_type": "code",
   "execution_count": 45,
   "id": "45ada4f1",
   "metadata": {},
   "outputs": [
    {
     "data": {
      "text/plain": [
       "9.855562748880159"
      ]
     },
     "execution_count": 45,
     "metadata": {},
     "output_type": "execute_result"
    }
   ],
   "source": [
    "x = np.random.normal(10)\n",
    "x"
   ]
  },
  {
   "cell_type": "code",
   "execution_count": 54,
   "id": "63bba7fc",
   "metadata": {},
   "outputs": [
    {
     "data": {
      "text/plain": [
       "array([2.33333333, 4.        , 2.66666667, ..., 4.        , 3.66666667,\n",
       "       4.66666667])"
      ]
     },
     "execution_count": 54,
     "metadata": {},
     "output_type": "execute_result"
    }
   ],
   "source": [
    "rows = 5000\n",
    "\n",
    "trials = 3\n",
    "\n",
    "dice = 3\n",
    "\n",
    "c = np.random.choice([1,2,3,4,5,6], rows * dice).reshape(rows, trials).mean(axis=1)\n",
    "c"
   ]
  },
  {
   "cell_type": "code",
   "execution_count": null,
   "id": "4351230f",
   "metadata": {},
   "outputs": [],
   "source": []
  }
 ],
 "metadata": {
  "kernelspec": {
   "display_name": "Python 3 (ipykernel)",
   "language": "python",
   "name": "python3"
  },
  "language_info": {
   "codemirror_mode": {
    "name": "ipython",
    "version": 3
   },
   "file_extension": ".py",
   "mimetype": "text/x-python",
   "name": "python",
   "nbconvert_exporter": "python",
   "pygments_lexer": "ipython3",
   "version": "3.9.7"
  }
 },
 "nbformat": 4,
 "nbformat_minor": 5
}
