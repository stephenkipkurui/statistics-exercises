{
 "cells": [
  {
   "cell_type": "code",
   "execution_count": 2,
   "id": "7e2c7cc0",
   "metadata": {},
   "outputs": [],
   "source": [
    "import numpy as np\n",
    "import pandas as pd\n",
    "\n",
    "from numpy import random"
   ]
  },
  {
   "cell_type": "markdown",
   "id": "197197af",
   "metadata": {},
   "source": [
    "#------------------------------Statistics Exercises-----------------------------\n",
    "\n",
    "Within your codeup-data-science directory, create a directory named statistics-exercises. This will be where you do your work for this module. Create a repository on GitHub with the same name, and link your local repository to GitHub.\n",
    "\n",
    "Do your work for this exercise in either a python file named simulation.py or a jupyter notebook named simulation.ipynb.\n",
    "\n",
    "\n",
    "1). How likely is it that you roll doubles when rolling two dice?\n"
   ]
  },
  {
   "cell_type": "code",
   "execution_count": 2,
   "id": "252feb7c",
   "metadata": {},
   "outputs": [
    {
     "data": {
      "text/html": [
       "<div>\n",
       "<style scoped>\n",
       "    .dataframe tbody tr th:only-of-type {\n",
       "        vertical-align: middle;\n",
       "    }\n",
       "\n",
       "    .dataframe tbody tr th {\n",
       "        vertical-align: top;\n",
       "    }\n",
       "\n",
       "    .dataframe thead th {\n",
       "        text-align: right;\n",
       "    }\n",
       "</style>\n",
       "<table border=\"1\" class=\"dataframe\">\n",
       "  <thead>\n",
       "    <tr style=\"text-align: right;\">\n",
       "      <th></th>\n",
       "      <th>A</th>\n",
       "      <th>B</th>\n",
       "    </tr>\n",
       "  </thead>\n",
       "  <tbody>\n",
       "    <tr>\n",
       "      <th>0</th>\n",
       "      <td>2</td>\n",
       "      <td>3</td>\n",
       "    </tr>\n",
       "    <tr>\n",
       "      <th>1</th>\n",
       "      <td>3</td>\n",
       "      <td>3</td>\n",
       "    </tr>\n",
       "    <tr>\n",
       "      <th>2</th>\n",
       "      <td>4</td>\n",
       "      <td>4</td>\n",
       "    </tr>\n",
       "    <tr>\n",
       "      <th>3</th>\n",
       "      <td>2</td>\n",
       "      <td>5</td>\n",
       "    </tr>\n",
       "    <tr>\n",
       "      <th>4</th>\n",
       "      <td>4</td>\n",
       "      <td>2</td>\n",
       "    </tr>\n",
       "    <tr>\n",
       "      <th>5</th>\n",
       "      <td>2</td>\n",
       "      <td>2</td>\n",
       "    </tr>\n",
       "  </tbody>\n",
       "</table>\n",
       "</div>"
      ],
      "text/plain": [
       "   A  B\n",
       "0  2  3\n",
       "1  3  3\n",
       "2  4  4\n",
       "3  2  5\n",
       "4  4  2\n",
       "5  2  2"
      ]
     },
     "execution_count": 2,
     "metadata": {},
     "output_type": "execute_result"
    }
   ],
   "source": [
    "dice_roll = 2\n",
    "\n",
    "# doubles = []\n",
    "\n",
    "# dice1 = [1,2,3,4,5,6]\n",
    "# dice2 = [1,2,3,4,5,6]\n",
    "\n",
    "dice = random.randint(1, 6, size=(6, dice_roll))\n",
    "\n",
    "\n",
    "doubles = pd.DataFrame(dice)\n",
    "doubles.columns = [\"A\",\"B\"]\n",
    "\n",
    "\n",
    "doubles\n",
    "\n",
    "# doubles[doubles.columns[doubles.iloc[0] == doubles.iloc[1]]]\n",
    "\n",
    "\n"
   ]
  },
  {
   "cell_type": "markdown",
   "id": "b8cac210",
   "metadata": {},
   "source": [
    "\n",
    "2). If you flip 8 coins, what is the probability of getting exactly 3 heads? What is \n",
    "the probability of getting more than 3 heads?"
   ]
  },
  {
   "cell_type": "code",
   "execution_count": 3,
   "id": "beec0972",
   "metadata": {},
   "outputs": [
    {
     "name": "stdout",
     "output_type": "stream",
     "text": [
      "[['Head']\n",
      " ['Head']\n",
      " ['Head']\n",
      " ['Head']\n",
      " ['Head']\n",
      " ['Head']\n",
      " ['Head']\n",
      " ['Tail']]\n"
     ]
    },
    {
     "data": {
      "text/plain": [
       "0.375"
      ]
     },
     "execution_count": 3,
     "metadata": {},
     "output_type": "execute_result"
    }
   ],
   "source": [
    "\n",
    "coins = 8\n",
    "\n",
    "heads = []\n",
    "\n",
    "for i in range(coins):\n",
    "    \n",
    "    flips = random.choice([\"Head\",\"Tail\"], size=(coins, 1))\n",
    "    \n",
    "    heads_count = 0\n",
    "    \n",
    "    for coin_flip in flips:\n",
    "        \n",
    "        if coin_flip == 'Head':\n",
    "            \n",
    "            heads_count += 1\n",
    "            \n",
    "    heads.append(heads_count)\n",
    "    \n",
    "print(flips)\n",
    "\n",
    "\n",
    "exact_three_heads = [1 if np.random == 3 else 0 for np.random in heads]\n",
    "\n",
    "sum(exact_three_heads) / len(exact_three_heads)\n",
    "    \n"
   ]
  },
  {
   "cell_type": "code",
   "execution_count": null,
   "id": "cd166334",
   "metadata": {},
   "outputs": [],
   "source": [
    "# Getting 3 or more heads\n",
    "\n",
    "print(flips)\n",
    "\n",
    "\n",
    "three_or_more_heads = [1 if np.random >= 3 else 0 for np.random in heads]\n",
    "\n",
    "sum(three_or_more_heads) / len(three_or_more_heads)\n",
    "\n"
   ]
  },
  {
   "cell_type": "markdown",
   "id": "2ae558de",
   "metadata": {},
   "source": [
    "\n",
    "3). There are approximitely 3 web development cohorts for every 1 data science cohort at Codeup. Assuming that Codeup randomly selects an alumni to put on a billboard, what are the odds that the two billboards I drive \n",
    "past both have data science students on them?"
   ]
  },
  {
   "cell_type": "code",
   "execution_count": 12,
   "id": "fe441b88",
   "metadata": {},
   "outputs": [
    {
     "name": "stdout",
     "output_type": "stream",
     "text": [
      "Number of Web and Data Science Students at CodeUp: 50\n",
      "[0, 1, 2, 3, 4, 5, 6, 7, 8, 9, 10, 11, 12]\n",
      "5.653846153846154\n"
     ]
    }
   ],
   "source": [
    "\n",
    "boards = 2\n",
    "\n",
    "students = int(input(\"Number of Web and Data Science Students at CodeUp: \"))\n",
    "\n",
    "web = students * (3/4)\n",
    "\n",
    "data = students * (1/4)\n",
    "\n",
    "ds = []\n",
    "\n",
    "random_students = random.randint(1, students + 1)\n",
    "    \n",
    "for x in range(random_students):\n",
    "        \n",
    "    if x <= data:\n",
    "        \n",
    "        ds.append(x)\n",
    "            \n",
    "        x += 1\n",
    "        \n",
    "\n",
    "\n",
    "print(ds)\n",
    "\n",
    "two_random_ds = random.choice(ds, size=(len(ds), 2)).mean()\n",
    "\n",
    "print(two_random_ds)\n",
    "\n",
    "\n",
    "\n"
   ]
  },
  {
   "cell_type": "markdown",
   "id": "8c344f25",
   "metadata": {},
   "source": [
    "4). Codeup students buy, on average, 3 poptart packages with a standard deviation of 1.5 a day from the snack vending machine. If on monday the machine is restocked with 17 poptart packages, how likely is it that I will be able to buy some poptarts on Friday afternoon? (Remember, if you have mean and standard \n",
    "deviation, use the np.random.normal)"
   ]
  },
  {
   "cell_type": "code",
   "execution_count": null,
   "id": "14b5036e",
   "metadata": {},
   "outputs": [],
   "source": []
  },
  {
   "cell_type": "markdown",
   "id": "a8c28992",
   "metadata": {},
   "source": [
    "\n",
    "5). Compare Heights\n",
    "\n",
    "a). Men have an average height of 178 cm and standard deviation of 8cm.\n",
    "\n",
    "\n",
    "b). Women have a mean of 170, sd = 6cm.\n",
    "\n",
    "\n",
    "c). Since you have means and standard deviations, you can use np.random.normal to generate observations.\n",
    "\n",
    "\n",
    "d). If a man and woman are chosen at random, P(woman taller than man)?\n",
    "\n"
   ]
  },
  {
   "cell_type": "code",
   "execution_count": null,
   "id": "736a98a8",
   "metadata": {},
   "outputs": [],
   "source": []
  },
  {
   "cell_type": "markdown",
   "id": "ab4e33a9",
   "metadata": {},
   "source": [
    "6). When installing anaconda on a student's computer, there's a 1 in 250 chance that the download is corrupted and the installation fails. What are the odds that after having 50 students download anaconda, no one has \n",
    "an installation issue? 100 students?\n",
    "\n",
    "-> What is the probability that we observe an installation issue within the first 150 students that download anaconda?\n",
    "\n",
    "-> How likely is it that 450 students all download anaconda without an issue?"
   ]
  },
  {
   "cell_type": "code",
   "execution_count": null,
   "id": "c78a5572",
   "metadata": {},
   "outputs": [],
   "source": []
  },
  {
   "cell_type": "markdown",
   "id": "1703547a",
   "metadata": {},
   "source": [
    "\n",
    "7). There's a 70% chance on any given day that there will be at least one food truck at Travis Park. However, you haven't seen a food truck there in 3 days. How unlikely is this?\n",
    "\n",
    "-> How likely is it that a food truck will show up sometime this week?"
   ]
  },
  {
   "cell_type": "code",
   "execution_count": null,
   "id": "4df7ef0f",
   "metadata": {},
   "outputs": [],
   "source": []
  },
  {
   "cell_type": "markdown",
   "id": "0f35f8dc",
   "metadata": {},
   "source": [
    "8). If 23 people are in the same room, what are the odds that two of them share a birthday? What if it's 20 people? 40?"
   ]
  },
  {
   "cell_type": "code",
   "execution_count": null,
   "id": "19404802",
   "metadata": {},
   "outputs": [],
   "source": []
  },
  {
   "cell_type": "code",
   "execution_count": null,
   "id": "62c4410a",
   "metadata": {},
   "outputs": [],
   "source": []
  },
  {
   "cell_type": "code",
   "execution_count": null,
   "id": "9f4ad5de",
   "metadata": {},
   "outputs": [],
   "source": []
  },
  {
   "cell_type": "code",
   "execution_count": null,
   "id": "16d6b7f0",
   "metadata": {},
   "outputs": [],
   "source": []
  }
 ],
 "metadata": {
  "kernelspec": {
   "display_name": "Python 3 (ipykernel)",
   "language": "python",
   "name": "python3"
  },
  "language_info": {
   "codemirror_mode": {
    "name": "ipython",
    "version": 3
   },
   "file_extension": ".py",
   "mimetype": "text/x-python",
   "name": "python",
   "nbconvert_exporter": "python",
   "pygments_lexer": "ipython3",
   "version": "3.9.7"
  }
 },
 "nbformat": 4,
 "nbformat_minor": 5
}
