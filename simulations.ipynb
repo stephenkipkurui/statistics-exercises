{
 "cells": [
  {
   "cell_type": "code",
   "execution_count": 1,
   "id": "7e2c7cc0",
   "metadata": {},
   "outputs": [],
   "source": [
    "import numpy as np\n",
    "\n",
    "import pandas as pd\n",
    "\n"
   ]
  },
  {
   "cell_type": "markdown",
   "id": "197197af",
   "metadata": {},
   "source": [
    "#------------------------------Statistics Exercises-----------------------------\n",
    "\n",
    "Within your codeup-data-science directory, create a directory named statistics-exercises. This will be where you do your work for this module. Create a repository on GitHub with the same name, and link your local repository to GitHub.\n",
    "\n",
    "Do your work for this exercise in either a python file named simulation.py or a jupyter notebook named simulation.ipynb.\n",
    "\n",
    "\n",
    "1). How likely is it that you roll doubles when rolling two dice?\n"
   ]
  },
  {
   "cell_type": "code",
   "execution_count": 2,
   "id": "252feb7c",
   "metadata": {},
   "outputs": [
    {
     "data": {
      "text/plain": [
       "0.3333333333333333"
      ]
     },
     "execution_count": 2,
     "metadata": {},
     "output_type": "execute_result"
    }
   ],
   "source": [
    "dice_rolls = 6\n",
    "\n",
    "dice = pd.DataFrame()\n",
    "\n",
    "dice['Roll_A'] = np.random.randint(1, 6, dice_rolls)\n",
    "\n",
    "dice['Roll_B'] = np.random.randint(1, 6, dice_rolls)\n",
    "\n",
    "\n",
    "# dice = np.random.randint(1, 6, dice_roll)\n",
    "\n",
    "# dice['Roll_A'] = pd.DataFrame(dice)\n",
    "\n",
    "# dice['Roll_B'] = pd.DataFrame(dice)\n",
    "\n",
    "(dice.Roll_A == dice.Roll_B).mean()\n",
    "\n"
   ]
  },
  {
   "cell_type": "markdown",
   "id": "b8cac210",
   "metadata": {},
   "source": [
    "\n",
    "2). If you flip 8 coins, what is the probability of getting exactly 3 heads? What is \n",
    "the probability of getting more than 3 heads?"
   ]
  },
  {
   "cell_type": "code",
   "execution_count": 3,
   "id": "beec0972",
   "metadata": {},
   "outputs": [
    {
     "data": {
      "text/plain": [
       "0.375"
      ]
     },
     "execution_count": 3,
     "metadata": {},
     "output_type": "execute_result"
    }
   ],
   "source": [
    "\n",
    "coins = 8\n",
    "\n",
    "heads = []\n",
    "\n",
    "flips = np.random.choice([\"Head\",\"Tail\"], size=(8, 3))\n",
    "\n",
    "heads = (flips == \"Head\").sum(axis = 1)\n",
    "\n",
    "(heads == 3).mean()\n",
    "\n",
    "\n",
    "\n",
    "# for i in range(coins):\n",
    "    \n",
    "#     flips = np.random.choice([\"Head\",\"Tail\"], size=(8, 3))\n",
    "    \n",
    "#     heads_count = 0\n",
    "    \n",
    "#     for coin_flip in flips:\n",
    "        \n",
    "#         if coin_flip == 'Head':\n",
    "            \n",
    "#             heads_count += 1\n",
    "            \n",
    "#     heads.append(heads_count)\n",
    "    \n",
    "# print(flips)\n",
    "\n",
    "# exact_three_heads = [1 if np.random == 3 else 0 for np.random in heads]\n",
    "\n",
    "# sum(exact_three_heads) / len(exact_three_heads)\n",
    "    \n"
   ]
  },
  {
   "cell_type": "code",
   "execution_count": 4,
   "id": "88c55c2c",
   "metadata": {},
   "outputs": [
    {
     "data": {
      "text/plain": [
       "0.0"
      ]
     },
     "execution_count": 4,
     "metadata": {},
     "output_type": "execute_result"
    }
   ],
   "source": [
    "# Getting 3 or more heads\n",
    "\n",
    "(heads > 3).mean()\n"
   ]
  },
  {
   "cell_type": "markdown",
   "id": "2ae558de",
   "metadata": {},
   "source": [
    "\n",
    "3). There are approximitely 3 web development cohorts for every 1 data science cohort at Codeup. Assuming that Codeup randomly selects an alumni to put on a billboard, what are the odds that the two billboards I drive \n",
    "past both have data science students on them?"
   ]
  },
  {
   "cell_type": "code",
   "execution_count": 9,
   "id": "fe441b88",
   "metadata": {},
   "outputs": [
    {
     "name": "stdout",
     "output_type": "stream",
     "text": [
      "Number of Web and Data Science Students at CodeUp: 45\n"
     ]
    },
    {
     "data": {
      "text/plain": [
       "0.022222222222222223"
      ]
     },
     "execution_count": 9,
     "metadata": {},
     "output_type": "execute_result"
    }
   ],
   "source": [
    "\n",
    "boards = 2\n",
    "\n",
    "students = int(input(\"Number of Web and Data Science Students at CodeUp: \"))\n",
    "\n",
    "random_students = np.random.choice(1, students + 1)\n",
    "\n",
    "\n",
    "codeup_students = np.random.choice(['Web', 'Data'], p=[0.75, 0.25], size = (students, boards))\n",
    "    \n",
    "\n",
    "((codeup_students == 'Data').sum(axis=1) ==2).mean()\n"
   ]
  },
  {
   "cell_type": "markdown",
   "id": "8c344f25",
   "metadata": {},
   "source": [
    "4). Codeup students buy, on average, 3 poptart packages with a standard deviation of 1.5 a day from the snack vending machine. If on monday the machine is restocked with 17 poptart packages, how likely is it that I will be able to buy some poptarts on Friday afternoon? (Remember, if you have mean and standard \n",
    "deviation, use the np.random.normal)"
   ]
  },
  {
   "cell_type": "code",
   "execution_count": 13,
   "id": "14b5036e",
   "metadata": {},
   "outputs": [
    {
     "data": {
      "text/plain": [
       "0.8235294117647058"
      ]
     },
     "execution_count": 13,
     "metadata": {},
     "output_type": "execute_result"
    }
   ],
   "source": [
    "buys = np.random.normal(3, 1.5, size =(17, 4)).round()\n",
    "\n",
    "buys = np.where(buys < 0, 0, buys)\n",
    "\n",
    "(buys.sum(axis=1) <=16).mean()\n"
   ]
  },
  {
   "cell_type": "markdown",
   "id": "a8c28992",
   "metadata": {},
   "source": [
    "\n",
    "5). Compare Heights\n",
    "\n",
    "a). Men have an average height of 178 cm and standard deviation of 8cm.\n",
    "\n",
    "\n",
    "b). Women have a mean of 170, sd = 6cm.\n",
    "\n",
    "\n",
    "c). Since you have means and standard deviations, you can use np.random.normal to generate observations.\n",
    "\n",
    "\n",
    "d). If a man and woman are chosen at random, P(woman taller than man)?\n",
    "\n"
   ]
  },
  {
   "cell_type": "code",
   "execution_count": 17,
   "id": "736a98a8",
   "metadata": {},
   "outputs": [
    {
     "data": {
      "text/plain": [
       "0.77"
      ]
     },
     "execution_count": 17,
     "metadata": {},
     "output_type": "execute_result"
    }
   ],
   "source": [
    "men = np.random.normal(178, 8, 100)\n",
    "women = np.random.normal(170, 6, 100)\n",
    "\n",
    "(men > women).mean()"
   ]
  },
  {
   "cell_type": "code",
   "execution_count": 20,
   "id": "64b8b2df",
   "metadata": {},
   "outputs": [
    {
     "data": {
      "text/plain": [
       "0.19"
      ]
     },
     "execution_count": 20,
     "metadata": {},
     "output_type": "execute_result"
    }
   ],
   "source": [
    "# Woman taller\n",
    "\n",
    "men = np.random.normal(178, 8, 100)\n",
    "women = np.random.normal(170, 6, 100)\n",
    "\n",
    "(women > men).mean()"
   ]
  },
  {
   "cell_type": "code",
   "execution_count": 21,
   "id": "6508dae6",
   "metadata": {},
   "outputs": [
    {
     "data": {
      "text/plain": [
       "0.20999999999999996"
      ]
     },
     "execution_count": 21,
     "metadata": {},
     "output_type": "execute_result"
    }
   ],
   "source": [
    "# Alternate method\n",
    "\n",
    "men = np.random.normal(178, 8, 100)\n",
    "women = np.random.normal(170, 6, 100)\n",
    "\n",
    "1- (men > women).mean()"
   ]
  },
  {
   "cell_type": "markdown",
   "id": "ab4e33a9",
   "metadata": {},
   "source": [
    "6). When installing anaconda on a student's computer, there's a 1 in 250 chance that the download is corrupted and the installation fails. What are the odds that after having 50 students download anaconda, no one has \n",
    "an installation issue? 100 students?\n",
    "\n",
    "-> What is the probability that we observe an installation issue within the first 150 students that download anaconda?\n",
    "\n",
    "-> How likely is it that 450 students all download anaconda without an issue?"
   ]
  },
  {
   "cell_type": "code",
   "execution_count": 23,
   "id": "c78a5572",
   "metadata": {},
   "outputs": [
    {
     "data": {
      "text/plain": [
       "0.92"
      ]
     },
     "execution_count": 23,
     "metadata": {},
     "output_type": "execute_result"
    }
   ],
   "source": [
    "students = 50\n",
    "\n",
    "probability = np.random.choice([True, False], p =[1/250, 249/250], size =(100,students))\n",
    "\n",
    "1 - probability.any(axis = 1).mean()"
   ]
  },
  {
   "cell_type": "code",
   "execution_count": 25,
   "id": "e2d10c76",
   "metadata": {},
   "outputs": [
    {
     "data": {
      "text/plain": [
       "0.6699999999999999"
      ]
     },
     "execution_count": 25,
     "metadata": {},
     "output_type": "execute_result"
    }
   ],
   "source": [
    "# 100 Students\n",
    "\n",
    "students = 100\n",
    "\n",
    "probability = np.random.choice([True, False], p =[1/250, 249/250], size =(100,students))\n",
    "\n",
    "1 - probability.any(axis = 1).mean()"
   ]
  },
  {
   "cell_type": "code",
   "execution_count": 28,
   "id": "f56528e8",
   "metadata": {},
   "outputs": [
    {
     "data": {
      "text/plain": [
       "0.42"
      ]
     },
     "execution_count": 28,
     "metadata": {},
     "output_type": "execute_result"
    }
   ],
   "source": [
    "# First 150 students having issues \n",
    "\n",
    "students = 150\n",
    "\n",
    "probability = np.random.choice([True, False], p =[1/250, 249/250], size =(100,students))\n",
    "\n",
    "probability.any(axis = 1).mean()"
   ]
  },
  {
   "cell_type": "code",
   "execution_count": 45,
   "id": "3c4b6b45",
   "metadata": {},
   "outputs": [
    {
     "data": {
      "text/plain": [
       "0.31777777777777777"
      ]
     },
     "execution_count": 45,
     "metadata": {},
     "output_type": "execute_result"
    }
   ],
   "source": [
    "# 450 students\n",
    "\n",
    "students = 450\n",
    "\n",
    "probability = np.random.choice([True, False], p =[1/250, 249/250], size =(100,students))\n",
    "\n",
    "probability.any(axis = 0).mean()"
   ]
  },
  {
   "cell_type": "markdown",
   "id": "1703547a",
   "metadata": {},
   "source": [
    "\n",
    "7). There's a 70% chance on any given day that there will be at least one food truck at Travis Park. However, you haven't seen a food truck there in 3 days. How unlikely is this?\n",
    "\n",
    "-> How likely is it that a food truck will show up sometime this week?"
   ]
  },
  {
   "cell_type": "code",
   "execution_count": 40,
   "id": "4df7ef0f",
   "metadata": {},
   "outputs": [
    {
     "data": {
      "text/plain": [
       "1.0"
      ]
     },
     "execution_count": 40,
     "metadata": {},
     "output_type": "execute_result"
    }
   ],
   "source": [
    "truck = np.random.choice(['Show up','No show'], p=[0.7, 0.3], size=(30, 5))\n",
    "\n",
    "(truck == 'Show up').any(axis = 1).mean()"
   ]
  },
  {
   "cell_type": "markdown",
   "id": "0f35f8dc",
   "metadata": {},
   "source": [
    "8). If 23 people are in the same room, what are the odds that two of them share a birthday? What if it's 20 people? 40?"
   ]
  },
  {
   "cell_type": "code",
   "execution_count": 8,
   "id": "19404802",
   "metadata": {},
   "outputs": [
    {
     "data": {
      "text/plain": [
       "0.55"
      ]
     },
     "execution_count": 8,
     "metadata": {},
     "output_type": "execute_result"
    }
   ],
   "source": [
    "people = 23\n",
    "\n",
    "random_people = np.random.randint(1, 365 + 1, size =(100, people))\n",
    "\n",
    "df_people = pd.DataFrame(random_people)\n",
    "\n",
    "(df_people.apply(lambda b: b.nunique(), axis = 1) < people).mean()\n",
    "\n",
    "\n"
   ]
  },
  {
   "cell_type": "code",
   "execution_count": 7,
   "id": "3acbf792",
   "metadata": {},
   "outputs": [
    {
     "data": {
      "text/plain": [
       "0.47"
      ]
     },
     "execution_count": 7,
     "metadata": {},
     "output_type": "execute_result"
    }
   ],
   "source": [
    "people = 20\n",
    "\n",
    "random_people = np.random.randint(1, 365 + 1, size =(100, people))\n",
    "\n",
    "df_people = pd.DataFrame(random_people)\n",
    "\n",
    "(df_people.apply(lambda b: b.nunique(), axis = 1) < people).mean()\n",
    "\n",
    "\n"
   ]
  },
  {
   "cell_type": "code",
   "execution_count": 9,
   "id": "62c4410a",
   "metadata": {},
   "outputs": [
    {
     "data": {
      "text/plain": [
       "0.91"
      ]
     },
     "execution_count": 9,
     "metadata": {},
     "output_type": "execute_result"
    }
   ],
   "source": [
    "people = 40\n",
    "\n",
    "random_people = np.random.randint(1, 365 + 1, size =(100, people))\n",
    "\n",
    "df_people = pd.DataFrame(random_people)\n",
    "\n",
    "(df_people.apply(lambda b: b.nunique(), axis = 1) < people).mean()\n",
    "\n",
    "\n"
   ]
  },
  {
   "cell_type": "code",
   "execution_count": null,
   "id": "16d6b7f0",
   "metadata": {},
   "outputs": [],
   "source": []
  }
 ],
 "metadata": {
  "kernelspec": {
   "display_name": "Python 3 (ipykernel)",
   "language": "python",
   "name": "python3"
  },
  "language_info": {
   "codemirror_mode": {
    "name": "ipython",
    "version": 3
   },
   "file_extension": ".py",
   "mimetype": "text/x-python",
   "name": "python",
   "nbconvert_exporter": "python",
   "pygments_lexer": "ipython3",
   "version": "3.9.7"
  }
 },
 "nbformat": 4,
 "nbformat_minor": 5
}
