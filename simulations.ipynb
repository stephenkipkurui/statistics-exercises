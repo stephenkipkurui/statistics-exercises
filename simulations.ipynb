{
 "cells": [
  {
   "cell_type": "code",
   "execution_count": 2,
   "id": "cca4aa15",
   "metadata": {},
   "outputs": [],
   "source": [
    "import numpy as np\n",
    "import pandas as pd"
   ]
  },
  {
   "cell_type": "markdown",
   "id": "becd5ad2",
   "metadata": {},
   "source": [
    "#------------------------------Statistics Exercises-----------------------------\n",
    "\n",
    "Within your codeup-data-science directory, create a directory named statistics-exercises. This will be where you do your work for this module. Create a repository on GitHub with the same name, and link your local repository to GitHub.\n",
    "\n",
    "Do your work for this exercise in either a python file named simulation.py or a jupyter notebook named simulation.ipynb.\n",
    "\n",
    "\n",
    "1). How likely is it that you roll doubles when rolling two dice?\n"
   ]
  },
  {
   "cell_type": "code",
   "execution_count": null,
   "id": "6a92164c",
   "metadata": {},
   "outputs": [],
   "source": []
  },
  {
   "cell_type": "markdown",
   "id": "3f76691f",
   "metadata": {},
   "source": [
    "\n",
    "2). If you flip 8 coins, what is the probability of getting exactly 3 heads? What is \n",
    "the probability of getting more than 3 heads?"
   ]
  },
  {
   "cell_type": "code",
   "execution_count": null,
   "id": "3deea3ba",
   "metadata": {},
   "outputs": [],
   "source": []
  },
  {
   "cell_type": "markdown",
   "id": "9dca9cf5",
   "metadata": {},
   "source": [
    "\n",
    "3). There are approximitely 3 web development cohorts for every 1 data science cohort at Codeup. Assuming that Codeup randomly selects an alumni to put on a billboard, what are the odds that the two billboards I drive \n",
    "past both have data science students on them?"
   ]
  },
  {
   "cell_type": "code",
   "execution_count": null,
   "id": "93440d9b",
   "metadata": {},
   "outputs": [],
   "source": []
  },
  {
   "cell_type": "markdown",
   "id": "8a17b4c1",
   "metadata": {},
   "source": [
    "4). Codeup students buy, on average, 3 poptart packages with a standard deviation of 1.5 a day from the snack vending machine. If on monday the machine is restocked with 17 poptart packages, how likely is it that I will be able to buy some poptarts on Friday afternoon? (Remember, if you have mean and standard \n",
    "deviation, use the np.random.normal)"
   ]
  },
  {
   "cell_type": "code",
   "execution_count": null,
   "id": "8b0c3133",
   "metadata": {},
   "outputs": [],
   "source": []
  },
  {
   "cell_type": "markdown",
   "id": "5fdf79e5",
   "metadata": {},
   "source": [
    "\n",
    "5). Compare Heights\n",
    "\n",
    "a). Men have an average height of 178 cm and standard deviation of 8cm.\n",
    "\n",
    "\n",
    "b). Women have a mean of 170, sd = 6cm.\n",
    "\n",
    "\n",
    "c). Since you have means and standard deviations, you can use np.random.normal to generate observations.\n",
    "\n",
    "\n",
    "d). If a man and woman are chosen at random, P(woman taller than man)?\n",
    "\n"
   ]
  },
  {
   "cell_type": "code",
   "execution_count": null,
   "id": "339eb069",
   "metadata": {},
   "outputs": [],
   "source": []
  },
  {
   "cell_type": "markdown",
   "id": "ba97c3fa",
   "metadata": {},
   "source": [
    "6). When installing anaconda on a student's computer, there's a 1 in 250 chance that the download is corrupted and the installation fails. What are the odds that after having 50 students download anaconda, no one has \n",
    "an installation issue? 100 students?\n",
    "\n",
    "-> What is the probability that we observe an installation issue within the first 150 students that download anaconda?\n",
    "\n",
    "-> How likely is it that 450 students all download anaconda without an issue?"
   ]
  },
  {
   "cell_type": "code",
   "execution_count": null,
   "id": "9500904c",
   "metadata": {},
   "outputs": [],
   "source": []
  },
  {
   "cell_type": "markdown",
   "id": "6909fb82",
   "metadata": {},
   "source": [
    "\n",
    "7). There's a 70% chance on any given day that there will be at least one food truck at Travis Park. However, you haven't seen a food truck there in 3 days. How unlikely is this?\n",
    "\n",
    "-> How likely is it that a food truck will show up sometime this week?"
   ]
  },
  {
   "cell_type": "code",
   "execution_count": null,
   "id": "50d85cdc",
   "metadata": {},
   "outputs": [],
   "source": []
  },
  {
   "cell_type": "markdown",
   "id": "c62ab747",
   "metadata": {},
   "source": [
    "8). If 23 people are in the same room, what are the odds that two of them share a birthday? What if it's 20 people? 40?"
   ]
  },
  {
   "cell_type": "code",
   "execution_count": null,
   "id": "4dce3af8",
   "metadata": {},
   "outputs": [],
   "source": []
  },
  {
   "cell_type": "code",
   "execution_count": null,
   "id": "466dfafe",
   "metadata": {},
   "outputs": [],
   "source": []
  },
  {
   "cell_type": "code",
   "execution_count": null,
   "id": "034a7765",
   "metadata": {},
   "outputs": [],
   "source": []
  },
  {
   "cell_type": "code",
   "execution_count": null,
   "id": "d4be543e",
   "metadata": {},
   "outputs": [],
   "source": []
  }
 ],
 "metadata": {
  "kernelspec": {
   "display_name": "Python 3 (ipykernel)",
   "language": "python",
   "name": "python3"
  },
  "language_info": {
   "codemirror_mode": {
    "name": "ipython",
    "version": 3
   },
   "file_extension": ".py",
   "mimetype": "text/x-python",
   "name": "python",
   "nbconvert_exporter": "python",
   "pygments_lexer": "ipython3",
   "version": "3.9.7"
  }
 },
 "nbformat": 4,
 "nbformat_minor": 5
}
