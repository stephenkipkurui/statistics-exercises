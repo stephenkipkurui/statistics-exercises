{
 "cells": [
  {
   "cell_type": "markdown",
   "id": "abe5d42c",
   "metadata": {},
   "source": [
    "# Hypothesis Testing Exercises\n",
    "\n",
    "Do your work for this exercise in a jupyter notebook named hypothesis_testing.ipynb.\n",
    "\n",
    "For each of the following questions, formulate a null and alternative hypothesis (be as specific as you can be), then give an example of what a true positive, true negative, type I and type II errors would look like. Note that some of the questions are intentionally phrased in a vague way. It is your job to reword these as more precise questions that could be tested.\n"
   ]
  },
  {
   "cell_type": "markdown",
   "id": "ab26463f",
   "metadata": {},
   "source": [
    "## 1). Has the network latency gone up since we switched internet service providers?\n"
   ]
  },
  {
   "cell_type": "markdown",
   "id": "92d6be93",
   "metadata": {},
   "source": [
    "Ho (Null Hypothesis): Network latency has gone up begining on date internet service providers (ISP) were switched. \n",
    "    \n",
    "H1 (Alternate Hypothesis): Network latency has not gone up begining on date internet service providers were switched.\n",
    "    \n",
    "True +ve: Accepting the Ho as expected since data inference sugest there network laterncy has gone up due to switching ISP. \n",
    "    \n",
    "True -ve: We accept Ho but the cause for network latency was not attributed to the switching of ISP. Could be the weather, distance from the tower, a new service plan, e.t.c. that coincided with the switching of ISP.\n",
    "\n",
    "Type I Error (False +ve): Reject Ho that network laterncy has not gone up (adapt H1) yet there is evidence inferred from data that this is not true. Swithching providers did not make network latency rise. \n",
    "\n",
    "Type II Error (False -ve): Failed to reject Ho above yet inference from statistical data suggest we should reject Ho and adapt H1 \n",
    "\n"
   ]
  },
  {
   "cell_type": "markdown",
   "id": "ba6d99d8",
   "metadata": {},
   "source": [
    "## 2). Is the website redesign any good?\n"
   ]
  },
  {
   "cell_type": "markdown",
   "id": "57522f8d",
   "metadata": {},
   "source": [
    "Ho (Null Hypothesis): \n",
    "    \n",
    "H1 (Alternate Hypothesis):\n",
    "    \n",
    "True +ve:\n",
    "    \n",
    "True -ve:\n",
    "    \n",
    "Type I Error (False +ve): \n",
    "    \n",
    "Type II Error (False -ve):\n",
    "    \n"
   ]
  },
  {
   "cell_type": "markdown",
   "id": "daa63318",
   "metadata": {},
   "source": [
    "## 3). Is our television ad driving more sales?\n"
   ]
  },
  {
   "cell_type": "code",
   "execution_count": null,
   "id": "ec1090c6",
   "metadata": {},
   "outputs": [],
   "source": [
    "Ho (Null Hypothesis): \n",
    "    \n",
    "H1 (Alternate Hypothesis):\n",
    "    \n",
    "True +ve:\n",
    "    \n",
    "True -ve:\n",
    "    \n",
    "Type I Error (False +ve): \n",
    "    \n",
    "Type II Error (False -ve):"
   ]
  },
  {
   "cell_type": "code",
   "execution_count": null,
   "id": "191f7688",
   "metadata": {},
   "outputs": [],
   "source": []
  },
  {
   "cell_type": "code",
   "execution_count": null,
   "id": "027a8e38",
   "metadata": {},
   "outputs": [],
   "source": []
  },
  {
   "cell_type": "code",
   "execution_count": null,
   "id": "2eb0dbef",
   "metadata": {},
   "outputs": [],
   "source": []
  },
  {
   "cell_type": "markdown",
   "id": "9aba3d27",
   "metadata": {},
   "source": []
  },
  {
   "cell_type": "code",
   "execution_count": null,
   "id": "b675c757",
   "metadata": {},
   "outputs": [],
   "source": []
  },
  {
   "cell_type": "markdown",
   "id": "f88ce991",
   "metadata": {},
   "source": []
  },
  {
   "cell_type": "code",
   "execution_count": null,
   "id": "69ba366b",
   "metadata": {},
   "outputs": [],
   "source": []
  },
  {
   "cell_type": "code",
   "execution_count": null,
   "id": "18644452",
   "metadata": {},
   "outputs": [],
   "source": []
  },
  {
   "cell_type": "code",
   "execution_count": null,
   "id": "06c13ea2",
   "metadata": {},
   "outputs": [],
   "source": []
  },
  {
   "cell_type": "code",
   "execution_count": null,
   "id": "bdab5577",
   "metadata": {},
   "outputs": [],
   "source": []
  },
  {
   "cell_type": "code",
   "execution_count": null,
   "id": "0d783bc9",
   "metadata": {},
   "outputs": [],
   "source": []
  },
  {
   "cell_type": "code",
   "execution_count": null,
   "id": "7cc06f2c",
   "metadata": {},
   "outputs": [],
   "source": []
  },
  {
   "cell_type": "code",
   "execution_count": null,
   "id": "131c92c9",
   "metadata": {},
   "outputs": [],
   "source": []
  },
  {
   "cell_type": "code",
   "execution_count": null,
   "id": "0a25472f",
   "metadata": {},
   "outputs": [],
   "source": []
  },
  {
   "cell_type": "code",
   "execution_count": null,
   "id": "0d5154fd",
   "metadata": {},
   "outputs": [],
   "source": []
  },
  {
   "cell_type": "code",
   "execution_count": null,
   "id": "a6aa8cac",
   "metadata": {},
   "outputs": [],
   "source": []
  },
  {
   "cell_type": "code",
   "execution_count": null,
   "id": "b6760a3c",
   "metadata": {},
   "outputs": [],
   "source": []
  },
  {
   "cell_type": "code",
   "execution_count": null,
   "id": "7e5d0077",
   "metadata": {},
   "outputs": [],
   "source": []
  },
  {
   "cell_type": "code",
   "execution_count": null,
   "id": "1e7ef850",
   "metadata": {},
   "outputs": [],
   "source": []
  },
  {
   "cell_type": "code",
   "execution_count": null,
   "id": "52636fde",
   "metadata": {},
   "outputs": [],
   "source": []
  },
  {
   "cell_type": "code",
   "execution_count": null,
   "id": "89998482",
   "metadata": {},
   "outputs": [],
   "source": []
  },
  {
   "cell_type": "code",
   "execution_count": null,
   "id": "3a4d064a",
   "metadata": {},
   "outputs": [],
   "source": []
  },
  {
   "cell_type": "code",
   "execution_count": null,
   "id": "fad12065",
   "metadata": {},
   "outputs": [],
   "source": []
  },
  {
   "cell_type": "code",
   "execution_count": null,
   "id": "d1b3c75e",
   "metadata": {},
   "outputs": [],
   "source": []
  }
 ],
 "metadata": {
  "kernelspec": {
   "display_name": "Python 3 (ipykernel)",
   "language": "python",
   "name": "python3"
  },
  "language_info": {
   "codemirror_mode": {
    "name": "ipython",
    "version": 3
   },
   "file_extension": ".py",
   "mimetype": "text/x-python",
   "name": "python",
   "nbconvert_exporter": "python",
   "pygments_lexer": "ipython3",
   "version": "3.9.7"
  }
 },
 "nbformat": 4,
 "nbformat_minor": 5
}
