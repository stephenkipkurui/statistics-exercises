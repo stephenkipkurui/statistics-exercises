{
 "cells": [
  {
   "cell_type": "markdown",
   "id": "568b08a9",
   "metadata": {},
   "source": [
    "# Hypothesis Testing Exercises\n",
    "\n",
    "Do your work for this exercise in a jupyter notebook named hypothesis_testing.ipynb.\n",
    "\n",
    "For each of the following questions, formulate a null and alternative hypothesis (be as specific as you can be), then give an example of what a true positive, true negative, type I and type II errors would look like. Note that some of the questions are intentionally phrased in a vague way. It is your job to reword these as more precise questions that could be tested.\n"
   ]
  },
  {
   "cell_type": "markdown",
   "id": "3e6642d2",
   "metadata": {},
   "source": [
    "## 1). Has the network latency gone up since we switched internet service providers?\n"
   ]
  },
  {
   "cell_type": "markdown",
   "id": "1072b4e5",
   "metadata": {},
   "source": [
    "Ho (Null Hypothesis): Network latency has gone up begining on date internet service providers (ISP) were switched. \n",
    "    \n",
    "H1 (Alternate Hypothesis): Network latency has not gone up begining on date internet service providers were switched.\n",
    "    \n",
    "True +ve: Accepting the Ho as expected since data inference sugest the network laterncy has gone up due to switching ISP. \n",
    "    \n",
    "True -ve: We accept Ho but the cause for network latency was not attributed to the switching of ISP. Could be the weather, distance from the tower, a new service plan, e.t.c. that coincided with the switching of ISP.\n",
    "\n",
    "Type I Error (False +ve): Reject Ho that network laterncy has not gone up (adapt H1) yet there is evidence inferred from data that this is not true. Swithching providers did not make network latency rise. \n",
    "\n",
    "Type II Error (False -ve): Failed to reject Ho above yet inference from statistical data suggest we should reject Ho and adapt H1 \n",
    "\n"
   ]
  },
  {
   "cell_type": "markdown",
   "id": "fc091fec",
   "metadata": {},
   "source": [
    "## 2). Is the website redesign any good?\n",
    "\n",
    "Good cannot be measured statistically. It has to be converted to \n"
   ]
  },
  {
   "cell_type": "markdown",
   "id": "22188da0",
   "metadata": {},
   "source": [
    "Ho (Null Hypothesis): Website redesign has resulted in higher sales return \n",
    "    \n",
    "H1 (Alternate Hypothesis): Website redesign did not affect sales return\n",
    "    \n",
    "True +ve: Accept Ho as inferred by statistical data\n",
    "    \n",
    "True -ve: Accept Ho but the cause os sales increase was not necessarily caused by the re-design.\n",
    "    \n",
    "Type I Error (False +ve): Rejected Ho above when inferred data sugest we should have kept the hypothesis \n",
    "    \n",
    "Type II Error (False -ve): Did not reject Ho yet we should have. Website redesign did not affect sales return\n",
    "    \n"
   ]
  },
  {
   "cell_type": "markdown",
   "id": "b73f938f",
   "metadata": {},
   "source": [
    "## 3). Is our television ad driving more sales?\n"
   ]
  },
  {
   "cell_type": "markdown",
   "id": "1d475193",
   "metadata": {},
   "source": [
    "Ho (Null Hypothesis): Listing our ad on television has resulted in increased sales.\n",
    "    \n",
    "H1 (Alternate Hypothesis): Listing our ad on television did not result in increased sales.\n",
    "    \n",
    "True +ve: Increased sales was directlty as a result in increased sales. Accept Ho\n",
    "    \n",
    "True -ve: Increased sales was as a result of listing our tv ad. Other factors caused the spike in sales\n",
    "    \n",
    "Type I Error (False +ve): Adapted H1 \n",
    "    \n",
    "Type II Error (False -ve):"
   ]
  },
  {
   "cell_type": "markdown",
   "id": "9e906aa9",
   "metadata": {},
   "source": [
    "# T-TEST EXERCISES"
   ]
  },
  {
   "cell_type": "code",
   "execution_count": 218,
   "id": "8315edb8",
   "metadata": {},
   "outputs": [],
   "source": [
    "import matplotlib.pyplot as plt\n",
    "import seaborn as sns\n",
    "\n",
    "\n",
    "import numpy as np\n",
    "import pandas as pd\n",
    "\n",
    "from scipy import stats\n",
    "from pydataset import data\n",
    "\n",
    "import env\n",
    "\n"
   ]
  },
  {
   "cell_type": "markdown",
   "id": "3b33b9dd",
   "metadata": {},
   "source": [
    "# Exercise #1\n",
    "\n",
    "Ace Realty wants to determine whether the average time it takes to sell homes is different for \n",
    "its two offices. A sample of 40 sales from office #1 revealed a mean of 90 days and a standard \n",
    "deviation of 15 days. A sample of 50 sales from office #2 revealed a mean of 100 days and a \n",
    "standard deviation of 20 days. Use a .05 level of significance.\n",
    "\n",
    "\n",
    "Ho: Office #1 average time to sell a home = average time to sell a home\n",
    "\n",
    "H1: Office #1 average time to sell a home != average time to sell a home\n"
   ]
  },
  {
   "cell_type": "code",
   "execution_count": 158,
   "id": "b08720f3",
   "metadata": {},
   "outputs": [
    {
     "data": {
      "text/plain": [
       "(-1.9420558076998378, 0.027671130804336405)"
      ]
     },
     "execution_count": 158,
     "metadata": {},
     "output_type": "execute_result"
    }
   ],
   "source": [
    "alpha = 0.05\n",
    "\n",
    "mean_office_one = 90\n",
    "std_office_one = 15\n",
    "sales_office_one = 40\n",
    "\n",
    "mean_office_two = 100 \n",
    "std_office_two = 20\n",
    "sales_office_two = 50\n",
    "\n",
    "office_one = np.random.normal(mean_office_one, std_office_one, sales_office_one)\n",
    "\n",
    "office_two = np.random.normal(mean_office_two, std_office_two, sales_office_two)\n",
    "\n",
    "\n",
    "# print(\"Office One Varriance: \", office_one.var(), \"\\nOffice Two Varriance: \", office_two.var())\n",
    "\n",
    "t, p = stats.ttest_ind(office_one, office_two, equal_var = False)\n",
    "\n",
    "t, p/ 2\n"
   ]
  },
  {
   "cell_type": "code",
   "execution_count": 185,
   "id": "40520893",
   "metadata": {},
   "outputs": [
    {
     "name": "stdout",
     "output_type": "stream",
     "text": [
      "This is a comparison of mean average time to sell a home by Ace Reator with two office locations\n",
      "\n",
      "_______________________________________________________________________________________________\n",
      "Hypothesis testing of two sample mean with two tails\n",
      "\n",
      "Determine: \n",
      "\n",
      "\t is P / 2:-  True\n",
      "\t t > 0:-  False\n",
      "\n",
      "--------------------------Answer Begin-----------------------------\n",
      "\n",
      "FAILED TO REJECT Ho: (Adapted Hypothesis)-> Office #1 average time to sell a home = average time to sell a home\n",
      "\n",
      "--------------------------Answer End-----------------------------\n"
     ]
    }
   ],
   "source": [
    "# Decision:\n",
    "\n",
    "print(\"This is a comparison of mean average time to sell a home by Ace Reator with two office locations\")\n",
    "print()\n",
    "print(\"_______________________________________________________________________________________________\")\n",
    "print(\"Hypothesis testing of two sample mean with two tails\")\n",
    "print()\n",
    "print(\"Determine: \\n\\n\\t is P / 2:- \", (p / 2) < alpha)\n",
    "print(\"\\t t > 0:- \", t > 0)\n",
    "\n",
    "print()\n",
    "print(\"--------------------------Answer Begin-----------------------------\")\n",
    "print()\n",
    "# Hypothesis Logic\n",
    "\n",
    "Ho = \"Office #1 average time to sell a home = average time to sell a home\"\n",
    "\n",
    "H1 = \"Office #1 average time to sell a home != average time to sell a home\"\n",
    "\n",
    "if(p / 2) > alpha:\n",
    "    \n",
    "    print(f\"FAILED TO REJECT Ho: (Adapted Hypothesis)-> {Ho}\")\n",
    "    \n",
    "elif t < 0:\n",
    "    \n",
    "    print(f\"FAILED TO REJECT Ho: (Adapted Hypothesis)-> {Ho}\")\n",
    "    \n",
    "else:\n",
    "    \n",
    "    print(\"REJECT Ho\")\n",
    "    \n",
    "print()\n",
    "\n",
    "print(\"--------------------------Answer End-----------------------------\")\n"
   ]
  },
  {
   "cell_type": "markdown",
   "id": "7175b355",
   "metadata": {},
   "source": [
    "# Exercise #2\n",
    "Load the mpg dataset and use it to answer the following questions:\n",
    "\n",
    " -> Is there a difference in fuel-efficiency in cars from 2008 vs 1999?\n",
    "\n",
    " -> Are compact cars more fuel-efficient than the average car?\n",
    "    \n",
    " -> Do manual cars get better gas mileage than automatic cars?\n"
   ]
  },
  {
   "cell_type": "code",
   "execution_count": 233,
   "id": "6617af97",
   "metadata": {},
   "outputs": [
    {
     "data": {
      "text/html": [
       "<div>\n",
       "<style scoped>\n",
       "    .dataframe tbody tr th:only-of-type {\n",
       "        vertical-align: middle;\n",
       "    }\n",
       "\n",
       "    .dataframe tbody tr th {\n",
       "        vertical-align: top;\n",
       "    }\n",
       "\n",
       "    .dataframe thead th {\n",
       "        text-align: right;\n",
       "    }\n",
       "</style>\n",
       "<table border=\"1\" class=\"dataframe\">\n",
       "  <thead>\n",
       "    <tr style=\"text-align: right;\">\n",
       "      <th></th>\n",
       "      <th>manufacturer</th>\n",
       "      <th>model</th>\n",
       "      <th>displ</th>\n",
       "      <th>year</th>\n",
       "      <th>cyl</th>\n",
       "      <th>trans</th>\n",
       "      <th>drv</th>\n",
       "      <th>cty</th>\n",
       "      <th>hwy</th>\n",
       "      <th>fl</th>\n",
       "      <th>class</th>\n",
       "    </tr>\n",
       "  </thead>\n",
       "  <tbody>\n",
       "    <tr>\n",
       "      <th>1</th>\n",
       "      <td>audi</td>\n",
       "      <td>a4</td>\n",
       "      <td>1.8</td>\n",
       "      <td>1999</td>\n",
       "      <td>4</td>\n",
       "      <td>auto(l5)</td>\n",
       "      <td>f</td>\n",
       "      <td>18</td>\n",
       "      <td>29</td>\n",
       "      <td>p</td>\n",
       "      <td>compact</td>\n",
       "    </tr>\n",
       "    <tr>\n",
       "      <th>2</th>\n",
       "      <td>audi</td>\n",
       "      <td>a4</td>\n",
       "      <td>1.8</td>\n",
       "      <td>1999</td>\n",
       "      <td>4</td>\n",
       "      <td>manual(m5)</td>\n",
       "      <td>f</td>\n",
       "      <td>21</td>\n",
       "      <td>29</td>\n",
       "      <td>p</td>\n",
       "      <td>compact</td>\n",
       "    </tr>\n",
       "    <tr>\n",
       "      <th>3</th>\n",
       "      <td>audi</td>\n",
       "      <td>a4</td>\n",
       "      <td>2.0</td>\n",
       "      <td>2008</td>\n",
       "      <td>4</td>\n",
       "      <td>manual(m6)</td>\n",
       "      <td>f</td>\n",
       "      <td>20</td>\n",
       "      <td>31</td>\n",
       "      <td>p</td>\n",
       "      <td>compact</td>\n",
       "    </tr>\n",
       "    <tr>\n",
       "      <th>4</th>\n",
       "      <td>audi</td>\n",
       "      <td>a4</td>\n",
       "      <td>2.0</td>\n",
       "      <td>2008</td>\n",
       "      <td>4</td>\n",
       "      <td>auto(av)</td>\n",
       "      <td>f</td>\n",
       "      <td>21</td>\n",
       "      <td>30</td>\n",
       "      <td>p</td>\n",
       "      <td>compact</td>\n",
       "    </tr>\n",
       "    <tr>\n",
       "      <th>5</th>\n",
       "      <td>audi</td>\n",
       "      <td>a4</td>\n",
       "      <td>2.8</td>\n",
       "      <td>1999</td>\n",
       "      <td>6</td>\n",
       "      <td>auto(l5)</td>\n",
       "      <td>f</td>\n",
       "      <td>16</td>\n",
       "      <td>26</td>\n",
       "      <td>p</td>\n",
       "      <td>compact</td>\n",
       "    </tr>\n",
       "    <tr>\n",
       "      <th>...</th>\n",
       "      <td>...</td>\n",
       "      <td>...</td>\n",
       "      <td>...</td>\n",
       "      <td>...</td>\n",
       "      <td>...</td>\n",
       "      <td>...</td>\n",
       "      <td>...</td>\n",
       "      <td>...</td>\n",
       "      <td>...</td>\n",
       "      <td>...</td>\n",
       "      <td>...</td>\n",
       "    </tr>\n",
       "    <tr>\n",
       "      <th>230</th>\n",
       "      <td>volkswagen</td>\n",
       "      <td>passat</td>\n",
       "      <td>2.0</td>\n",
       "      <td>2008</td>\n",
       "      <td>4</td>\n",
       "      <td>auto(s6)</td>\n",
       "      <td>f</td>\n",
       "      <td>19</td>\n",
       "      <td>28</td>\n",
       "      <td>p</td>\n",
       "      <td>midsize</td>\n",
       "    </tr>\n",
       "    <tr>\n",
       "      <th>231</th>\n",
       "      <td>volkswagen</td>\n",
       "      <td>passat</td>\n",
       "      <td>2.0</td>\n",
       "      <td>2008</td>\n",
       "      <td>4</td>\n",
       "      <td>manual(m6)</td>\n",
       "      <td>f</td>\n",
       "      <td>21</td>\n",
       "      <td>29</td>\n",
       "      <td>p</td>\n",
       "      <td>midsize</td>\n",
       "    </tr>\n",
       "    <tr>\n",
       "      <th>232</th>\n",
       "      <td>volkswagen</td>\n",
       "      <td>passat</td>\n",
       "      <td>2.8</td>\n",
       "      <td>1999</td>\n",
       "      <td>6</td>\n",
       "      <td>auto(l5)</td>\n",
       "      <td>f</td>\n",
       "      <td>16</td>\n",
       "      <td>26</td>\n",
       "      <td>p</td>\n",
       "      <td>midsize</td>\n",
       "    </tr>\n",
       "    <tr>\n",
       "      <th>233</th>\n",
       "      <td>volkswagen</td>\n",
       "      <td>passat</td>\n",
       "      <td>2.8</td>\n",
       "      <td>1999</td>\n",
       "      <td>6</td>\n",
       "      <td>manual(m5)</td>\n",
       "      <td>f</td>\n",
       "      <td>18</td>\n",
       "      <td>26</td>\n",
       "      <td>p</td>\n",
       "      <td>midsize</td>\n",
       "    </tr>\n",
       "    <tr>\n",
       "      <th>234</th>\n",
       "      <td>volkswagen</td>\n",
       "      <td>passat</td>\n",
       "      <td>3.6</td>\n",
       "      <td>2008</td>\n",
       "      <td>6</td>\n",
       "      <td>auto(s6)</td>\n",
       "      <td>f</td>\n",
       "      <td>17</td>\n",
       "      <td>26</td>\n",
       "      <td>p</td>\n",
       "      <td>midsize</td>\n",
       "    </tr>\n",
       "  </tbody>\n",
       "</table>\n",
       "<p>234 rows × 11 columns</p>\n",
       "</div>"
      ],
      "text/plain": [
       "    manufacturer   model  displ  year  cyl       trans drv  cty  hwy fl  \\\n",
       "1           audi      a4    1.8  1999    4    auto(l5)   f   18   29  p   \n",
       "2           audi      a4    1.8  1999    4  manual(m5)   f   21   29  p   \n",
       "3           audi      a4    2.0  2008    4  manual(m6)   f   20   31  p   \n",
       "4           audi      a4    2.0  2008    4    auto(av)   f   21   30  p   \n",
       "5           audi      a4    2.8  1999    6    auto(l5)   f   16   26  p   \n",
       "..           ...     ...    ...   ...  ...         ...  ..  ...  ... ..   \n",
       "230   volkswagen  passat    2.0  2008    4    auto(s6)   f   19   28  p   \n",
       "231   volkswagen  passat    2.0  2008    4  manual(m6)   f   21   29  p   \n",
       "232   volkswagen  passat    2.8  1999    6    auto(l5)   f   16   26  p   \n",
       "233   volkswagen  passat    2.8  1999    6  manual(m5)   f   18   26  p   \n",
       "234   volkswagen  passat    3.6  2008    6    auto(s6)   f   17   26  p   \n",
       "\n",
       "       class  \n",
       "1    compact  \n",
       "2    compact  \n",
       "3    compact  \n",
       "4    compact  \n",
       "5    compact  \n",
       "..       ...  \n",
       "230  midsize  \n",
       "231  midsize  \n",
       "232  midsize  \n",
       "233  midsize  \n",
       "234  midsize  \n",
       "\n",
       "[234 rows x 11 columns]"
      ]
     },
     "execution_count": 233,
     "metadata": {},
     "output_type": "execute_result"
    }
   ],
   "source": [
    "mpg = data('mpg')\n",
    "mpg\n"
   ]
  },
  {
   "cell_type": "code",
   "execution_count": 234,
   "id": "1af6a907",
   "metadata": {},
   "outputs": [
    {
     "data": {
      "text/html": [
       "<div>\n",
       "<style scoped>\n",
       "    .dataframe tbody tr th:only-of-type {\n",
       "        vertical-align: middle;\n",
       "    }\n",
       "\n",
       "    .dataframe tbody tr th {\n",
       "        vertical-align: top;\n",
       "    }\n",
       "\n",
       "    .dataframe thead th {\n",
       "        text-align: right;\n",
       "    }\n",
       "</style>\n",
       "<table border=\"1\" class=\"dataframe\">\n",
       "  <thead>\n",
       "    <tr style=\"text-align: right;\">\n",
       "      <th></th>\n",
       "      <th>manufacturer</th>\n",
       "      <th>model</th>\n",
       "      <th>displ</th>\n",
       "      <th>year</th>\n",
       "      <th>cyl</th>\n",
       "      <th>trans</th>\n",
       "      <th>drv</th>\n",
       "      <th>cty</th>\n",
       "      <th>hwy</th>\n",
       "      <th>fl</th>\n",
       "      <th>class</th>\n",
       "      <th>average_mpg</th>\n",
       "    </tr>\n",
       "  </thead>\n",
       "  <tbody>\n",
       "    <tr>\n",
       "      <th>1</th>\n",
       "      <td>audi</td>\n",
       "      <td>a4</td>\n",
       "      <td>1.8</td>\n",
       "      <td>1999</td>\n",
       "      <td>4</td>\n",
       "      <td>auto(l5)</td>\n",
       "      <td>f</td>\n",
       "      <td>18</td>\n",
       "      <td>29</td>\n",
       "      <td>p</td>\n",
       "      <td>compact</td>\n",
       "      <td>23.5</td>\n",
       "    </tr>\n",
       "    <tr>\n",
       "      <th>2</th>\n",
       "      <td>audi</td>\n",
       "      <td>a4</td>\n",
       "      <td>1.8</td>\n",
       "      <td>1999</td>\n",
       "      <td>4</td>\n",
       "      <td>manual(m5)</td>\n",
       "      <td>f</td>\n",
       "      <td>21</td>\n",
       "      <td>29</td>\n",
       "      <td>p</td>\n",
       "      <td>compact</td>\n",
       "      <td>25.0</td>\n",
       "    </tr>\n",
       "    <tr>\n",
       "      <th>3</th>\n",
       "      <td>audi</td>\n",
       "      <td>a4</td>\n",
       "      <td>2.0</td>\n",
       "      <td>2008</td>\n",
       "      <td>4</td>\n",
       "      <td>manual(m6)</td>\n",
       "      <td>f</td>\n",
       "      <td>20</td>\n",
       "      <td>31</td>\n",
       "      <td>p</td>\n",
       "      <td>compact</td>\n",
       "      <td>25.5</td>\n",
       "    </tr>\n",
       "    <tr>\n",
       "      <th>4</th>\n",
       "      <td>audi</td>\n",
       "      <td>a4</td>\n",
       "      <td>2.0</td>\n",
       "      <td>2008</td>\n",
       "      <td>4</td>\n",
       "      <td>auto(av)</td>\n",
       "      <td>f</td>\n",
       "      <td>21</td>\n",
       "      <td>30</td>\n",
       "      <td>p</td>\n",
       "      <td>compact</td>\n",
       "      <td>25.5</td>\n",
       "    </tr>\n",
       "    <tr>\n",
       "      <th>5</th>\n",
       "      <td>audi</td>\n",
       "      <td>a4</td>\n",
       "      <td>2.8</td>\n",
       "      <td>1999</td>\n",
       "      <td>6</td>\n",
       "      <td>auto(l5)</td>\n",
       "      <td>f</td>\n",
       "      <td>16</td>\n",
       "      <td>26</td>\n",
       "      <td>p</td>\n",
       "      <td>compact</td>\n",
       "      <td>21.0</td>\n",
       "    </tr>\n",
       "    <tr>\n",
       "      <th>...</th>\n",
       "      <td>...</td>\n",
       "      <td>...</td>\n",
       "      <td>...</td>\n",
       "      <td>...</td>\n",
       "      <td>...</td>\n",
       "      <td>...</td>\n",
       "      <td>...</td>\n",
       "      <td>...</td>\n",
       "      <td>...</td>\n",
       "      <td>...</td>\n",
       "      <td>...</td>\n",
       "      <td>...</td>\n",
       "    </tr>\n",
       "    <tr>\n",
       "      <th>230</th>\n",
       "      <td>volkswagen</td>\n",
       "      <td>passat</td>\n",
       "      <td>2.0</td>\n",
       "      <td>2008</td>\n",
       "      <td>4</td>\n",
       "      <td>auto(s6)</td>\n",
       "      <td>f</td>\n",
       "      <td>19</td>\n",
       "      <td>28</td>\n",
       "      <td>p</td>\n",
       "      <td>midsize</td>\n",
       "      <td>23.5</td>\n",
       "    </tr>\n",
       "    <tr>\n",
       "      <th>231</th>\n",
       "      <td>volkswagen</td>\n",
       "      <td>passat</td>\n",
       "      <td>2.0</td>\n",
       "      <td>2008</td>\n",
       "      <td>4</td>\n",
       "      <td>manual(m6)</td>\n",
       "      <td>f</td>\n",
       "      <td>21</td>\n",
       "      <td>29</td>\n",
       "      <td>p</td>\n",
       "      <td>midsize</td>\n",
       "      <td>25.0</td>\n",
       "    </tr>\n",
       "    <tr>\n",
       "      <th>232</th>\n",
       "      <td>volkswagen</td>\n",
       "      <td>passat</td>\n",
       "      <td>2.8</td>\n",
       "      <td>1999</td>\n",
       "      <td>6</td>\n",
       "      <td>auto(l5)</td>\n",
       "      <td>f</td>\n",
       "      <td>16</td>\n",
       "      <td>26</td>\n",
       "      <td>p</td>\n",
       "      <td>midsize</td>\n",
       "      <td>21.0</td>\n",
       "    </tr>\n",
       "    <tr>\n",
       "      <th>233</th>\n",
       "      <td>volkswagen</td>\n",
       "      <td>passat</td>\n",
       "      <td>2.8</td>\n",
       "      <td>1999</td>\n",
       "      <td>6</td>\n",
       "      <td>manual(m5)</td>\n",
       "      <td>f</td>\n",
       "      <td>18</td>\n",
       "      <td>26</td>\n",
       "      <td>p</td>\n",
       "      <td>midsize</td>\n",
       "      <td>22.0</td>\n",
       "    </tr>\n",
       "    <tr>\n",
       "      <th>234</th>\n",
       "      <td>volkswagen</td>\n",
       "      <td>passat</td>\n",
       "      <td>3.6</td>\n",
       "      <td>2008</td>\n",
       "      <td>6</td>\n",
       "      <td>auto(s6)</td>\n",
       "      <td>f</td>\n",
       "      <td>17</td>\n",
       "      <td>26</td>\n",
       "      <td>p</td>\n",
       "      <td>midsize</td>\n",
       "      <td>21.5</td>\n",
       "    </tr>\n",
       "  </tbody>\n",
       "</table>\n",
       "<p>234 rows × 12 columns</p>\n",
       "</div>"
      ],
      "text/plain": [
       "    manufacturer   model  displ  year  cyl       trans drv  cty  hwy fl  \\\n",
       "1           audi      a4    1.8  1999    4    auto(l5)   f   18   29  p   \n",
       "2           audi      a4    1.8  1999    4  manual(m5)   f   21   29  p   \n",
       "3           audi      a4    2.0  2008    4  manual(m6)   f   20   31  p   \n",
       "4           audi      a4    2.0  2008    4    auto(av)   f   21   30  p   \n",
       "5           audi      a4    2.8  1999    6    auto(l5)   f   16   26  p   \n",
       "..           ...     ...    ...   ...  ...         ...  ..  ...  ... ..   \n",
       "230   volkswagen  passat    2.0  2008    4    auto(s6)   f   19   28  p   \n",
       "231   volkswagen  passat    2.0  2008    4  manual(m6)   f   21   29  p   \n",
       "232   volkswagen  passat    2.8  1999    6    auto(l5)   f   16   26  p   \n",
       "233   volkswagen  passat    2.8  1999    6  manual(m5)   f   18   26  p   \n",
       "234   volkswagen  passat    3.6  2008    6    auto(s6)   f   17   26  p   \n",
       "\n",
       "       class  average_mpg  \n",
       "1    compact         23.5  \n",
       "2    compact         25.0  \n",
       "3    compact         25.5  \n",
       "4    compact         25.5  \n",
       "5    compact         21.0  \n",
       "..       ...          ...  \n",
       "230  midsize         23.5  \n",
       "231  midsize         25.0  \n",
       "232  midsize         21.0  \n",
       "233  midsize         22.0  \n",
       "234  midsize         21.5  \n",
       "\n",
       "[234 rows x 12 columns]"
      ]
     },
     "execution_count": 234,
     "metadata": {},
     "output_type": "execute_result"
    }
   ],
   "source": [
    "mpg[\"average_mpg\"] = ((mpg[\"cty\"] + mpg[\"hwy\"]) / 2)\n",
    "mpg"
   ]
  },
  {
   "cell_type": "code",
   "execution_count": 235,
   "id": "6e1c1291",
   "metadata": {},
   "outputs": [
    {
     "data": {
      "text/plain": [
       "1999    117\n",
       "2008    117\n",
       "Name: year, dtype: int64"
      ]
     },
     "execution_count": 235,
     "metadata": {},
     "output_type": "execute_result"
    }
   ],
   "source": [
    "mpg = pd.DataFrame(mpg)\n",
    "\n",
    "mpg.year.value_counts()\n"
   ]
  },
  {
   "cell_type": "markdown",
   "id": "c23bc8c3",
   "metadata": {},
   "source": [
    "## A). -> Is there a difference in fuel-efficiency in cars from 2008 vs 1999?\n",
    "\n",
    "\n",
    "HYPOTHESIS: \n",
    "H0: Cars manufactured in 2008 have higher fuel efficiency than cars manufactured in 1999\n",
    "\n",
    "H1: Cars manufactured in 2008 have lower fuel efficiency than cars manufactured in 1999"
   ]
  },
  {
   "cell_type": "code",
   "execution_count": 262,
   "id": "2ffd2bb2",
   "metadata": {},
   "outputs": [
    {
     "data": {
      "text/plain": [
       "(3      25.5\n",
       " 4      25.5\n",
       " 7      22.5\n",
       " 10     24.0\n",
       " 11     23.0\n",
       " 14     21.0\n",
       " 15     20.0\n",
       " 17     21.0\n",
       " 18     19.5\n",
       " 19     17.0\n",
       " 20     13.0\n",
       " 21     17.0\n",
       " 23     14.5\n",
       " 26     21.0\n",
       " 27     20.0\n",
       " 28     19.5\n",
       " 29     16.5\n",
       " 30     12.5\n",
       " 34     26.0\n",
       " 36     23.5\n",
       " 37     21.5\n",
       " 42     20.5\n",
       " 43     20.5\n",
       " 44     14.0\n",
       " 47     19.5\n",
       " 48     19.5\n",
       " 49     17.0\n",
       " 50     16.0\n",
       " 53     16.5\n",
       " 54     16.5\n",
       " 55     10.5\n",
       " 59     15.0\n",
       " 60     10.5\n",
       " 61     15.0\n",
       " 63     15.5\n",
       " 65     14.0\n",
       " 66     10.5\n",
       " 67     15.0\n",
       " 68     15.0\n",
       " 69     14.0\n",
       " 70     10.5\n",
       " 73     15.0\n",
       " 77     15.0\n",
       " 81     16.0\n",
       " 82     16.0\n",
       " 88     15.0\n",
       " 90     15.0\n",
       " 93     21.5\n",
       " 94     20.0\n",
       " 97     19.0\n",
       " 98     18.5\n",
       " 99     17.0\n",
       " 105    30.0\n",
       " 106    30.5\n",
       " 107    30.0\n",
       " 108    25.0\n",
       " 111    25.5\n",
       " 112    26.0\n",
       " 115    23.5\n",
       " 118    24.0\n",
       " 119    23.5\n",
       " 120    20.5\n",
       " 121    20.0\n",
       " 122    20.5\n",
       " 123    19.5\n",
       " 124    17.0\n",
       " 127    10.5\n",
       " 128    16.5\n",
       " 129    15.5\n",
       " 130    12.5\n",
       " 132    15.0\n",
       " 133    15.0\n",
       " 137    15.0\n",
       " 139    16.0\n",
       " 140    16.0\n",
       " 144    27.0\n",
       " 145    27.5\n",
       " 146    23.0\n",
       " 147    22.5\n",
       " 150    22.0\n",
       " 153    17.0\n",
       " 154    15.0\n",
       " 158    23.0\n",
       " 159    20.5\n",
       " 162    23.5\n",
       " 163    22.0\n",
       " 164    23.0\n",
       " 165    20.5\n",
       " 170    22.5\n",
       " 171    23.5\n",
       " 172    22.0\n",
       " 173    23.5\n",
       " 178    18.0\n",
       " 179    15.5\n",
       " 182    26.0\n",
       " 183    26.0\n",
       " 186    23.5\n",
       " 189    26.0\n",
       " 190    26.5\n",
       " 193    22.5\n",
       " 197    32.5\n",
       " 198    30.5\n",
       " 200    15.5\n",
       " 203    19.5\n",
       " 206    16.5\n",
       " 207    18.0\n",
       " 210    25.0\n",
       " 211    25.5\n",
       " 216    25.5\n",
       " 217    25.0\n",
       " 218    25.0\n",
       " 219    25.0\n",
       " 226    24.0\n",
       " 227    24.5\n",
       " 230    23.5\n",
       " 231    25.0\n",
       " 234    21.5\n",
       " Name: average_mpg, dtype: float64,\n",
       " 1      23.5\n",
       " 2      25.0\n",
       " 5      21.0\n",
       " 6      22.0\n",
       " 8      22.0\n",
       " 9      20.5\n",
       " 12     20.0\n",
       " 13     21.0\n",
       " 16     19.5\n",
       " 22     15.0\n",
       " 24     21.0\n",
       " 25     19.0\n",
       " 31     13.0\n",
       " 32     15.5\n",
       " 33     23.0\n",
       " 35     22.0\n",
       " 38     21.0\n",
       " 39     20.5\n",
       " 40     19.0\n",
       " 41     19.0\n",
       " 45     18.5\n",
       " 46     18.0\n",
       " 51     15.0\n",
       " 52     15.5\n",
       " 56     14.0\n",
       " 57     13.0\n",
       " 58     15.0\n",
       " 62     13.5\n",
       " 64     13.0\n",
       " 71     13.0\n",
       " 72     13.5\n",
       " 74     13.0\n",
       " 75     14.0\n",
       " 76     14.0\n",
       " 78     15.5\n",
       " 79     17.0\n",
       " 80     15.5\n",
       " 83     15.0\n",
       " 84     15.5\n",
       " 85     15.5\n",
       " 86     14.5\n",
       " 87     14.5\n",
       " 89     13.0\n",
       " 91     22.0\n",
       " 92     21.5\n",
       " 95     18.0\n",
       " 96     18.5\n",
       " 100    30.5\n",
       " 101    28.0\n",
       " 102    28.5\n",
       " 103    26.0\n",
       " 104    28.0\n",
       " 109    22.0\n",
       " 110    22.5\n",
       " 113    22.0\n",
       " 114    22.0\n",
       " 116    22.5\n",
       " 117    24.0\n",
       " 125    17.5\n",
       " 126    15.5\n",
       " 131    13.0\n",
       " 134    13.0\n",
       " 135    14.0\n",
       " 136    13.5\n",
       " 138    15.5\n",
       " 141    15.0\n",
       " 142    25.0\n",
       " 143    23.0\n",
       " 148    22.0\n",
       " 149    22.0\n",
       " 151    15.5\n",
       " 152    16.0\n",
       " 155    22.0\n",
       " 156    21.0\n",
       " 157    22.0\n",
       " 160    21.5\n",
       " 161    21.0\n",
       " 166    23.5\n",
       " 167    22.5\n",
       " 168    22.5\n",
       " 169    22.5\n",
       " 174    17.5\n",
       " 175    18.0\n",
       " 176    17.0\n",
       " 177    16.0\n",
       " 180    25.0\n",
       " 181    24.0\n",
       " 184    22.0\n",
       " 185    22.0\n",
       " 187    24.0\n",
       " 188    25.0\n",
       " 191    22.0\n",
       " 192    22.0\n",
       " 194    27.0\n",
       " 195    28.5\n",
       " 196    30.5\n",
       " 199    13.0\n",
       " 201    17.5\n",
       " 202    18.0\n",
       " 204    16.0\n",
       " 205    17.0\n",
       " 208    25.0\n",
       " 209    22.5\n",
       " 212    20.5\n",
       " 213    38.5\n",
       " 214    25.0\n",
       " 215    22.5\n",
       " 220    19.5\n",
       " 221    20.5\n",
       " 222    39.5\n",
       " 223    35.0\n",
       " 224    25.0\n",
       " 225    22.5\n",
       " 228    25.0\n",
       " 229    23.5\n",
       " 232    21.0\n",
       " 233    22.0\n",
       " Name: average_mpg, dtype: float64)"
      ]
     },
     "execution_count": 262,
     "metadata": {},
     "output_type": "execute_result"
    }
   ],
   "source": [
    "mpg_model_08 = mpg[mpg.year == 2008].average_mpg\n",
    "mpg_model_99 = mpg[mpg.year == 1999].average_mpg\n",
    "\n",
    "mpg_model_08, mpg_model_99\n"
   ]
  },
  {
   "cell_type": "code",
   "execution_count": 266,
   "id": "7e1a3ced",
   "metadata": {},
   "outputs": [
    {
     "name": "stdout",
     "output_type": "stream",
     "text": [
      "2008 Var:  24.097480106100797\n",
      "1999 Var:  27.122605363984682\n"
     ]
    }
   ],
   "source": [
    "print(\"2008 Var: \",mpg_model_08.var())\n",
    "print(\"1999 Var: \", mpg_model_99.var())\n"
   ]
  },
  {
   "cell_type": "code",
   "execution_count": 267,
   "id": "adc9441d",
   "metadata": {},
   "outputs": [
    {
     "data": {
      "text/plain": [
       "(-0.21960177245940962, 0.8263750772060638)"
      ]
     },
     "execution_count": 267,
     "metadata": {},
     "output_type": "execute_result"
    }
   ],
   "source": [
    "t, pval = stats.ttest_ind(mpg_model_08, mpg_model_99, equal_var = False)\n",
    "t, pval"
   ]
  },
  {
   "cell_type": "code",
   "execution_count": 269,
   "id": "575d51cb",
   "metadata": {},
   "outputs": [
    {
     "name": "stdout",
     "output_type": "stream",
     "text": [
      "Average MPG 2008 vs 1999\n",
      "\n",
      "____________________________________\n",
      "Hypothesis testing of two sample mean with two tails\n",
      "\n",
      "Determine: \n",
      "\n",
      "\t is P / 2:-  False\n",
      "\t t > 0:-  False\n",
      "\n",
      "--------------------------Answer Begin-----------------------------\n",
      "\n",
      "FAILED TO REJECT Ho: (Adapted Hypothesis)-> Cars manufactured in 2008 have higher fuel efficiency than cars manufactured in 1999\n",
      "\n",
      "--------------------------Answer End-----------------------------\n"
     ]
    }
   ],
   "source": [
    "# Decision:\n",
    "\n",
    "print(\"Average MPG 2008 vs 1999\")\n",
    "print()\n",
    "print(\"____________________________________\")\n",
    "print(\"Hypothesis testing of two sample mean with two tails\")\n",
    "print()\n",
    "print(\"Determine: \\n\\n\\t is P / 2:- \", (pval / 2) < alpha)\n",
    "print(\"\\t t > 0:- \", t > 0)\n",
    "\n",
    "print()\n",
    "print(\"--------------------------Answer Begin-----------------------------\")\n",
    "print()\n",
    "# Hypothesis Logic\n",
    "\n",
    "Ho = \"Cars manufactured in 2008 have higher fuel efficiency than cars manufactured in 1999\"\n",
    "\n",
    "H1 = \"Cars manufactured in 2008 have lower fuel efficiency than cars manufactured in 1999\"\n",
    "\n",
    "if(pval / 2) > alpha:\n",
    "    \n",
    "    print(f\"FAILED TO REJECT Ho: (Adapted Hypothesis)-> {Ho}\")\n",
    "    \n",
    "elif t < 0:\n",
    "    \n",
    "    print(f\"FAILED TO REJECT Ho: (Adapted Hypothesis)-> {Ho}\")\n",
    "    \n",
    "else:\n",
    "    \n",
    "    print(\"REJECT Ho\")\n",
    "    \n",
    "print()\n",
    "\n",
    "print(\"--------------------------Answer End-----------------------------\")"
   ]
  },
  {
   "cell_type": "markdown",
   "id": "a5908ab3",
   "metadata": {},
   "source": [
    "## B). -> Are compact cars more fuel-efficient than the average car?\n",
    "\n",
    "H0: Compact cars average fuel efficiency = average fuel efficiency in non-compact cars\n",
    "\n",
    "H1: Compact cars average fuel efficiency != average fuel efficiency in non-compact cars\n",
    "\n"
   ]
  },
  {
   "cell_type": "code",
   "execution_count": 275,
   "id": "96a55256",
   "metadata": {},
   "outputs": [
    {
     "data": {
      "text/html": [
       "<div>\n",
       "<style scoped>\n",
       "    .dataframe tbody tr th:only-of-type {\n",
       "        vertical-align: middle;\n",
       "    }\n",
       "\n",
       "    .dataframe tbody tr th {\n",
       "        vertical-align: top;\n",
       "    }\n",
       "\n",
       "    .dataframe thead th {\n",
       "        text-align: right;\n",
       "    }\n",
       "</style>\n",
       "<table border=\"1\" class=\"dataframe\">\n",
       "  <thead>\n",
       "    <tr style=\"text-align: right;\">\n",
       "      <th></th>\n",
       "      <th>manufacturer</th>\n",
       "      <th>model</th>\n",
       "      <th>displ</th>\n",
       "      <th>year</th>\n",
       "      <th>cyl</th>\n",
       "      <th>trans</th>\n",
       "      <th>drv</th>\n",
       "      <th>cty</th>\n",
       "      <th>hwy</th>\n",
       "      <th>fl</th>\n",
       "      <th>class</th>\n",
       "      <th>average_mpg</th>\n",
       "    </tr>\n",
       "  </thead>\n",
       "  <tbody>\n",
       "    <tr>\n",
       "      <th>1</th>\n",
       "      <td>audi</td>\n",
       "      <td>a4</td>\n",
       "      <td>1.8</td>\n",
       "      <td>1999</td>\n",
       "      <td>4</td>\n",
       "      <td>auto(l5)</td>\n",
       "      <td>f</td>\n",
       "      <td>18</td>\n",
       "      <td>29</td>\n",
       "      <td>p</td>\n",
       "      <td>compact</td>\n",
       "      <td>23.5</td>\n",
       "    </tr>\n",
       "    <tr>\n",
       "      <th>2</th>\n",
       "      <td>audi</td>\n",
       "      <td>a4</td>\n",
       "      <td>1.8</td>\n",
       "      <td>1999</td>\n",
       "      <td>4</td>\n",
       "      <td>manual(m5)</td>\n",
       "      <td>f</td>\n",
       "      <td>21</td>\n",
       "      <td>29</td>\n",
       "      <td>p</td>\n",
       "      <td>compact</td>\n",
       "      <td>25.0</td>\n",
       "    </tr>\n",
       "    <tr>\n",
       "      <th>3</th>\n",
       "      <td>audi</td>\n",
       "      <td>a4</td>\n",
       "      <td>2.0</td>\n",
       "      <td>2008</td>\n",
       "      <td>4</td>\n",
       "      <td>manual(m6)</td>\n",
       "      <td>f</td>\n",
       "      <td>20</td>\n",
       "      <td>31</td>\n",
       "      <td>p</td>\n",
       "      <td>compact</td>\n",
       "      <td>25.5</td>\n",
       "    </tr>\n",
       "    <tr>\n",
       "      <th>4</th>\n",
       "      <td>audi</td>\n",
       "      <td>a4</td>\n",
       "      <td>2.0</td>\n",
       "      <td>2008</td>\n",
       "      <td>4</td>\n",
       "      <td>auto(av)</td>\n",
       "      <td>f</td>\n",
       "      <td>21</td>\n",
       "      <td>30</td>\n",
       "      <td>p</td>\n",
       "      <td>compact</td>\n",
       "      <td>25.5</td>\n",
       "    </tr>\n",
       "    <tr>\n",
       "      <th>5</th>\n",
       "      <td>audi</td>\n",
       "      <td>a4</td>\n",
       "      <td>2.8</td>\n",
       "      <td>1999</td>\n",
       "      <td>6</td>\n",
       "      <td>auto(l5)</td>\n",
       "      <td>f</td>\n",
       "      <td>16</td>\n",
       "      <td>26</td>\n",
       "      <td>p</td>\n",
       "      <td>compact</td>\n",
       "      <td>21.0</td>\n",
       "    </tr>\n",
       "    <tr>\n",
       "      <th>...</th>\n",
       "      <td>...</td>\n",
       "      <td>...</td>\n",
       "      <td>...</td>\n",
       "      <td>...</td>\n",
       "      <td>...</td>\n",
       "      <td>...</td>\n",
       "      <td>...</td>\n",
       "      <td>...</td>\n",
       "      <td>...</td>\n",
       "      <td>...</td>\n",
       "      <td>...</td>\n",
       "      <td>...</td>\n",
       "    </tr>\n",
       "    <tr>\n",
       "      <th>230</th>\n",
       "      <td>volkswagen</td>\n",
       "      <td>passat</td>\n",
       "      <td>2.0</td>\n",
       "      <td>2008</td>\n",
       "      <td>4</td>\n",
       "      <td>auto(s6)</td>\n",
       "      <td>f</td>\n",
       "      <td>19</td>\n",
       "      <td>28</td>\n",
       "      <td>p</td>\n",
       "      <td>midsize</td>\n",
       "      <td>23.5</td>\n",
       "    </tr>\n",
       "    <tr>\n",
       "      <th>231</th>\n",
       "      <td>volkswagen</td>\n",
       "      <td>passat</td>\n",
       "      <td>2.0</td>\n",
       "      <td>2008</td>\n",
       "      <td>4</td>\n",
       "      <td>manual(m6)</td>\n",
       "      <td>f</td>\n",
       "      <td>21</td>\n",
       "      <td>29</td>\n",
       "      <td>p</td>\n",
       "      <td>midsize</td>\n",
       "      <td>25.0</td>\n",
       "    </tr>\n",
       "    <tr>\n",
       "      <th>232</th>\n",
       "      <td>volkswagen</td>\n",
       "      <td>passat</td>\n",
       "      <td>2.8</td>\n",
       "      <td>1999</td>\n",
       "      <td>6</td>\n",
       "      <td>auto(l5)</td>\n",
       "      <td>f</td>\n",
       "      <td>16</td>\n",
       "      <td>26</td>\n",
       "      <td>p</td>\n",
       "      <td>midsize</td>\n",
       "      <td>21.0</td>\n",
       "    </tr>\n",
       "    <tr>\n",
       "      <th>233</th>\n",
       "      <td>volkswagen</td>\n",
       "      <td>passat</td>\n",
       "      <td>2.8</td>\n",
       "      <td>1999</td>\n",
       "      <td>6</td>\n",
       "      <td>manual(m5)</td>\n",
       "      <td>f</td>\n",
       "      <td>18</td>\n",
       "      <td>26</td>\n",
       "      <td>p</td>\n",
       "      <td>midsize</td>\n",
       "      <td>22.0</td>\n",
       "    </tr>\n",
       "    <tr>\n",
       "      <th>234</th>\n",
       "      <td>volkswagen</td>\n",
       "      <td>passat</td>\n",
       "      <td>3.6</td>\n",
       "      <td>2008</td>\n",
       "      <td>6</td>\n",
       "      <td>auto(s6)</td>\n",
       "      <td>f</td>\n",
       "      <td>17</td>\n",
       "      <td>26</td>\n",
       "      <td>p</td>\n",
       "      <td>midsize</td>\n",
       "      <td>21.5</td>\n",
       "    </tr>\n",
       "  </tbody>\n",
       "</table>\n",
       "<p>234 rows × 12 columns</p>\n",
       "</div>"
      ],
      "text/plain": [
       "    manufacturer   model  displ  year  cyl       trans drv  cty  hwy fl  \\\n",
       "1           audi      a4    1.8  1999    4    auto(l5)   f   18   29  p   \n",
       "2           audi      a4    1.8  1999    4  manual(m5)   f   21   29  p   \n",
       "3           audi      a4    2.0  2008    4  manual(m6)   f   20   31  p   \n",
       "4           audi      a4    2.0  2008    4    auto(av)   f   21   30  p   \n",
       "5           audi      a4    2.8  1999    6    auto(l5)   f   16   26  p   \n",
       "..           ...     ...    ...   ...  ...         ...  ..  ...  ... ..   \n",
       "230   volkswagen  passat    2.0  2008    4    auto(s6)   f   19   28  p   \n",
       "231   volkswagen  passat    2.0  2008    4  manual(m6)   f   21   29  p   \n",
       "232   volkswagen  passat    2.8  1999    6    auto(l5)   f   16   26  p   \n",
       "233   volkswagen  passat    2.8  1999    6  manual(m5)   f   18   26  p   \n",
       "234   volkswagen  passat    3.6  2008    6    auto(s6)   f   17   26  p   \n",
       "\n",
       "       class  average_mpg  \n",
       "1    compact         23.5  \n",
       "2    compact         25.0  \n",
       "3    compact         25.5  \n",
       "4    compact         25.5  \n",
       "5    compact         21.0  \n",
       "..       ...          ...  \n",
       "230  midsize         23.5  \n",
       "231  midsize         25.0  \n",
       "232  midsize         21.0  \n",
       "233  midsize         22.0  \n",
       "234  midsize         21.5  \n",
       "\n",
       "[234 rows x 12 columns]"
      ]
     },
     "execution_count": 275,
     "metadata": {},
     "output_type": "execute_result"
    }
   ],
   "source": [
    "mpg"
   ]
  },
  {
   "cell_type": "code",
   "execution_count": 285,
   "id": "67ecb9b0",
   "metadata": {},
   "outputs": [
    {
     "data": {
      "text/html": [
       "<div>\n",
       "<style scoped>\n",
       "    .dataframe tbody tr th:only-of-type {\n",
       "        vertical-align: middle;\n",
       "    }\n",
       "\n",
       "    .dataframe tbody tr th {\n",
       "        vertical-align: top;\n",
       "    }\n",
       "\n",
       "    .dataframe thead th {\n",
       "        text-align: right;\n",
       "    }\n",
       "</style>\n",
       "<table border=\"1\" class=\"dataframe\">\n",
       "  <thead>\n",
       "    <tr style=\"text-align: right;\">\n",
       "      <th></th>\n",
       "      <th>manufacturer</th>\n",
       "      <th>model</th>\n",
       "      <th>displ</th>\n",
       "      <th>year</th>\n",
       "      <th>cyl</th>\n",
       "      <th>trans</th>\n",
       "      <th>drv</th>\n",
       "      <th>cty</th>\n",
       "      <th>hwy</th>\n",
       "      <th>fl</th>\n",
       "      <th>class_type</th>\n",
       "      <th>average_mpg</th>\n",
       "    </tr>\n",
       "  </thead>\n",
       "  <tbody>\n",
       "    <tr>\n",
       "      <th>1</th>\n",
       "      <td>audi</td>\n",
       "      <td>a4</td>\n",
       "      <td>1.8</td>\n",
       "      <td>1999</td>\n",
       "      <td>4</td>\n",
       "      <td>auto(l5)</td>\n",
       "      <td>f</td>\n",
       "      <td>18</td>\n",
       "      <td>29</td>\n",
       "      <td>p</td>\n",
       "      <td>compact</td>\n",
       "      <td>23.5</td>\n",
       "    </tr>\n",
       "    <tr>\n",
       "      <th>2</th>\n",
       "      <td>audi</td>\n",
       "      <td>a4</td>\n",
       "      <td>1.8</td>\n",
       "      <td>1999</td>\n",
       "      <td>4</td>\n",
       "      <td>manual(m5)</td>\n",
       "      <td>f</td>\n",
       "      <td>21</td>\n",
       "      <td>29</td>\n",
       "      <td>p</td>\n",
       "      <td>compact</td>\n",
       "      <td>25.0</td>\n",
       "    </tr>\n",
       "    <tr>\n",
       "      <th>3</th>\n",
       "      <td>audi</td>\n",
       "      <td>a4</td>\n",
       "      <td>2.0</td>\n",
       "      <td>2008</td>\n",
       "      <td>4</td>\n",
       "      <td>manual(m6)</td>\n",
       "      <td>f</td>\n",
       "      <td>20</td>\n",
       "      <td>31</td>\n",
       "      <td>p</td>\n",
       "      <td>compact</td>\n",
       "      <td>25.5</td>\n",
       "    </tr>\n",
       "    <tr>\n",
       "      <th>4</th>\n",
       "      <td>audi</td>\n",
       "      <td>a4</td>\n",
       "      <td>2.0</td>\n",
       "      <td>2008</td>\n",
       "      <td>4</td>\n",
       "      <td>auto(av)</td>\n",
       "      <td>f</td>\n",
       "      <td>21</td>\n",
       "      <td>30</td>\n",
       "      <td>p</td>\n",
       "      <td>compact</td>\n",
       "      <td>25.5</td>\n",
       "    </tr>\n",
       "    <tr>\n",
       "      <th>5</th>\n",
       "      <td>audi</td>\n",
       "      <td>a4</td>\n",
       "      <td>2.8</td>\n",
       "      <td>1999</td>\n",
       "      <td>6</td>\n",
       "      <td>auto(l5)</td>\n",
       "      <td>f</td>\n",
       "      <td>16</td>\n",
       "      <td>26</td>\n",
       "      <td>p</td>\n",
       "      <td>compact</td>\n",
       "      <td>21.0</td>\n",
       "    </tr>\n",
       "    <tr>\n",
       "      <th>...</th>\n",
       "      <td>...</td>\n",
       "      <td>...</td>\n",
       "      <td>...</td>\n",
       "      <td>...</td>\n",
       "      <td>...</td>\n",
       "      <td>...</td>\n",
       "      <td>...</td>\n",
       "      <td>...</td>\n",
       "      <td>...</td>\n",
       "      <td>...</td>\n",
       "      <td>...</td>\n",
       "      <td>...</td>\n",
       "    </tr>\n",
       "    <tr>\n",
       "      <th>230</th>\n",
       "      <td>volkswagen</td>\n",
       "      <td>passat</td>\n",
       "      <td>2.0</td>\n",
       "      <td>2008</td>\n",
       "      <td>4</td>\n",
       "      <td>auto(s6)</td>\n",
       "      <td>f</td>\n",
       "      <td>19</td>\n",
       "      <td>28</td>\n",
       "      <td>p</td>\n",
       "      <td>midsize</td>\n",
       "      <td>23.5</td>\n",
       "    </tr>\n",
       "    <tr>\n",
       "      <th>231</th>\n",
       "      <td>volkswagen</td>\n",
       "      <td>passat</td>\n",
       "      <td>2.0</td>\n",
       "      <td>2008</td>\n",
       "      <td>4</td>\n",
       "      <td>manual(m6)</td>\n",
       "      <td>f</td>\n",
       "      <td>21</td>\n",
       "      <td>29</td>\n",
       "      <td>p</td>\n",
       "      <td>midsize</td>\n",
       "      <td>25.0</td>\n",
       "    </tr>\n",
       "    <tr>\n",
       "      <th>232</th>\n",
       "      <td>volkswagen</td>\n",
       "      <td>passat</td>\n",
       "      <td>2.8</td>\n",
       "      <td>1999</td>\n",
       "      <td>6</td>\n",
       "      <td>auto(l5)</td>\n",
       "      <td>f</td>\n",
       "      <td>16</td>\n",
       "      <td>26</td>\n",
       "      <td>p</td>\n",
       "      <td>midsize</td>\n",
       "      <td>21.0</td>\n",
       "    </tr>\n",
       "    <tr>\n",
       "      <th>233</th>\n",
       "      <td>volkswagen</td>\n",
       "      <td>passat</td>\n",
       "      <td>2.8</td>\n",
       "      <td>1999</td>\n",
       "      <td>6</td>\n",
       "      <td>manual(m5)</td>\n",
       "      <td>f</td>\n",
       "      <td>18</td>\n",
       "      <td>26</td>\n",
       "      <td>p</td>\n",
       "      <td>midsize</td>\n",
       "      <td>22.0</td>\n",
       "    </tr>\n",
       "    <tr>\n",
       "      <th>234</th>\n",
       "      <td>volkswagen</td>\n",
       "      <td>passat</td>\n",
       "      <td>3.6</td>\n",
       "      <td>2008</td>\n",
       "      <td>6</td>\n",
       "      <td>auto(s6)</td>\n",
       "      <td>f</td>\n",
       "      <td>17</td>\n",
       "      <td>26</td>\n",
       "      <td>p</td>\n",
       "      <td>midsize</td>\n",
       "      <td>21.5</td>\n",
       "    </tr>\n",
       "  </tbody>\n",
       "</table>\n",
       "<p>234 rows × 12 columns</p>\n",
       "</div>"
      ],
      "text/plain": [
       "    manufacturer   model  displ  year  cyl       trans drv  cty  hwy fl  \\\n",
       "1           audi      a4    1.8  1999    4    auto(l5)   f   18   29  p   \n",
       "2           audi      a4    1.8  1999    4  manual(m5)   f   21   29  p   \n",
       "3           audi      a4    2.0  2008    4  manual(m6)   f   20   31  p   \n",
       "4           audi      a4    2.0  2008    4    auto(av)   f   21   30  p   \n",
       "5           audi      a4    2.8  1999    6    auto(l5)   f   16   26  p   \n",
       "..           ...     ...    ...   ...  ...         ...  ..  ...  ... ..   \n",
       "230   volkswagen  passat    2.0  2008    4    auto(s6)   f   19   28  p   \n",
       "231   volkswagen  passat    2.0  2008    4  manual(m6)   f   21   29  p   \n",
       "232   volkswagen  passat    2.8  1999    6    auto(l5)   f   16   26  p   \n",
       "233   volkswagen  passat    2.8  1999    6  manual(m5)   f   18   26  p   \n",
       "234   volkswagen  passat    3.6  2008    6    auto(s6)   f   17   26  p   \n",
       "\n",
       "    class_type  average_mpg  \n",
       "1      compact         23.5  \n",
       "2      compact         25.0  \n",
       "3      compact         25.5  \n",
       "4      compact         25.5  \n",
       "5      compact         21.0  \n",
       "..         ...          ...  \n",
       "230    midsize         23.5  \n",
       "231    midsize         25.0  \n",
       "232    midsize         21.0  \n",
       "233    midsize         22.0  \n",
       "234    midsize         21.5  \n",
       "\n",
       "[234 rows x 12 columns]"
      ]
     },
     "execution_count": 285,
     "metadata": {},
     "output_type": "execute_result"
    }
   ],
   "source": [
    "# Rename class to class_type\n",
    "\n",
    "mpg = mpg.rename(columns={\"class\":\"class_type\"})\n",
    "mpg"
   ]
  },
  {
   "cell_type": "code",
   "execution_count": 290,
   "id": "76a095ff",
   "metadata": {},
   "outputs": [
    {
     "name": "stdout",
     "output_type": "stream",
     "text": [
      "1      23.5\n",
      "2      25.0\n",
      "3      25.5\n",
      "4      25.5\n",
      "5      21.0\n",
      "6      22.0\n",
      "7      22.5\n",
      "8      22.0\n",
      "9      20.5\n",
      "10     24.0\n",
      "11     23.0\n",
      "12     20.0\n",
      "13     21.0\n",
      "14     21.0\n",
      "15     20.0\n",
      "142    25.0\n",
      "143    23.0\n",
      "170    22.5\n",
      "171    23.5\n",
      "172    22.0\n",
      "173    23.5\n",
      "187    24.0\n",
      "188    25.0\n",
      "189    26.0\n",
      "190    26.5\n",
      "191    22.0\n",
      "192    22.0\n",
      "193    22.5\n",
      "194    27.0\n",
      "195    28.5\n",
      "196    30.5\n",
      "197    32.5\n",
      "198    30.5\n",
      "208    25.0\n",
      "209    22.5\n",
      "210    25.0\n",
      "211    25.5\n",
      "212    20.5\n",
      "213    38.5\n",
      "214    25.0\n",
      "215    22.5\n",
      "216    25.5\n",
      "217    25.0\n",
      "218    25.0\n",
      "219    25.0\n",
      "220    19.5\n",
      "221    20.5\n",
      "Name: average_mpg, dtype: float64 16     19.5\n",
      "17     21.0\n",
      "18     19.5\n",
      "19     17.0\n",
      "20     13.0\n",
      "       ... \n",
      "230    23.5\n",
      "231    25.0\n",
      "232    21.0\n",
      "233    22.0\n",
      "234    21.5\n",
      "Name: average_mpg, Length: 187, dtype: float64\n"
     ]
    }
   ],
   "source": [
    "compact_cars_fuel_efficiency = mpg[mpg.class_type == 'compact'].average_mpg\n",
    "\n",
    "non_compact_cars_fuel_efficiency = mpg[mpg.class_type != 'compact'].average_mpg\n",
    "\n",
    "print(compact_cars_fuel_efficiency,non_compact_cars_fuel_efficiency)"
   ]
  },
  {
   "cell_type": "code",
   "execution_count": 294,
   "id": "1ba1064d",
   "metadata": {},
   "outputs": [
    {
     "name": "stdout",
     "output_type": "stream",
     "text": [
      "Compact cars var:  12.442876965772433\n",
      "Non Compact cars var:  23.652794548904602\n"
     ]
    }
   ],
   "source": [
    "# Check variance\n",
    "\n",
    "print(\"Compact cars var: \", compact_cars_fuel_efficiency.var())\n",
    "print(\"Non Compact cars var: \", non_compact_cars_fuel_efficiency.var())\n"
   ]
  },
  {
   "cell_type": "code",
   "execution_count": 299,
   "id": "d797c9bb",
   "metadata": {},
   "outputs": [
    {
     "data": {
      "text/plain": [
       "(8.128810422808078, 1.6018060656123074e-12)"
      ]
     },
     "execution_count": 299,
     "metadata": {},
     "output_type": "execute_result"
    }
   ],
   "source": [
    "# Using two sample t-tes\n",
    "\n",
    "t_compact, pval_compact = stats.ttest_ind(compact_cars_fuel_efficiency, non_compact_cars_fuel_efficiency, equal_var = False)\n",
    "t_compact, pval_compact"
   ]
  },
  {
   "cell_type": "code",
   "execution_count": 302,
   "id": "8a98682f",
   "metadata": {},
   "outputs": [
    {
     "name": "stdout",
     "output_type": "stream",
     "text": [
      "Average MPG Compact cars vs Non-compact cars\n",
      "\n",
      "____________________________________\n",
      "Hypothesis testing of two sample mean with two tails\n",
      "\n",
      "Determine: \n",
      "\n",
      "\t is P / 2:-  True\n",
      "\t t > 0:-  True\n",
      "\n",
      "--------------------------Answer Begin-----------------------------\n",
      "\n",
      "REJECT Ho & adapt H1\n",
      "\n",
      "--------------------------Answer End-----------------------------\n"
     ]
    }
   ],
   "source": [
    "# Decision:\n",
    "\n",
    "print(\"Average MPG Compact cars vs Non-compact cars\")\n",
    "print()\n",
    "print(\"____________________________________\")\n",
    "print(\"Hypothesis testing of two sample mean with two tails\")\n",
    "print()\n",
    "print(\"Determine: \\n\\n\\t is P / 2:- \", (pval_compact / 2) < alpha)\n",
    "print(\"\\t t > 0:- \", t_compact > 0)\n",
    "\n",
    "print()\n",
    "print(\"--------------------------Answer Begin-----------------------------\")\n",
    "print()\n",
    "# Hypothesis Logic\n",
    "\n",
    "Ho = \"Compact cars average fuel efficiency = average fuel efficiency in non-compact cars\"\n",
    "\n",
    "H1 = \"Compact cars average fuel efficiency != average fuel efficiency in non-compact cars\"\n",
    "\n",
    "if(pval_compact / 2) > alpha:\n",
    "    \n",
    "    print(f\"FAILED TO REJECT Ho: (Adapted Hypothesis)-> {Ho}\")\n",
    "    \n",
    "elif t_compact < 0:\n",
    "    \n",
    "    print(f\"FAILED TO REJECT Ho: (Adapted Hypothesis)-> {Ho}\")\n",
    "    \n",
    "else:\n",
    "    \n",
    "    print(\"REJECT Ho & adapt H1\")\n",
    "    \n",
    "print()\n",
    "\n",
    "print(\"--------------------------Answer End-----------------------------\")"
   ]
  },
  {
   "cell_type": "markdown",
   "id": "bab9691c",
   "metadata": {},
   "source": [
    "## C). -> Do manual cars get better gas mileage than automatic cars?\n",
    "\n",
    "H0: Manual car average gas mileage = average gas mileage for automatic cars\n",
    "H1: Manual car average gas mileage != average gas mileage for automatic cars\n"
   ]
  },
  {
   "cell_type": "code",
   "execution_count": 304,
   "id": "b77fc8c5",
   "metadata": {},
   "outputs": [
    {
     "data": {
      "text/html": [
       "<div>\n",
       "<style scoped>\n",
       "    .dataframe tbody tr th:only-of-type {\n",
       "        vertical-align: middle;\n",
       "    }\n",
       "\n",
       "    .dataframe tbody tr th {\n",
       "        vertical-align: top;\n",
       "    }\n",
       "\n",
       "    .dataframe thead th {\n",
       "        text-align: right;\n",
       "    }\n",
       "</style>\n",
       "<table border=\"1\" class=\"dataframe\">\n",
       "  <thead>\n",
       "    <tr style=\"text-align: right;\">\n",
       "      <th></th>\n",
       "      <th>manufacturer</th>\n",
       "      <th>model</th>\n",
       "      <th>displ</th>\n",
       "      <th>year</th>\n",
       "      <th>cyl</th>\n",
       "      <th>trans</th>\n",
       "      <th>drv</th>\n",
       "      <th>cty</th>\n",
       "      <th>hwy</th>\n",
       "      <th>fl</th>\n",
       "      <th>class_type</th>\n",
       "      <th>average_mpg</th>\n",
       "    </tr>\n",
       "  </thead>\n",
       "  <tbody>\n",
       "    <tr>\n",
       "      <th>1</th>\n",
       "      <td>audi</td>\n",
       "      <td>a4</td>\n",
       "      <td>1.8</td>\n",
       "      <td>1999</td>\n",
       "      <td>4</td>\n",
       "      <td>auto(l5)</td>\n",
       "      <td>f</td>\n",
       "      <td>18</td>\n",
       "      <td>29</td>\n",
       "      <td>p</td>\n",
       "      <td>compact</td>\n",
       "      <td>23.5</td>\n",
       "    </tr>\n",
       "    <tr>\n",
       "      <th>2</th>\n",
       "      <td>audi</td>\n",
       "      <td>a4</td>\n",
       "      <td>1.8</td>\n",
       "      <td>1999</td>\n",
       "      <td>4</td>\n",
       "      <td>manual(m5)</td>\n",
       "      <td>f</td>\n",
       "      <td>21</td>\n",
       "      <td>29</td>\n",
       "      <td>p</td>\n",
       "      <td>compact</td>\n",
       "      <td>25.0</td>\n",
       "    </tr>\n",
       "    <tr>\n",
       "      <th>3</th>\n",
       "      <td>audi</td>\n",
       "      <td>a4</td>\n",
       "      <td>2.0</td>\n",
       "      <td>2008</td>\n",
       "      <td>4</td>\n",
       "      <td>manual(m6)</td>\n",
       "      <td>f</td>\n",
       "      <td>20</td>\n",
       "      <td>31</td>\n",
       "      <td>p</td>\n",
       "      <td>compact</td>\n",
       "      <td>25.5</td>\n",
       "    </tr>\n",
       "    <tr>\n",
       "      <th>4</th>\n",
       "      <td>audi</td>\n",
       "      <td>a4</td>\n",
       "      <td>2.0</td>\n",
       "      <td>2008</td>\n",
       "      <td>4</td>\n",
       "      <td>auto(av)</td>\n",
       "      <td>f</td>\n",
       "      <td>21</td>\n",
       "      <td>30</td>\n",
       "      <td>p</td>\n",
       "      <td>compact</td>\n",
       "      <td>25.5</td>\n",
       "    </tr>\n",
       "    <tr>\n",
       "      <th>5</th>\n",
       "      <td>audi</td>\n",
       "      <td>a4</td>\n",
       "      <td>2.8</td>\n",
       "      <td>1999</td>\n",
       "      <td>6</td>\n",
       "      <td>auto(l5)</td>\n",
       "      <td>f</td>\n",
       "      <td>16</td>\n",
       "      <td>26</td>\n",
       "      <td>p</td>\n",
       "      <td>compact</td>\n",
       "      <td>21.0</td>\n",
       "    </tr>\n",
       "    <tr>\n",
       "      <th>...</th>\n",
       "      <td>...</td>\n",
       "      <td>...</td>\n",
       "      <td>...</td>\n",
       "      <td>...</td>\n",
       "      <td>...</td>\n",
       "      <td>...</td>\n",
       "      <td>...</td>\n",
       "      <td>...</td>\n",
       "      <td>...</td>\n",
       "      <td>...</td>\n",
       "      <td>...</td>\n",
       "      <td>...</td>\n",
       "    </tr>\n",
       "    <tr>\n",
       "      <th>230</th>\n",
       "      <td>volkswagen</td>\n",
       "      <td>passat</td>\n",
       "      <td>2.0</td>\n",
       "      <td>2008</td>\n",
       "      <td>4</td>\n",
       "      <td>auto(s6)</td>\n",
       "      <td>f</td>\n",
       "      <td>19</td>\n",
       "      <td>28</td>\n",
       "      <td>p</td>\n",
       "      <td>midsize</td>\n",
       "      <td>23.5</td>\n",
       "    </tr>\n",
       "    <tr>\n",
       "      <th>231</th>\n",
       "      <td>volkswagen</td>\n",
       "      <td>passat</td>\n",
       "      <td>2.0</td>\n",
       "      <td>2008</td>\n",
       "      <td>4</td>\n",
       "      <td>manual(m6)</td>\n",
       "      <td>f</td>\n",
       "      <td>21</td>\n",
       "      <td>29</td>\n",
       "      <td>p</td>\n",
       "      <td>midsize</td>\n",
       "      <td>25.0</td>\n",
       "    </tr>\n",
       "    <tr>\n",
       "      <th>232</th>\n",
       "      <td>volkswagen</td>\n",
       "      <td>passat</td>\n",
       "      <td>2.8</td>\n",
       "      <td>1999</td>\n",
       "      <td>6</td>\n",
       "      <td>auto(l5)</td>\n",
       "      <td>f</td>\n",
       "      <td>16</td>\n",
       "      <td>26</td>\n",
       "      <td>p</td>\n",
       "      <td>midsize</td>\n",
       "      <td>21.0</td>\n",
       "    </tr>\n",
       "    <tr>\n",
       "      <th>233</th>\n",
       "      <td>volkswagen</td>\n",
       "      <td>passat</td>\n",
       "      <td>2.8</td>\n",
       "      <td>1999</td>\n",
       "      <td>6</td>\n",
       "      <td>manual(m5)</td>\n",
       "      <td>f</td>\n",
       "      <td>18</td>\n",
       "      <td>26</td>\n",
       "      <td>p</td>\n",
       "      <td>midsize</td>\n",
       "      <td>22.0</td>\n",
       "    </tr>\n",
       "    <tr>\n",
       "      <th>234</th>\n",
       "      <td>volkswagen</td>\n",
       "      <td>passat</td>\n",
       "      <td>3.6</td>\n",
       "      <td>2008</td>\n",
       "      <td>6</td>\n",
       "      <td>auto(s6)</td>\n",
       "      <td>f</td>\n",
       "      <td>17</td>\n",
       "      <td>26</td>\n",
       "      <td>p</td>\n",
       "      <td>midsize</td>\n",
       "      <td>21.5</td>\n",
       "    </tr>\n",
       "  </tbody>\n",
       "</table>\n",
       "<p>234 rows × 12 columns</p>\n",
       "</div>"
      ],
      "text/plain": [
       "    manufacturer   model  displ  year  cyl       trans drv  cty  hwy fl  \\\n",
       "1           audi      a4    1.8  1999    4    auto(l5)   f   18   29  p   \n",
       "2           audi      a4    1.8  1999    4  manual(m5)   f   21   29  p   \n",
       "3           audi      a4    2.0  2008    4  manual(m6)   f   20   31  p   \n",
       "4           audi      a4    2.0  2008    4    auto(av)   f   21   30  p   \n",
       "5           audi      a4    2.8  1999    6    auto(l5)   f   16   26  p   \n",
       "..           ...     ...    ...   ...  ...         ...  ..  ...  ... ..   \n",
       "230   volkswagen  passat    2.0  2008    4    auto(s6)   f   19   28  p   \n",
       "231   volkswagen  passat    2.0  2008    4  manual(m6)   f   21   29  p   \n",
       "232   volkswagen  passat    2.8  1999    6    auto(l5)   f   16   26  p   \n",
       "233   volkswagen  passat    2.8  1999    6  manual(m5)   f   18   26  p   \n",
       "234   volkswagen  passat    3.6  2008    6    auto(s6)   f   17   26  p   \n",
       "\n",
       "    class_type  average_mpg  \n",
       "1      compact         23.5  \n",
       "2      compact         25.0  \n",
       "3      compact         25.5  \n",
       "4      compact         25.5  \n",
       "5      compact         21.0  \n",
       "..         ...          ...  \n",
       "230    midsize         23.5  \n",
       "231    midsize         25.0  \n",
       "232    midsize         21.0  \n",
       "233    midsize         22.0  \n",
       "234    midsize         21.5  \n",
       "\n",
       "[234 rows x 12 columns]"
      ]
     },
     "execution_count": 304,
     "metadata": {},
     "output_type": "execute_result"
    }
   ],
   "source": [
    "mpg"
   ]
  },
  {
   "cell_type": "code",
   "execution_count": 327,
   "id": "ce803ca5",
   "metadata": {},
   "outputs": [
    {
     "data": {
      "text/plain": [
       "auto(l4)      83\n",
       "manual(m5)    58\n",
       "auto(l5)      39\n",
       "manual(m6)    19\n",
       "auto(s6)      16\n",
       "auto(l6)       6\n",
       "auto(av)       5\n",
       "auto(s5)       3\n",
       "auto(s4)       3\n",
       "auto(l3)       2\n",
       "Name: trans, dtype: int64"
      ]
     },
     "execution_count": 327,
     "metadata": {},
     "output_type": "execute_result"
    }
   ],
   "source": [
    "mpg.trans.value_counts()"
   ]
  },
  {
   "cell_type": "code",
   "execution_count": 367,
   "id": "2ff8eed6",
   "metadata": {},
   "outputs": [
    {
     "data": {
      "text/plain": [
       "3      25.5\n",
       "10     24.0\n",
       "15     20.0\n",
       "24     21.0\n",
       "26     21.0\n",
       "28     19.5\n",
       "49     17.0\n",
       "65     14.0\n",
       "69     14.0\n",
       "70     10.5\n",
       "99     17.0\n",
       "108    25.0\n",
       "121    20.0\n",
       "145    27.5\n",
       "146    23.0\n",
       "206    16.5\n",
       "210    25.0\n",
       "217    25.0\n",
       "231    25.0\n",
       "2      25.0\n",
       "6      22.0\n",
       "8      22.0\n",
       "13     21.0\n",
       "52     15.5\n",
       "56     14.0\n",
       "72     13.5\n",
       "79     17.0\n",
       "85     15.5\n",
       "86     14.5\n",
       "91     22.0\n",
       "93     21.5\n",
       "96     18.5\n",
       "97     19.0\n",
       "100    30.5\n",
       "102    28.5\n",
       "103    26.0\n",
       "105    30.0\n",
       "110    22.5\n",
       "112    26.0\n",
       "114    22.0\n",
       "117    24.0\n",
       "118    24.0\n",
       "122    20.5\n",
       "142    25.0\n",
       "149    22.0\n",
       "152    16.0\n",
       "160    21.5\n",
       "162    23.5\n",
       "163    22.0\n",
       "167    22.5\n",
       "168    22.5\n",
       "172    22.0\n",
       "173    23.5\n",
       "174    17.5\n",
       "177    16.0\n",
       "180    25.0\n",
       "182    26.0\n",
       "185    22.0\n",
       "188    25.0\n",
       "189    26.0\n",
       "192    22.0\n",
       "196    30.5\n",
       "197    32.5\n",
       "201    17.5\n",
       "203    19.5\n",
       "204    16.0\n",
       "208    25.0\n",
       "212    20.5\n",
       "213    38.5\n",
       "214    25.0\n",
       "219    25.0\n",
       "221    20.5\n",
       "222    39.5\n",
       "224    25.0\n",
       "226    24.0\n",
       "228    25.0\n",
       "233    22.0\n",
       "Name: average_mpg, dtype: float64"
      ]
     },
     "execution_count": 367,
     "metadata": {},
     "output_type": "execute_result"
    }
   ],
   "source": [
    "def avg_mpg_manual_cars():\n",
    "    \n",
    "    manual_cars = []\n",
    "    \n",
    "    avg_manual_m6 = mpg[mpg.trans == 'manual(m6)'].average_mpg\n",
    "    avg_manual_m5 = mpg[mpg.trans == 'manual(m5)'].average_mpg\n",
    "    \n",
    "    manuals = [avg_manual_m6, avg_manual_m5]\n",
    "    \n",
    "    return pd.concat(manuals)\n",
    "\n",
    "avg_mpg_manual_cars()\n",
    "\n",
    "def avg_mpg_automatic_cars():\n",
    "    \n",
    "    automatic_cars = []\n",
    "    \n",
    "    avg_automatic_15 = mpg[mpg.trans == 'auto(15)'].average_mpg\n",
    "    avg_automatic_s6 = mpg[mpg.trans == 'auto(s6)'].average_mpg\n",
    "    avg_automatic_16 = mpg[mpg.trans == 'auto(16)'].average_mpg\n",
    "    avg_automatic_av = mpg[mpg.trans == 'auto(av)'].average_mpg\n",
    "    avg_automatic_s5 = mpg[mpg.trans == 'auto(s5)'].average_mpg\n",
    "    avg_automatic_s4 = mpg[mpg.trans == 'auto(s4)'].average_mpg\n",
    "    avg_automatic_13 = mpg[mpg.trans == 'auto(13)'].average_mpg\n",
    "\n",
    "    avg_mpg_automatic_cars = [avg_automatic_15, avg_automatic_s6, avg_automatic_16, \n",
    "                      avg_automatic_av, avg_automatic_s5, avg_automatic_s4, \n",
    "                      avg_automatic_13]\n",
    "    \n",
    "    return pd.concat(avg_mpg_automatic_cars)\n",
    "\n",
    "avg_mpg_manual_cars()\n",
    "avg_mpg_automatic_cars()"
   ]
  },
  {
   "cell_type": "code",
   "execution_count": 362,
   "id": "29bffd1e",
   "metadata": {},
   "outputs": [
    {
     "data": {
      "text/plain": [
       "26.635167464114833"
      ]
     },
     "execution_count": 362,
     "metadata": {},
     "output_type": "execute_result"
    }
   ],
   "source": [
    "# Var Manual Cars\n",
    "manual_cars().var()"
   ]
  },
  {
   "cell_type": "code",
   "execution_count": 364,
   "id": "e7c8ec83",
   "metadata": {},
   "outputs": [
    {
     "data": {
      "text/plain": [
       "11.915242165242164"
      ]
     },
     "execution_count": 364,
     "metadata": {},
     "output_type": "execute_result"
    }
   ],
   "source": [
    "# Var Automatic Cars\n",
    "automatic_cars().var()"
   ]
  },
  {
   "cell_type": "code",
   "execution_count": 369,
   "id": "cb9d317c",
   "metadata": {},
   "outputs": [
    {
     "data": {
      "text/plain": [
       "(0.4022557985499306, 0.6887507424704394)"
      ]
     },
     "execution_count": 369,
     "metadata": {},
     "output_type": "execute_result"
    }
   ],
   "source": [
    "t_man_auto, p_man_auto = stats.ttest_ind(manual_cars(), automatic_cars(), equal_var = False)\n",
    "t_man_auto, p_man_auto"
   ]
  },
  {
   "cell_type": "code",
   "execution_count": 370,
   "id": "68b17e44",
   "metadata": {},
   "outputs": [
    {
     "name": "stdout",
     "output_type": "stream",
     "text": [
      "Average MPG Manual cars vs Automatic cars\n",
      "\n",
      "____________________________________\n",
      "Hypothesis testing of two sample mean with two tails\n",
      "\n",
      "Determine: \n",
      "\n",
      "\t is P / 2:-  False\n",
      "\t t > 0:-  True\n",
      "\n",
      "--------------------------Answer Begin-----------------------------\n",
      "\n",
      "FAILED TO REJECT Ho: (Adapted Hypothesis)-> Manual car average gas mileage = average gas mileage for automatic cars\n",
      "\n",
      "--------------------------Answer End-----------------------------\n"
     ]
    }
   ],
   "source": [
    "# Decision:\n",
    "\n",
    "print(\"Average MPG Manual cars vs Automatic cars\")\n",
    "print()\n",
    "print(\"____________________________________\")\n",
    "print(\"Hypothesis testing of two sample mean with two tails\")\n",
    "print()\n",
    "print(\"Determine: \\n\\n\\t is P / 2:- \", (p_man_auto / 2) < alpha)\n",
    "print(\"\\t t > 0:- \", t_man_auto > 0)\n",
    "\n",
    "print()\n",
    "print(\"--------------------------Answer Begin-----------------------------\")\n",
    "print()\n",
    "# Hypothesis Logic\n",
    "\n",
    "H0 = \"Manual car average gas mileage = average gas mileage for automatic cars\"\n",
    "\n",
    "H1 = \"Manual car average gas mileage != average gas mileage for automatic cars\"\n",
    "\n",
    "if(p_man_auto / 2) > alpha:\n",
    "    \n",
    "    print(f\"FAILED TO REJECT Ho: (Adapted Hypothesis)-> {H0}\")\n",
    "    \n",
    "elif t_man_auto < 0:\n",
    "    \n",
    "    print(f\"FAILED TO REJECT Ho: (Adapted Hypothesis)-> {H0}\")\n",
    "    \n",
    "else:\n",
    "    \n",
    "    print(\"REJECT Ho & adapt H1\")\n",
    "    \n",
    "print()\n",
    "\n",
    "print(\"--------------------------Answer End-----------------------------\")"
   ]
  },
  {
   "cell_type": "markdown",
   "id": "473f15d5",
   "metadata": {},
   "source": [
    "# Refference\n",
    "Null Hypothesis\t------ H0: μa == μb\n",
    "\n",
    "Alternative Hypothesis (2-tail, significantly different)------ Ha: μa != μb\n",
    "    \n",
    "Alternative Hypothesis (1-tail, a is significantly smaller than b)------- Ha: μa < μb\n",
    "    \n",
    "Alternative Hypothesis (1-tail, a is significantly larger than b)------- Ha: μa < μb\n"
   ]
  },
  {
   "cell_type": "markdown",
   "id": "a82ba92f",
   "metadata": {},
   "source": [
    "# CLASS NOTES BELOW"
   ]
  },
  {
   "cell_type": "code",
   "execution_count": 16,
   "id": "0c3a1cea",
   "metadata": {},
   "outputs": [
    {
     "data": {
      "text/plain": [
       "array([[6, 3, 5, 3, 2, 4, 3, 4, 2, 2],\n",
       "       [1, 2, 2, 1, 1, 2, 4, 6, 5, 1],\n",
       "       [1, 5, 2, 4, 3, 5, 3, 5, 1, 6],\n",
       "       [1, 2, 4, 5, 5, 5, 2, 6, 4, 3]])"
      ]
     },
     "execution_count": 16,
     "metadata": {},
     "output_type": "execute_result"
    }
   ],
   "source": [
    "\n",
    "np.random.seed(123)\n",
    "\n",
    "n_dice_per_experiment = ncols = 10\n",
    "n_experiments = nrows = 100\n",
    "\n",
    "data = np.random.randint(1, 7, (nrows, ncols))\n",
    "\n",
    "data[:4]\n"
   ]
  },
  {
   "cell_type": "code",
   "execution_count": 17,
   "id": "bdf789b6",
   "metadata": {},
   "outputs": [
    {
     "data": {
      "text/plain": [
       "array([3.4, 2.5, 3.5, 3.7, 3.2, 4.7, 3.4, 3.2, 3.4, 3. , 3.7, 3.5, 4. ,\n",
       "       4.5, 2.9, 2.8, 2.9, 3.8, 3.2, 3.6, 3.4, 4. , 3.5, 3.3, 3.6, 3. ,\n",
       "       4.3, 3. , 3.3, 3.2, 4.2, 3.9, 3.2, 3.8, 3.6, 3.4, 2.7, 3.4, 3.2,\n",
       "       3.1, 3.2, 3. , 4.1, 3.3, 3. , 4.1, 3.4, 3.3, 2.9, 3.8, 3.4, 3.6,\n",
       "       3.9, 3.2, 4.7, 3.8, 3.5, 2.8, 3.8, 4.7, 4.1, 3.5, 2.8, 3.7, 3.4,\n",
       "       3.7, 3.6, 4.1, 3.6, 3.5, 2.9, 4. , 3.2, 3.4, 4.4, 2.9, 3.2, 3.9,\n",
       "       1.9, 3. , 3. , 3.5, 3.3, 4.4, 3.4, 4.2, 4.1, 3.2, 3.5, 3.5, 3.8,\n",
       "       3.1, 3.6, 2.9, 2.9, 4. , 3.3, 3.1, 3.4, 3.6])"
      ]
     },
     "execution_count": 17,
     "metadata": {},
     "output_type": "execute_result"
    }
   ],
   "source": [
    "calculated_averages = data.mean(axis=1)\n",
    "calculated_averages\n"
   ]
  },
  {
   "cell_type": "code",
   "execution_count": 18,
   "id": "5ae57b71",
   "metadata": {},
   "outputs": [
    {
     "data": {
      "text/plain": [
       "Text(0.5, 1.0, 'Outcome of averaging 10 dice rolls 100 times')"
      ]
     },
     "execution_count": 18,
     "metadata": {},
     "output_type": "execute_result"
    },
    {
     "data": {
      "image/png": "[encoded data removed]",
      "text/plain": [
       "<Figure size 432x288 with 1 Axes>"
      ]
     },
     "metadata": {
      "needs_background": "light"
     },
     "output_type": "display_data"
    }
   ],
   "source": [
    "plt.hist(calculated_averages)\n",
    "plt.xlabel(f'Average of {n_dice_per_experiment} dice rolls')\n",
    "plt.ylabel('# of Occurances')\n",
    "plt.title(f'Outcome of averaging {n_dice_per_experiment} dice rolls {n_experiments} times')\n"
   ]
  },
  {
   "cell_type": "code",
   "execution_count": 19,
   "id": "1d00dd6a",
   "metadata": {},
   "outputs": [
    {
     "data": {
      "text/plain": [
       "Index(['customer_id', 'gender', 'senior_citizen', 'partner', 'dependents',\n",
       "       'tenure', 'phone_service', 'multiple_lines', 'internet_service_type_id',\n",
       "       'online_security', 'online_backup', 'device_protection', 'tech_support',\n",
       "       'streaming_tv', 'streaming_movies', 'contract_type_id',\n",
       "       'paperless_billing', 'payment_type_id', 'monthly_charges',\n",
       "       'total_charges', 'churn'],\n",
       "      dtype='object')"
      ]
     },
     "execution_count": 19,
     "metadata": {},
     "output_type": "execute_result"
    }
   ],
   "source": [
    "import env\n",
    "\n",
    "db_url = f'mysql+pymysql://{env.user}:{env.password}@{env.host}/telco_churn'\n",
    "df = pd.read_sql('SELECT * FROM customers', db_url)\n",
    "\n",
    "df.columns\n"
   ]
  },
  {
   "cell_type": "code",
   "execution_count": 20,
   "id": "0b98a0bf",
   "metadata": {},
   "outputs": [
    {
     "data": {
      "text/plain": [
       "<AxesSubplot:>"
      ]
     },
     "execution_count": 20,
     "metadata": {},
     "output_type": "execute_result"
    },
    {
     "data": {
      "image/png": "[encoded data removed]",
      "text/plain": [
       "<Figure size 432x288 with 1 Axes>"
      ]
     },
     "metadata": {
      "needs_background": "light"
     },
     "output_type": "display_data"
    }
   ],
   "source": [
    "# Distribution of ALL Monthly Customers (POPULATION)\n",
    "\n",
    "df.monthly_charges.hist()"
   ]
  },
  {
   "cell_type": "code",
   "execution_count": 23,
   "id": "8f2676a4",
   "metadata": {},
   "outputs": [
    {
     "data": {
      "text/plain": [
       "<AxesSubplot:>"
      ]
     },
     "execution_count": 23,
     "metadata": {},
     "output_type": "execute_result"
    },
    {
     "data": {
      "image/png": "[encoded data removed]",
      "text/plain": [
       "<Figure size 432x288 with 1 Axes>"
      ]
     },
     "metadata": {
      "needs_background": "light"
     },
     "output_type": "display_data"
    }
   ],
   "source": [
    "# Churned Customers (SAMPLE)\n",
    "\n",
    "churn_sample = df[df.churn == 'Yes'].monthly_charges\n",
    "\n",
    "churn_sample.hist()"
   ]
  },
  {
   "cell_type": "code",
   "execution_count": 24,
   "id": "7244267e",
   "metadata": {},
   "outputs": [
    {
     "data": {
      "text/plain": [
       "<AxesSubplot:>"
      ]
     },
     "execution_count": 24,
     "metadata": {},
     "output_type": "execute_result"
    },
    {
     "data": {
      "image/png": "[encoded data removed]",
      "text/plain": [
       "<Figure size 432x288 with 1 Axes>"
      ]
     },
     "metadata": {
      "needs_background": "light"
     },
     "output_type": "display_data"
    }
   ],
   "source": [
    "no_churn_sample = df[df.churn == 'No'].monthly_charges\n",
    "\n",
    "no_churn_sample.hist()\n"
   ]
  },
  {
   "cell_type": "code",
   "execution_count": 25,
   "id": "1093d867",
   "metadata": {},
   "outputs": [
    {
     "name": "stdout",
     "output_type": "stream",
     "text": [
      "Churned:  (1869,) Non Churned:  (5174,)\n"
     ]
    }
   ],
   "source": [
    "print(\"Churned: \",churn_sample.shape, \"Non Churned: \", no_churn_sample.shape)"
   ]
  },
  {
   "cell_type": "markdown",
   "id": "c57b84fb",
   "metadata": {},
   "source": [
    "# Set Hypothesis\n",
    "\n",
    "H0: Mean of monthly charges of churned customers = Mean of monthly charges of customers who haven't churned\n",
    "\n",
    "Ha: Mean of monthly charges of churned customers > Mean of monthly charges of customers who haven't churned"
   ]
  },
  {
   "cell_type": "code",
   "execution_count": null,
   "id": "f142aa51",
   "metadata": {},
   "outputs": [
    {
     "data": {
      "text/plain": [
       "<AxesSubplot:>"
      ]
     },
     "execution_count": 58,
     "metadata": {},
     "output_type": "execute_result"
    },
    {
     "data": {
      "image/png": "[encoded data removed]",
      "text/plain": [
       "<Figure size 432x288 with 1 Axes>"
      ]
     },
     "metadata": {
      "needs_background": "light"
     },
     "output_type": "display_data"
    }
   ],
   "source": [
    "# Non-Churned Customers\n",
    "\n",
    "no_churn_sample = df[df.churn == 'No'].monthly_charges\n",
    "\n",
    "no_churn_sample.hist()"
   ]
  },
  {
   "cell_type": "code",
   "execution_count": null,
   "id": "17aae34c",
   "metadata": {},
   "outputs": [
    {
     "data": {
      "text/plain": [
       "No     5174\n",
       "Yes    1869\n",
       "Name: churn, dtype: int64"
      ]
     },
     "execution_count": 41,
     "metadata": {},
     "output_type": "execute_result"
    }
   ],
   "source": [
    "df.churn.value_counts()"
   ]
  },
  {
   "cell_type": "code",
   "execution_count": null,
   "id": "db28d37f",
   "metadata": {},
   "outputs": [
    {
     "data": {
      "text/plain": [
       "64.7616924605992"
      ]
     },
     "execution_count": 108,
     "metadata": {},
     "output_type": "execute_result"
    }
   ],
   "source": [
    "# Overall monthly Charges Mean\n",
    "\n",
    "overall_mean = df.monthly_charges.mean()\n",
    "\n",
    "overall_mean"
   ]
  },
  {
   "cell_type": "markdown",
   "id": "a45c6bc8",
   "metadata": {},
   "source": [
    "# ONE SAMPLE T-TEST (2 tail t-test) Example"
   ]
  },
  {
   "cell_type": "code",
   "execution_count": null,
   "id": "4e598622",
   "metadata": {},
   "outputs": [
    {
     "name": "stdout",
     "output_type": "stream",
     "text": [
      "T-value 16.96540308050567 | P-Value 3.740639299382399e-60 | Alpha Val 0.05\n"
     ]
    }
   ],
   "source": [
    "# ONE SAMPLE T-TEST (take p as is)\n",
    "\n",
    "\n",
    "t, pval = stats.ttest_1samp(churn_sample, overall_mean)\n",
    "\n",
    "alpha = 0.05\n",
    "\n",
    "print(\"T-value\",t, \"| P-Value\", pval, \"| Alpha Val\",alpha)"
   ]
  },
  {
   "cell_type": "markdown",
   "id": "345ed6e7",
   "metadata": {},
   "source": [
    "# ONE SAMPLE T-TEST (1 -tail t-test p/2) Example"
   ]
  },
  {
   "cell_type": "code",
   "execution_count": null,
   "id": "74de0915",
   "metadata": {},
   "outputs": [
    {
     "name": "stdout",
     "output_type": "stream",
     "text": [
      "T-value 16.96540308050567 | P-Value 1.8703196496911995e-60 | Alpha Val 0.05\n"
     ]
    }
   ],
   "source": [
    "# ONE TAIL(divide p/2)\n",
    "\n",
    "\n",
    "t, pval = stats.ttest_1samp(churn_sample, overall_mean)\n",
    "\n",
    "alpha = 0.05\n",
    "\n",
    "print(\"T-value\",t, \"| P-Value\", pval / 2, \"| Alpha Val\",alpha)"
   ]
  },
  {
   "cell_type": "code",
   "execution_count": null,
   "id": "f8fa004d",
   "metadata": {},
   "outputs": [
    {
     "name": "stdout",
     "output_type": "stream",
     "text": [
      "We reject $H_{0}$\n"
     ]
    }
   ],
   "source": [
    "# Decide Ho / H1\n",
    "\n",
    "if (p / 2) > alpha:\n",
    "    \n",
    "    print(\"We fail to reject $H_{0}$\")\n",
    "    \n",
    "elif t < 0:\n",
    "    \n",
    "    print(\"We fail to reject $H_{0}$\")\n",
    "    \n",
    "else:\n",
    "    \n",
    "    print(\"We reject $H_{0}$\")\n"
   ]
  },
  {
   "cell_type": "code",
   "execution_count": null,
   "id": "f4a4aa88",
   "metadata": {},
   "outputs": [
    {
     "name": "stdout",
     "output_type": "stream",
     "text": [
      "T-value 16.96540308050567 | P-Value 3.740639299382399e-60 | Alpha Val 0.05\n"
     ]
    }
   ],
   "source": [
    "# TWO TAILS (p)\n",
    "\n",
    "\n",
    "t, pval = stats.ttest_1samp(churn_sample, overall_mean)\n",
    "\n",
    "alpha = 0.05\n",
    "\n",
    "print(\"T-value\",t, \"| P-Value\", pval, \"| Alpha Val\",alpha)"
   ]
  },
  {
   "cell_type": "markdown",
   "id": "c71b18a7",
   "metadata": {},
   "source": [
    "# TWO SAMPLE T-TEST"
   ]
  },
  {
   "cell_type": "code",
   "execution_count": null,
   "id": "4f2f4aae",
   "metadata": {},
   "outputs": [
    {
     "name": "stdout",
     "output_type": "stream",
     "text": [
      "608.4141833954315\n",
      "966.7527670734293\n"
     ]
    }
   ],
   "source": [
    "print(churn_sample.var())\n",
    "print(no_churn_sample.var())"
   ]
  },
  {
   "cell_type": "code",
   "execution_count": null,
   "id": "3dd69b6a",
   "metadata": {},
   "outputs": [
    {
     "data": {
      "text/plain": [
       "(18.407526676414673, 4.2962246657737696e-73)"
      ]
     },
     "execution_count": 126,
     "metadata": {},
     "output_type": "execute_result"
    }
   ],
   "source": [
    "\n",
    "\n",
    "t, p = stats.ttest_ind(churn_sample, no_churn_sample, equal_var=False)\n",
    "\n",
    "t, p/2"
   ]
  },
  {
   "cell_type": "code",
   "execution_count": null,
   "id": "ee7003e3",
   "metadata": {},
   "outputs": [
    {
     "data": {
      "text/plain": [
       "LeveneResult(statistic=361.8444859598828, pvalue=1.0261244899421871e-78)"
      ]
     },
     "execution_count": 131,
     "metadata": {},
     "output_type": "execute_result"
    }
   ],
   "source": [
    "# Levene method checks if variance is equal\n",
    "\n",
    "stats.levene(churn_sample, no_churn_sample)"
   ]
  },
  {
   "cell_type": "code",
   "execution_count": null,
   "id": "198cf259",
   "metadata": {},
   "outputs": [
    {
     "name": "stdout",
     "output_type": "stream",
     "text": [
      "Reject Ho\n"
     ]
    }
   ],
   "source": [
    "# Decision for Two Sample t-test\n",
    "\n",
    "if (p/2 < alpha) & (t > 0):\n",
    "    \n",
    "    print(\"Reject Ho\")\n",
    "    \n",
    "else:\n",
    "    \n",
    "    print(\"Do not reject Ho\")"
   ]
  },
  {
   "cell_type": "markdown",
   "id": "03e2e8ab",
   "metadata": {},
   "source": [
    "# ONE SAMPLE T-TEST\n",
    "\n",
    "scipy.stats.ttest_1samp\n",
    "\n",
    "compute mean of sample and overall mean then compare the two means"
   ]
  },
  {
   "cell_type": "markdown",
   "id": "006f176b",
   "metadata": {},
   "source": [
    "# TWO SAMPLE T-TEST\n",
    "\n",
    "scipy.stats.ttest_ind\n",
    "\n",
    "Compute the mean of sample and mean of (population - sample) and compare the two i.e. (churn vs no-charn comparison example)"
   ]
  },
  {
   "cell_type": "markdown",
   "id": "8a0f4e4f",
   "metadata": {},
   "source": [
    "# ANOVA TESTING\n",
    "\n",
    "scipy.stats.stats.f_one_way\n",
    "\n",
    "Compare several means of different samples"
   ]
  },
  {
   "cell_type": "code",
   "execution_count": null,
   "id": "7bcc5db7",
   "metadata": {},
   "outputs": [
    {
     "data": {
      "text/html": [
       "<div>\n",
       "<style scoped>\n",
       "    .dataframe tbody tr th:only-of-type {\n",
       "        vertical-align: middle;\n",
       "    }\n",
       "\n",
       "    .dataframe tbody tr th {\n",
       "        vertical-align: top;\n",
       "    }\n",
       "\n",
       "    .dataframe thead th {\n",
       "        text-align: right;\n",
       "    }\n",
       "</style>\n",
       "<table border=\"1\" class=\"dataframe\">\n",
       "  <thead>\n",
       "    <tr style=\"text-align: right;\">\n",
       "      <th></th>\n",
       "      <th>sepal_length</th>\n",
       "      <th>sepal_width</th>\n",
       "      <th>petal_length</th>\n",
       "      <th>petal_width</th>\n",
       "      <th>species</th>\n",
       "    </tr>\n",
       "  </thead>\n",
       "  <tbody>\n",
       "    <tr>\n",
       "      <th>0</th>\n",
       "      <td>5.1</td>\n",
       "      <td>3.5</td>\n",
       "      <td>1.4</td>\n",
       "      <td>0.2</td>\n",
       "      <td>setosa</td>\n",
       "    </tr>\n",
       "    <tr>\n",
       "      <th>1</th>\n",
       "      <td>4.9</td>\n",
       "      <td>3.0</td>\n",
       "      <td>1.4</td>\n",
       "      <td>0.2</td>\n",
       "      <td>setosa</td>\n",
       "    </tr>\n",
       "    <tr>\n",
       "      <th>2</th>\n",
       "      <td>4.7</td>\n",
       "      <td>3.2</td>\n",
       "      <td>1.3</td>\n",
       "      <td>0.2</td>\n",
       "      <td>setosa</td>\n",
       "    </tr>\n",
       "    <tr>\n",
       "      <th>3</th>\n",
       "      <td>4.6</td>\n",
       "      <td>3.1</td>\n",
       "      <td>1.5</td>\n",
       "      <td>0.2</td>\n",
       "      <td>setosa</td>\n",
       "    </tr>\n",
       "    <tr>\n",
       "      <th>4</th>\n",
       "      <td>5.0</td>\n",
       "      <td>3.6</td>\n",
       "      <td>1.4</td>\n",
       "      <td>0.2</td>\n",
       "      <td>setosa</td>\n",
       "    </tr>\n",
       "    <tr>\n",
       "      <th>...</th>\n",
       "      <td>...</td>\n",
       "      <td>...</td>\n",
       "      <td>...</td>\n",
       "      <td>...</td>\n",
       "      <td>...</td>\n",
       "    </tr>\n",
       "    <tr>\n",
       "      <th>145</th>\n",
       "      <td>6.7</td>\n",
       "      <td>3.0</td>\n",
       "      <td>5.2</td>\n",
       "      <td>2.3</td>\n",
       "      <td>virginica</td>\n",
       "    </tr>\n",
       "    <tr>\n",
       "      <th>146</th>\n",
       "      <td>6.3</td>\n",
       "      <td>2.5</td>\n",
       "      <td>5.0</td>\n",
       "      <td>1.9</td>\n",
       "      <td>virginica</td>\n",
       "    </tr>\n",
       "    <tr>\n",
       "      <th>147</th>\n",
       "      <td>6.5</td>\n",
       "      <td>3.0</td>\n",
       "      <td>5.2</td>\n",
       "      <td>2.0</td>\n",
       "      <td>virginica</td>\n",
       "    </tr>\n",
       "    <tr>\n",
       "      <th>148</th>\n",
       "      <td>6.2</td>\n",
       "      <td>3.4</td>\n",
       "      <td>5.4</td>\n",
       "      <td>2.3</td>\n",
       "      <td>virginica</td>\n",
       "    </tr>\n",
       "    <tr>\n",
       "      <th>149</th>\n",
       "      <td>5.9</td>\n",
       "      <td>3.0</td>\n",
       "      <td>5.1</td>\n",
       "      <td>1.8</td>\n",
       "      <td>virginica</td>\n",
       "    </tr>\n",
       "  </tbody>\n",
       "</table>\n",
       "<p>150 rows × 5 columns</p>\n",
       "</div>"
      ],
      "text/plain": [
       "     sepal_length  sepal_width  petal_length  petal_width    species\n",
       "0             5.1          3.5           1.4          0.2     setosa\n",
       "1             4.9          3.0           1.4          0.2     setosa\n",
       "2             4.7          3.2           1.3          0.2     setosa\n",
       "3             4.6          3.1           1.5          0.2     setosa\n",
       "4             5.0          3.6           1.4          0.2     setosa\n",
       "..            ...          ...           ...          ...        ...\n",
       "145           6.7          3.0           5.2          2.3  virginica\n",
       "146           6.3          2.5           5.0          1.9  virginica\n",
       "147           6.5          3.0           5.2          2.0  virginica\n",
       "148           6.2          3.4           5.4          2.3  virginica\n",
       "149           5.9          3.0           5.1          1.8  virginica\n",
       "\n",
       "[150 rows x 5 columns]"
      ]
     },
     "execution_count": 11,
     "metadata": {},
     "output_type": "execute_result"
    }
   ],
   "source": [
    "\n",
    "df = sns.load_dataset('iris')\n",
    "\n",
    "df\n"
   ]
  },
  {
   "cell_type": "code",
   "execution_count": null,
   "id": "b082e1b1",
   "metadata": {},
   "outputs": [
    {
     "data": {
      "text/plain": [
       "setosa        50\n",
       "versicolor    50\n",
       "virginica     50\n",
       "Name: species, dtype: int64"
      ]
     },
     "execution_count": 121,
     "metadata": {},
     "output_type": "execute_result"
    }
   ],
   "source": [
    "df.species.value_counts()"
   ]
  },
  {
   "cell_type": "code",
   "execution_count": null,
   "id": "eafa1dc3",
   "metadata": {},
   "outputs": [
    {
     "data": {
      "text/plain": [
       "0     5.1\n",
       "1     4.9\n",
       "2     4.7\n",
       "3     4.6\n",
       "4     5.0\n",
       "5     5.4\n",
       "6     4.6\n",
       "7     5.0\n",
       "8     4.4\n",
       "9     4.9\n",
       "10    5.4\n",
       "11    4.8\n",
       "12    4.8\n",
       "13    4.3\n",
       "14    5.8\n",
       "15    5.7\n",
       "16    5.4\n",
       "17    5.1\n",
       "18    5.7\n",
       "19    5.1\n",
       "20    5.4\n",
       "21    5.1\n",
       "22    4.6\n",
       "23    5.1\n",
       "24    4.8\n",
       "25    5.0\n",
       "26    5.0\n",
       "27    5.2\n",
       "28    5.2\n",
       "29    4.7\n",
       "30    4.8\n",
       "31    5.4\n",
       "32    5.2\n",
       "33    5.5\n",
       "34    4.9\n",
       "35    5.0\n",
       "36    5.5\n",
       "37    4.9\n",
       "38    4.4\n",
       "39    5.1\n",
       "40    5.0\n",
       "41    4.5\n",
       "42    4.4\n",
       "43    5.0\n",
       "44    5.1\n",
       "45    4.8\n",
       "46    5.1\n",
       "47    4.6\n",
       "48    5.3\n",
       "49    5.0\n",
       "Name: sepal_length, dtype: float64"
      ]
     },
     "execution_count": 125,
     "metadata": {},
     "output_type": "execute_result"
    }
   ],
   "source": [
    "setosa_sepal_length = df[df.species == 'setosa'].sepal_length\n",
    "\n",
    "\n",
    "setosa_sepal_length"
   ]
  },
  {
   "cell_type": "code",
   "execution_count": null,
   "id": "eb05eb95",
   "metadata": {},
   "outputs": [
    {
     "data": {
      "text/plain": [
       "<AxesSubplot:>"
      ]
     },
     "execution_count": 79,
     "metadata": {},
     "output_type": "execute_result"
    },
    {
     "data": {
      "image/png": "[encoded data removed]",
      "text/plain": [
       "<Figure size 432x288 with 1 Axes>"
      ]
     },
     "metadata": {
      "needs_background": "light"
     },
     "output_type": "display_data"
    }
   ],
   "source": [
    "setosa_sepal_length.hist()"
   ]
  },
  {
   "cell_type": "code",
   "execution_count": 135,
   "id": "01743b95",
   "metadata": {},
   "outputs": [
    {
     "data": {
      "text/plain": [
       "50    7.0\n",
       "51    6.4\n",
       "52    6.9\n",
       "53    5.5\n",
       "54    6.5\n",
       "55    5.7\n",
       "56    6.3\n",
       "57    4.9\n",
       "58    6.6\n",
       "59    5.2\n",
       "60    5.0\n",
       "61    5.9\n",
       "62    6.0\n",
       "63    6.1\n",
       "64    5.6\n",
       "65    6.7\n",
       "66    5.6\n",
       "67    5.8\n",
       "68    6.2\n",
       "69    5.6\n",
       "70    5.9\n",
       "71    6.1\n",
       "72    6.3\n",
       "73    6.1\n",
       "74    6.4\n",
       "75    6.6\n",
       "76    6.8\n",
       "77    6.7\n",
       "78    6.0\n",
       "79    5.7\n",
       "80    5.5\n",
       "81    5.5\n",
       "82    5.8\n",
       "83    6.0\n",
       "84    5.4\n",
       "85    6.0\n",
       "86    6.7\n",
       "87    6.3\n",
       "88    5.6\n",
       "89    5.5\n",
       "90    5.5\n",
       "91    6.1\n",
       "92    5.8\n",
       "93    5.0\n",
       "94    5.6\n",
       "95    5.7\n",
       "96    5.7\n",
       "97    6.2\n",
       "98    5.1\n",
       "99    5.7\n",
       "Name: sepal_length, dtype: float64"
      ]
     },
     "execution_count": 135,
     "metadata": {},
     "output_type": "execute_result"
    }
   ],
   "source": [
    "versicolor_sepal_length = df[df.species == 'versicolor'].sepal_length\n",
    "versicolor_sepal_length"
   ]
  },
  {
   "cell_type": "code",
   "execution_count": null,
   "id": "24cc16c6",
   "metadata": {},
   "outputs": [
    {
     "data": {
      "text/plain": [
       "<AxesSubplot:>"
      ]
     },
     "execution_count": 81,
     "metadata": {},
     "output_type": "execute_result"
    },
    {
     "data": {
      "image/png": "[encoded data removed]",
      "text/plain": [
       "<Figure size 432x288 with 1 Axes>"
      ]
     },
     "metadata": {
      "needs_background": "light"
     },
     "output_type": "display_data"
    }
   ],
   "source": [
    "versicolor_sepal_length.hist()"
   ]
  },
  {
   "cell_type": "code",
   "execution_count": null,
   "id": "fa07bf63",
   "metadata": {},
   "outputs": [
    {
     "data": {
      "text/plain": [
       "100    6.3\n",
       "101    5.8\n",
       "102    7.1\n",
       "103    6.3\n",
       "104    6.5\n",
       "105    7.6\n",
       "106    4.9\n",
       "107    7.3\n",
       "108    6.7\n",
       "109    7.2\n",
       "110    6.5\n",
       "111    6.4\n",
       "112    6.8\n",
       "113    5.7\n",
       "114    5.8\n",
       "115    6.4\n",
       "116    6.5\n",
       "117    7.7\n",
       "118    7.7\n",
       "119    6.0\n",
       "120    6.9\n",
       "121    5.6\n",
       "122    7.7\n",
       "123    6.3\n",
       "124    6.7\n",
       "125    7.2\n",
       "126    6.2\n",
       "127    6.1\n",
       "128    6.4\n",
       "129    7.2\n",
       "130    7.4\n",
       "131    7.9\n",
       "132    6.4\n",
       "133    6.3\n",
       "134    6.1\n",
       "135    7.7\n",
       "136    6.3\n",
       "137    6.4\n",
       "138    6.0\n",
       "139    6.9\n",
       "140    6.7\n",
       "141    6.9\n",
       "142    5.8\n",
       "143    6.8\n",
       "144    6.7\n",
       "145    6.7\n",
       "146    6.3\n",
       "147    6.5\n",
       "148    6.2\n",
       "149    5.9\n",
       "Name: sepal_length, dtype: float64"
      ]
     },
     "execution_count": 77,
     "metadata": {},
     "output_type": "execute_result"
    }
   ],
   "source": [
    "virginica_sepal_length = df[df.species == 'virginica'].sepal_length\n",
    "virginica_sepal_length"
   ]
  },
  {
   "cell_type": "code",
   "execution_count": null,
   "id": "ddb62216",
   "metadata": {},
   "outputs": [
    {
     "data": {
      "text/plain": [
       "<AxesSubplot:>"
      ]
     },
     "execution_count": 82,
     "metadata": {},
     "output_type": "execute_result"
    },
    {
     "data": {
      "image/png": "[encoded data removed]",
      "text/plain": [
       "<Figure size 432x288 with 1 Axes>"
      ]
     },
     "metadata": {
      "needs_background": "light"
     },
     "output_type": "display_data"
    }
   ],
   "source": [
    "virginica_sepal_length.hist()"
   ]
  },
  {
   "cell_type": "code",
   "execution_count": null,
   "id": "ac1e1b0e",
   "metadata": {},
   "outputs": [
    {
     "name": "stdout",
     "output_type": "stream",
     "text": [
      "Setosa Var():  0.12424897959183666\n",
      "Versicolor Var():  0.2664326530612246\n",
      "Virginica Var():  0.40434285714285706\n"
     ]
    }
   ],
   "source": [
    "print(\"Setosa Var(): \", setosa_sepal_length.var())\n",
    "\n",
    "print(\"Versicolor Var(): \", versicolor_sepal_length.var())\n",
    "\n",
    "print(\"Virginica Var(): \", virginica_sepal_length.var())"
   ]
  },
  {
   "cell_type": "code",
   "execution_count": null,
   "id": "c63e5d1d",
   "metadata": {},
   "outputs": [
    {
     "data": {
      "text/plain": [
       "(119.26450218450468, 1.6696691907693826e-31)"
      ]
     },
     "execution_count": 88,
     "metadata": {},
     "output_type": "execute_result"
    }
   ],
   "source": [
    "\n",
    "\n",
    "f, p = stats.f_oneway(setosa_sepal_length, versicolor_sepal_length, virginica_sepal_length)\n",
    "\n",
    "f, p"
   ]
  },
  {
   "cell_type": "code",
   "execution_count": null,
   "id": "f89e85ea",
   "metadata": {},
   "outputs": [],
   "source": []
  }
 ],
 "metadata": {
  "kernelspec": {
   "display_name": "Python 3 (ipykernel)",
   "language": "python",
   "name": "python3"
  },
  "language_info": {
   "codemirror_mode": {
    "name": "ipython",
    "version": 3
   },
   "file_extension": ".py",
   "mimetype": "text/x-python",
   "name": "python",
   "nbconvert_exporter": "python",
   "pygments_lexer": "ipython3",
   "version": "3.9.7"
  }
 },
 "nbformat": 4,
 "nbformat_minor": 5
}
