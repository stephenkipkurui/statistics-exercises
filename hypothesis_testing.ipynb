{
 "cells": [
  {
   "cell_type": "markdown",
   "id": "49f62664",
   "metadata": {},
   "source": [
    "# ------------------------STATISTICS--------------------------"
   ]
  },
  {
   "cell_type": "markdown",
   "id": "568b08a9",
   "metadata": {},
   "source": [
    "\n",
    "\n",
    "# HYPOTHESIS TESTING EXERCISES\n",
    "\n",
    "Do your work for this exercise in a jupyter notebook named hypothesis_testing.ipynb.\n",
    "\n",
    "For each of the following questions, formulate a null and alternative hypothesis (be as specific as you can be), then give an example of what a true positive, true negative, type I and type II errors would look like. Note that some of the questions are intentionally phrased in a vague way. It is your job to reword these as more precise questions that could be tested.\n"
   ]
  },
  {
   "cell_type": "markdown",
   "id": "3e6642d2",
   "metadata": {},
   "source": [
    "## 1). Has the network latency gone up since we switched internet service providers?\n"
   ]
  },
  {
   "cell_type": "markdown",
   "id": "1072b4e5",
   "metadata": {},
   "source": [
    "Ho (Null Hypothesis): Network latency has gone up begining on date internet service providers (ISP) were switched. \n",
    "    \n",
    "H1 (Alternate Hypothesis): Network latency has not gone up begining on date internet service providers were switched.\n",
    "    \n",
    "True +ve: Accepting the Ho as expected since data inference sugest the network laterncy has gone up due to switching ISP. \n",
    "    \n",
    "True -ve: We accept Ho but the cause for network latency was not attributed to the switching of ISP. Could be the weather, distance from the tower, a new service plan, e.t.c. that coincided with the switching of ISP.\n",
    "\n",
    "Type I Error (False +ve): Reject Ho that network laterncy has not gone up (adapt H1) yet there is evidence inferred from data that this is not true. Swithching providers did not make network latency rise. \n",
    "\n",
    "Type II Error (False -ve): Failed to reject Ho above yet inference from statistical data suggest we should reject Ho and adapt H1 \n",
    "\n"
   ]
  },
  {
   "cell_type": "markdown",
   "id": "fc091fec",
   "metadata": {},
   "source": [
    "## 2). Is the website redesign any good?\n",
    "\n",
    "Good cannot be measured statistically. It has to be converted to \n"
   ]
  },
  {
   "cell_type": "markdown",
   "id": "22188da0",
   "metadata": {},
   "source": [
    "Ho (Null Hypothesis): Website redesign has resulted in higher sales return \n",
    "    \n",
    "H1 (Alternate Hypothesis): Website redesign did not affect sales return\n",
    "    \n",
    "True +ve: Accept Ho as inferred by statistical data\n",
    "    \n",
    "True -ve: Accept Ho but the cause os sales increase was not necessarily caused by the re-design.\n",
    "    \n",
    "Type I Error (False +ve): Rejected Ho above when inferred data sugest we should have kept the hypothesis \n",
    "    \n",
    "Type II Error (False -ve): Did not reject Ho yet we should have. Website redesign did not affect sales return\n",
    "    \n"
   ]
  },
  {
   "cell_type": "markdown",
   "id": "b73f938f",
   "metadata": {},
   "source": [
    "## 3). Is our television ad driving more sales?\n"
   ]
  },
  {
   "cell_type": "markdown",
   "id": "1d475193",
   "metadata": {},
   "source": [
    "Ho (Null Hypothesis): Listing our ad on television has resulted in increased sales.\n",
    "    \n",
    "H1 (Alternate Hypothesis): Listing our ad on television did not result in increased sales.\n",
    "    \n",
    "True +ve: Increased sales was directlty as a result in increased sales. Accept Ho\n",
    "    \n",
    "True -ve: Increased sales was as a result of listing our tv ad. Other factors caused the spike in sales\n",
    "    \n",
    "Type I Error (False +ve): Adapted H1 \n",
    "    \n",
    "Type II Error (False -ve): (Did not reject Ho, though should have)"
   ]
  },
  {
   "cell_type": "markdown",
   "id": "9e906aa9",
   "metadata": {},
   "source": [
    "# T-TEST EXERCISES"
   ]
  },
  {
   "cell_type": "code",
   "execution_count": 1,
   "id": "8315edb8",
   "metadata": {},
   "outputs": [],
   "source": [
    "import matplotlib.pyplot as plt\n",
    "import seaborn as sns\n",
    "\n",
    "\n",
    "import numpy as np\n",
    "import pandas as pd\n",
    "\n",
    "from scipy import stats\n",
    "from pydataset import data\n",
    "\n",
    "import env\n",
    "\n"
   ]
  },
  {
   "cell_type": "markdown",
   "id": "3b33b9dd",
   "metadata": {},
   "source": [
    "# Exercise #1\n",
    "\n",
    "Ace Realty wants to determine whether the average time it takes to sell homes is different for \n",
    "its two offices. A sample of 40 sales from office #1 revealed a mean of 90 days and a standard \n",
    "deviation of 15 days. A sample of 50 sales from office #2 revealed a mean of 100 days and a \n",
    "standard deviation of 20 days. Use a .05 level of significance.\n",
    "\n",
    "\n",
    "Ho: Office #1 average time to sell a home = average time to sell a home\n",
    "\n",
    "H1: Office #1 average time to sell a home != average time to sell a home\n"
   ]
  },
  {
   "cell_type": "code",
   "execution_count": 158,
   "id": "b08720f3",
   "metadata": {},
   "outputs": [
    {
     "data": {
      "text/plain": [
       "(-1.9420558076998378, 0.027671130804336405)"
      ]
     },
     "execution_count": 158,
     "metadata": {},
     "output_type": "execute_result"
    }
   ],
   "source": [
    "alpha = 0.05\n",
    "\n",
    "mean_office_one = 90\n",
    "std_office_one = 15\n",
    "sales_office_one = 40\n",
    "\n",
    "mean_office_two = 100 \n",
    "std_office_two = 20\n",
    "sales_office_two = 50\n",
    "\n",
    "office_one = np.random.normal(mean_office_one, std_office_one, sales_office_one)\n",
    "\n",
    "office_two = np.random.normal(mean_office_two, std_office_two, sales_office_two)\n",
    "\n",
    "\n",
    "# print(\"Office One Varriance: \", office_one.var(), \"\\nOffice Two Varriance: \", office_two.var())\n",
    "\n",
    "t, p = stats.ttest_ind(office_one, office_two, equal_var = False)\n",
    "\n",
    "t, p/ 2\n"
   ]
  },
  {
   "cell_type": "code",
   "execution_count": 185,
   "id": "40520893",
   "metadata": {},
   "outputs": [
    {
     "name": "stdout",
     "output_type": "stream",
     "text": [
      "This is a comparison of mean average time to sell a home by Ace Reator with two office locations\n",
      "\n",
      "_______________________________________________________________________________________________\n",
      "Hypothesis testing of two sample mean with two tails\n",
      "\n",
      "Determine: \n",
      "\n",
      "\t is P / 2:-  True\n",
      "\t t > 0:-  False\n",
      "\n",
      "--------------------------Answer Begin-----------------------------\n",
      "\n",
      "FAILED TO REJECT Ho: (Adapted Hypothesis)-> Office #1 average time to sell a home = average time to sell a home\n",
      "\n",
      "--------------------------Answer End-----------------------------\n"
     ]
    }
   ],
   "source": [
    "# Decision:\n",
    "\n",
    "print(\"This is a comparison of mean average time to sell a home by Ace Reator with two office locations\")\n",
    "print()\n",
    "print(\"_______________________________________________________________________________________________\")\n",
    "print(\"Hypothesis testing of two sample mean with two tails\")\n",
    "print()\n",
    "print(\"Determine: \\n\\n\\t is P / 2:- \", (p / 2) < alpha)\n",
    "print(\"\\t t > 0:- \", t > 0)\n",
    "\n",
    "print()\n",
    "print(\"--------------------------Answer Begin-----------------------------\")\n",
    "print()\n",
    "# Hypothesis Logic\n",
    "\n",
    "Ho = \"Office #1 average time to sell a home = average time to sell a home\"\n",
    "\n",
    "H1 = \"Office #1 average time to sell a home != average time to sell a home\"\n",
    "\n",
    "if(p / 2) > alpha:\n",
    "    \n",
    "    print(f\"FAILED TO REJECT Ho: (Adapted Hypothesis)-> {Ho}\")\n",
    "    \n",
    "elif t < 0:\n",
    "    \n",
    "    print(f\"FAILED TO REJECT Ho: (Adapted Hypothesis)-> {Ho}\")\n",
    "    \n",
    "else:\n",
    "    \n",
    "    print(\"REJECT Ho\")\n",
    "    \n",
    "print()\n",
    "\n",
    "print(\"--------------------------Answer End-----------------------------\")\n"
   ]
  },
  {
   "cell_type": "markdown",
   "id": "7175b355",
   "metadata": {},
   "source": [
    "# Exercise #2\n",
    "Load the mpg dataset and use it to answer the following questions:\n",
    "\n",
    " -> Is there a difference in fuel-efficiency in cars from 2008 vs 1999?\n",
    "\n",
    " -> Are compact cars more fuel-efficient than the average car?\n",
    "    \n",
    " -> Do manual cars get better gas mileage than automatic cars?\n"
   ]
  },
  {
   "cell_type": "code",
   "execution_count": 233,
   "id": "6617af97",
   "metadata": {},
   "outputs": [
    {
     "data": {
      "text/html": [
       "<div>\n",
       "<style scoped>\n",
       "    .dataframe tbody tr th:only-of-type {\n",
       "        vertical-align: middle;\n",
       "    }\n",
       "\n",
       "    .dataframe tbody tr th {\n",
       "        vertical-align: top;\n",
       "    }\n",
       "\n",
       "    .dataframe thead th {\n",
       "        text-align: right;\n",
       "    }\n",
       "</style>\n",
       "<table border=\"1\" class=\"dataframe\">\n",
       "  <thead>\n",
       "    <tr style=\"text-align: right;\">\n",
       "      <th></th>\n",
       "      <th>manufacturer</th>\n",
       "      <th>model</th>\n",
       "      <th>displ</th>\n",
       "      <th>year</th>\n",
       "      <th>cyl</th>\n",
       "      <th>trans</th>\n",
       "      <th>drv</th>\n",
       "      <th>cty</th>\n",
       "      <th>hwy</th>\n",
       "      <th>fl</th>\n",
       "      <th>class</th>\n",
       "    </tr>\n",
       "  </thead>\n",
       "  <tbody>\n",
       "    <tr>\n",
       "      <th>1</th>\n",
       "      <td>audi</td>\n",
       "      <td>a4</td>\n",
       "      <td>1.8</td>\n",
       "      <td>1999</td>\n",
       "      <td>4</td>\n",
       "      <td>auto(l5)</td>\n",
       "      <td>f</td>\n",
       "      <td>18</td>\n",
       "      <td>29</td>\n",
       "      <td>p</td>\n",
       "      <td>compact</td>\n",
       "    </tr>\n",
       "    <tr>\n",
       "      <th>2</th>\n",
       "      <td>audi</td>\n",
       "      <td>a4</td>\n",
       "      <td>1.8</td>\n",
       "      <td>1999</td>\n",
       "      <td>4</td>\n",
       "      <td>manual(m5)</td>\n",
       "      <td>f</td>\n",
       "      <td>21</td>\n",
       "      <td>29</td>\n",
       "      <td>p</td>\n",
       "      <td>compact</td>\n",
       "    </tr>\n",
       "    <tr>\n",
       "      <th>3</th>\n",
       "      <td>audi</td>\n",
       "      <td>a4</td>\n",
       "      <td>2.0</td>\n",
       "      <td>2008</td>\n",
       "      <td>4</td>\n",
       "      <td>manual(m6)</td>\n",
       "      <td>f</td>\n",
       "      <td>20</td>\n",
       "      <td>31</td>\n",
       "      <td>p</td>\n",
       "      <td>compact</td>\n",
       "    </tr>\n",
       "    <tr>\n",
       "      <th>4</th>\n",
       "      <td>audi</td>\n",
       "      <td>a4</td>\n",
       "      <td>2.0</td>\n",
       "      <td>2008</td>\n",
       "      <td>4</td>\n",
       "      <td>auto(av)</td>\n",
       "      <td>f</td>\n",
       "      <td>21</td>\n",
       "      <td>30</td>\n",
       "      <td>p</td>\n",
       "      <td>compact</td>\n",
       "    </tr>\n",
       "    <tr>\n",
       "      <th>5</th>\n",
       "      <td>audi</td>\n",
       "      <td>a4</td>\n",
       "      <td>2.8</td>\n",
       "      <td>1999</td>\n",
       "      <td>6</td>\n",
       "      <td>auto(l5)</td>\n",
       "      <td>f</td>\n",
       "      <td>16</td>\n",
       "      <td>26</td>\n",
       "      <td>p</td>\n",
       "      <td>compact</td>\n",
       "    </tr>\n",
       "    <tr>\n",
       "      <th>...</th>\n",
       "      <td>...</td>\n",
       "      <td>...</td>\n",
       "      <td>...</td>\n",
       "      <td>...</td>\n",
       "      <td>...</td>\n",
       "      <td>...</td>\n",
       "      <td>...</td>\n",
       "      <td>...</td>\n",
       "      <td>...</td>\n",
       "      <td>...</td>\n",
       "      <td>...</td>\n",
       "    </tr>\n",
       "    <tr>\n",
       "      <th>230</th>\n",
       "      <td>volkswagen</td>\n",
       "      <td>passat</td>\n",
       "      <td>2.0</td>\n",
       "      <td>2008</td>\n",
       "      <td>4</td>\n",
       "      <td>auto(s6)</td>\n",
       "      <td>f</td>\n",
       "      <td>19</td>\n",
       "      <td>28</td>\n",
       "      <td>p</td>\n",
       "      <td>midsize</td>\n",
       "    </tr>\n",
       "    <tr>\n",
       "      <th>231</th>\n",
       "      <td>volkswagen</td>\n",
       "      <td>passat</td>\n",
       "      <td>2.0</td>\n",
       "      <td>2008</td>\n",
       "      <td>4</td>\n",
       "      <td>manual(m6)</td>\n",
       "      <td>f</td>\n",
       "      <td>21</td>\n",
       "      <td>29</td>\n",
       "      <td>p</td>\n",
       "      <td>midsize</td>\n",
       "    </tr>\n",
       "    <tr>\n",
       "      <th>232</th>\n",
       "      <td>volkswagen</td>\n",
       "      <td>passat</td>\n",
       "      <td>2.8</td>\n",
       "      <td>1999</td>\n",
       "      <td>6</td>\n",
       "      <td>auto(l5)</td>\n",
       "      <td>f</td>\n",
       "      <td>16</td>\n",
       "      <td>26</td>\n",
       "      <td>p</td>\n",
       "      <td>midsize</td>\n",
       "    </tr>\n",
       "    <tr>\n",
       "      <th>233</th>\n",
       "      <td>volkswagen</td>\n",
       "      <td>passat</td>\n",
       "      <td>2.8</td>\n",
       "      <td>1999</td>\n",
       "      <td>6</td>\n",
       "      <td>manual(m5)</td>\n",
       "      <td>f</td>\n",
       "      <td>18</td>\n",
       "      <td>26</td>\n",
       "      <td>p</td>\n",
       "      <td>midsize</td>\n",
       "    </tr>\n",
       "    <tr>\n",
       "      <th>234</th>\n",
       "      <td>volkswagen</td>\n",
       "      <td>passat</td>\n",
       "      <td>3.6</td>\n",
       "      <td>2008</td>\n",
       "      <td>6</td>\n",
       "      <td>auto(s6)</td>\n",
       "      <td>f</td>\n",
       "      <td>17</td>\n",
       "      <td>26</td>\n",
       "      <td>p</td>\n",
       "      <td>midsize</td>\n",
       "    </tr>\n",
       "  </tbody>\n",
       "</table>\n",
       "<p>234 rows × 11 columns</p>\n",
       "</div>"
      ],
      "text/plain": [
       "    manufacturer   model  displ  year  cyl       trans drv  cty  hwy fl  \\\n",
       "1           audi      a4    1.8  1999    4    auto(l5)   f   18   29  p   \n",
       "2           audi      a4    1.8  1999    4  manual(m5)   f   21   29  p   \n",
       "3           audi      a4    2.0  2008    4  manual(m6)   f   20   31  p   \n",
       "4           audi      a4    2.0  2008    4    auto(av)   f   21   30  p   \n",
       "5           audi      a4    2.8  1999    6    auto(l5)   f   16   26  p   \n",
       "..           ...     ...    ...   ...  ...         ...  ..  ...  ... ..   \n",
       "230   volkswagen  passat    2.0  2008    4    auto(s6)   f   19   28  p   \n",
       "231   volkswagen  passat    2.0  2008    4  manual(m6)   f   21   29  p   \n",
       "232   volkswagen  passat    2.8  1999    6    auto(l5)   f   16   26  p   \n",
       "233   volkswagen  passat    2.8  1999    6  manual(m5)   f   18   26  p   \n",
       "234   volkswagen  passat    3.6  2008    6    auto(s6)   f   17   26  p   \n",
       "\n",
       "       class  \n",
       "1    compact  \n",
       "2    compact  \n",
       "3    compact  \n",
       "4    compact  \n",
       "5    compact  \n",
       "..       ...  \n",
       "230  midsize  \n",
       "231  midsize  \n",
       "232  midsize  \n",
       "233  midsize  \n",
       "234  midsize  \n",
       "\n",
       "[234 rows x 11 columns]"
      ]
     },
     "execution_count": 233,
     "metadata": {},
     "output_type": "execute_result"
    }
   ],
   "source": [
    "mpg = data('mpg')\n",
    "mpg\n"
   ]
  },
  {
   "cell_type": "code",
   "execution_count": 234,
   "id": "142603d0",
   "metadata": {},
   "outputs": [
    {
     "data": {
      "text/html": [
       "<div>\n",
       "<style scoped>\n",
       "    .dataframe tbody tr th:only-of-type {\n",
       "        vertical-align: middle;\n",
       "    }\n",
       "\n",
       "    .dataframe tbody tr th {\n",
       "        vertical-align: top;\n",
       "    }\n",
       "\n",
       "    .dataframe thead th {\n",
       "        text-align: right;\n",
       "    }\n",
       "</style>\n",
       "<table border=\"1\" class=\"dataframe\">\n",
       "  <thead>\n",
       "    <tr style=\"text-align: right;\">\n",
       "      <th></th>\n",
       "      <th>manufacturer</th>\n",
       "      <th>model</th>\n",
       "      <th>displ</th>\n",
       "      <th>year</th>\n",
       "      <th>cyl</th>\n",
       "      <th>trans</th>\n",
       "      <th>drv</th>\n",
       "      <th>cty</th>\n",
       "      <th>hwy</th>\n",
       "      <th>fl</th>\n",
       "      <th>class</th>\n",
       "      <th>average_mpg</th>\n",
       "    </tr>\n",
       "  </thead>\n",
       "  <tbody>\n",
       "    <tr>\n",
       "      <th>1</th>\n",
       "      <td>audi</td>\n",
       "      <td>a4</td>\n",
       "      <td>1.8</td>\n",
       "      <td>1999</td>\n",
       "      <td>4</td>\n",
       "      <td>auto(l5)</td>\n",
       "      <td>f</td>\n",
       "      <td>18</td>\n",
       "      <td>29</td>\n",
       "      <td>p</td>\n",
       "      <td>compact</td>\n",
       "      <td>23.5</td>\n",
       "    </tr>\n",
       "    <tr>\n",
       "      <th>2</th>\n",
       "      <td>audi</td>\n",
       "      <td>a4</td>\n",
       "      <td>1.8</td>\n",
       "      <td>1999</td>\n",
       "      <td>4</td>\n",
       "      <td>manual(m5)</td>\n",
       "      <td>f</td>\n",
       "      <td>21</td>\n",
       "      <td>29</td>\n",
       "      <td>p</td>\n",
       "      <td>compact</td>\n",
       "      <td>25.0</td>\n",
       "    </tr>\n",
       "    <tr>\n",
       "      <th>3</th>\n",
       "      <td>audi</td>\n",
       "      <td>a4</td>\n",
       "      <td>2.0</td>\n",
       "      <td>2008</td>\n",
       "      <td>4</td>\n",
       "      <td>manual(m6)</td>\n",
       "      <td>f</td>\n",
       "      <td>20</td>\n",
       "      <td>31</td>\n",
       "      <td>p</td>\n",
       "      <td>compact</td>\n",
       "      <td>25.5</td>\n",
       "    </tr>\n",
       "    <tr>\n",
       "      <th>4</th>\n",
       "      <td>audi</td>\n",
       "      <td>a4</td>\n",
       "      <td>2.0</td>\n",
       "      <td>2008</td>\n",
       "      <td>4</td>\n",
       "      <td>auto(av)</td>\n",
       "      <td>f</td>\n",
       "      <td>21</td>\n",
       "      <td>30</td>\n",
       "      <td>p</td>\n",
       "      <td>compact</td>\n",
       "      <td>25.5</td>\n",
       "    </tr>\n",
       "    <tr>\n",
       "      <th>5</th>\n",
       "      <td>audi</td>\n",
       "      <td>a4</td>\n",
       "      <td>2.8</td>\n",
       "      <td>1999</td>\n",
       "      <td>6</td>\n",
       "      <td>auto(l5)</td>\n",
       "      <td>f</td>\n",
       "      <td>16</td>\n",
       "      <td>26</td>\n",
       "      <td>p</td>\n",
       "      <td>compact</td>\n",
       "      <td>21.0</td>\n",
       "    </tr>\n",
       "    <tr>\n",
       "      <th>...</th>\n",
       "      <td>...</td>\n",
       "      <td>...</td>\n",
       "      <td>...</td>\n",
       "      <td>...</td>\n",
       "      <td>...</td>\n",
       "      <td>...</td>\n",
       "      <td>...</td>\n",
       "      <td>...</td>\n",
       "      <td>...</td>\n",
       "      <td>...</td>\n",
       "      <td>...</td>\n",
       "      <td>...</td>\n",
       "    </tr>\n",
       "    <tr>\n",
       "      <th>230</th>\n",
       "      <td>volkswagen</td>\n",
       "      <td>passat</td>\n",
       "      <td>2.0</td>\n",
       "      <td>2008</td>\n",
       "      <td>4</td>\n",
       "      <td>auto(s6)</td>\n",
       "      <td>f</td>\n",
       "      <td>19</td>\n",
       "      <td>28</td>\n",
       "      <td>p</td>\n",
       "      <td>midsize</td>\n",
       "      <td>23.5</td>\n",
       "    </tr>\n",
       "    <tr>\n",
       "      <th>231</th>\n",
       "      <td>volkswagen</td>\n",
       "      <td>passat</td>\n",
       "      <td>2.0</td>\n",
       "      <td>2008</td>\n",
       "      <td>4</td>\n",
       "      <td>manual(m6)</td>\n",
       "      <td>f</td>\n",
       "      <td>21</td>\n",
       "      <td>29</td>\n",
       "      <td>p</td>\n",
       "      <td>midsize</td>\n",
       "      <td>25.0</td>\n",
       "    </tr>\n",
       "    <tr>\n",
       "      <th>232</th>\n",
       "      <td>volkswagen</td>\n",
       "      <td>passat</td>\n",
       "      <td>2.8</td>\n",
       "      <td>1999</td>\n",
       "      <td>6</td>\n",
       "      <td>auto(l5)</td>\n",
       "      <td>f</td>\n",
       "      <td>16</td>\n",
       "      <td>26</td>\n",
       "      <td>p</td>\n",
       "      <td>midsize</td>\n",
       "      <td>21.0</td>\n",
       "    </tr>\n",
       "    <tr>\n",
       "      <th>233</th>\n",
       "      <td>volkswagen</td>\n",
       "      <td>passat</td>\n",
       "      <td>2.8</td>\n",
       "      <td>1999</td>\n",
       "      <td>6</td>\n",
       "      <td>manual(m5)</td>\n",
       "      <td>f</td>\n",
       "      <td>18</td>\n",
       "      <td>26</td>\n",
       "      <td>p</td>\n",
       "      <td>midsize</td>\n",
       "      <td>22.0</td>\n",
       "    </tr>\n",
       "    <tr>\n",
       "      <th>234</th>\n",
       "      <td>volkswagen</td>\n",
       "      <td>passat</td>\n",
       "      <td>3.6</td>\n",
       "      <td>2008</td>\n",
       "      <td>6</td>\n",
       "      <td>auto(s6)</td>\n",
       "      <td>f</td>\n",
       "      <td>17</td>\n",
       "      <td>26</td>\n",
       "      <td>p</td>\n",
       "      <td>midsize</td>\n",
       "      <td>21.5</td>\n",
       "    </tr>\n",
       "  </tbody>\n",
       "</table>\n",
       "<p>234 rows × 12 columns</p>\n",
       "</div>"
      ],
      "text/plain": [
       "    manufacturer   model  displ  year  cyl       trans drv  cty  hwy fl  \\\n",
       "1           audi      a4    1.8  1999    4    auto(l5)   f   18   29  p   \n",
       "2           audi      a4    1.8  1999    4  manual(m5)   f   21   29  p   \n",
       "3           audi      a4    2.0  2008    4  manual(m6)   f   20   31  p   \n",
       "4           audi      a4    2.0  2008    4    auto(av)   f   21   30  p   \n",
       "5           audi      a4    2.8  1999    6    auto(l5)   f   16   26  p   \n",
       "..           ...     ...    ...   ...  ...         ...  ..  ...  ... ..   \n",
       "230   volkswagen  passat    2.0  2008    4    auto(s6)   f   19   28  p   \n",
       "231   volkswagen  passat    2.0  2008    4  manual(m6)   f   21   29  p   \n",
       "232   volkswagen  passat    2.8  1999    6    auto(l5)   f   16   26  p   \n",
       "233   volkswagen  passat    2.8  1999    6  manual(m5)   f   18   26  p   \n",
       "234   volkswagen  passat    3.6  2008    6    auto(s6)   f   17   26  p   \n",
       "\n",
       "       class  average_mpg  \n",
       "1    compact         23.5  \n",
       "2    compact         25.0  \n",
       "3    compact         25.5  \n",
       "4    compact         25.5  \n",
       "5    compact         21.0  \n",
       "..       ...          ...  \n",
       "230  midsize         23.5  \n",
       "231  midsize         25.0  \n",
       "232  midsize         21.0  \n",
       "233  midsize         22.0  \n",
       "234  midsize         21.5  \n",
       "\n",
       "[234 rows x 12 columns]"
      ]
     },
     "execution_count": 234,
     "metadata": {},
     "output_type": "execute_result"
    }
   ],
   "source": [
    "mpg[\"average_mpg\"] = ((mpg[\"cty\"] + mpg[\"hwy\"]) / 2)\n",
    "mpg"
   ]
  },
  {
   "cell_type": "code",
   "execution_count": 235,
   "id": "801044c9",
   "metadata": {},
   "outputs": [
    {
     "data": {
      "text/plain": [
       "1999    117\n",
       "2008    117\n",
       "Name: year, dtype: int64"
      ]
     },
     "execution_count": 235,
     "metadata": {},
     "output_type": "execute_result"
    }
   ],
   "source": [
    "mpg = pd.DataFrame(mpg)\n",
    "\n",
    "mpg.year.value_counts()\n"
   ]
  },
  {
   "cell_type": "markdown",
   "id": "aec05991",
   "metadata": {},
   "source": [
    "## A). -> Is there a difference in fuel-efficiency in cars from 2008 vs 1999?\n",
    "\n",
    "\n",
    "HYPOTHESIS: \n",
    "H0: Cars manufactured in 2008 have higher fuel efficiency than cars manufactured in 1999\n",
    "\n",
    "H1: Cars manufactured in 2008 have lower fuel efficiency than cars manufactured in 1999"
   ]
  },
  {
   "cell_type": "code",
   "execution_count": 424,
   "id": "b5389055",
   "metadata": {},
   "outputs": [
    {
     "data": {
      "text/plain": [
       "(3     25.5\n",
       " 4     25.5\n",
       " 7     22.5\n",
       " 10    24.0\n",
       " 11    23.0\n",
       " Name: average_mpg, dtype: float64,\n",
       " 1    23.5\n",
       " 2    25.0\n",
       " 5    21.0\n",
       " 6    22.0\n",
       " 8    22.0\n",
       " Name: average_mpg, dtype: float64)"
      ]
     },
     "execution_count": 424,
     "metadata": {},
     "output_type": "execute_result"
    }
   ],
   "source": [
    "mpg_model_08 = mpg[mpg.year == 2008].average_mpg\n",
    "mpg_model_99 = mpg[mpg.year == 1999].average_mpg\n",
    "\n",
    "mpg_model_08.head(), mpg_model_99.head()\n"
   ]
  },
  {
   "cell_type": "code",
   "execution_count": 266,
   "id": "e3b0de1b",
   "metadata": {},
   "outputs": [
    {
     "name": "stdout",
     "output_type": "stream",
     "text": [
      "2008 Var:  24.097480106100797\n",
      "1999 Var:  27.122605363984682\n"
     ]
    }
   ],
   "source": [
    "print(\"2008 Var: \",mpg_model_08.var())\n",
    "print(\"1999 Var: \", mpg_model_99.var())\n"
   ]
  },
  {
   "cell_type": "code",
   "execution_count": 267,
   "id": "eccd65a6",
   "metadata": {},
   "outputs": [
    {
     "data": {
      "text/plain": [
       "(-0.21960177245940962, 0.8263750772060638)"
      ]
     },
     "execution_count": 267,
     "metadata": {},
     "output_type": "execute_result"
    }
   ],
   "source": [
    "t, pval = stats.ttest_ind(mpg_model_08, mpg_model_99, equal_var = False)\n",
    "t, pval"
   ]
  },
  {
   "cell_type": "code",
   "execution_count": 378,
   "id": "14ec7828",
   "metadata": {},
   "outputs": [
    {
     "name": "stdout",
     "output_type": "stream",
     "text": [
      "Average MPG 2008 vs 1999\n",
      "\n",
      "____________________________________\n",
      "Hypothesis testing of two sample mean with two tails\n",
      "\n",
      "Determine: \n",
      "\n",
      "\t is P / 2:-  True\n",
      "\t t > 0:-  True\n",
      "\n",
      "--------------------------Answer Begin-----------------------------\n",
      "\n",
      "REJECT Ho\n",
      "\n",
      "--------------------------Answer End-----------------------------\n"
     ]
    }
   ],
   "source": [
    "# Decision:\n",
    "\n",
    "print(\"Average MPG 2008 vs 1999\")\n",
    "print()\n",
    "print(\"____________________________________\")\n",
    "print(\"Hypothesis testing of two sample mean with two tails\")\n",
    "print()\n",
    "print(\"Determine: \\n\\n\\t is P / 2:- \", (pval / 2) < alpha)\n",
    "print(\"\\t t > 0:- \", t > 0)\n",
    "\n",
    "print()\n",
    "print(\"--------------------------Answer Begin-----------------------------\")\n",
    "print()\n",
    "# Hypothesis Logic\n",
    "\n",
    "Ho = \"Cars manufactured in 2008 have higher fuel efficiency than cars manufactured in 1999\"\n",
    "\n",
    "H1 = \"Cars manufactured in 2008 have lower fuel efficiency than cars manufactured in 1999\"\n",
    "\n",
    "if(pval / 2) > alpha:\n",
    "    \n",
    "    print(f\"FAILED TO REJECT Ho: (Adapted Hypothesis)-> {Ho}\")\n",
    "    \n",
    "elif t < 0:\n",
    "    \n",
    "    print(f\"FAILED TO REJECT Ho: (Adapted Hypothesis)-> {Ho}\")\n",
    "    \n",
    "else:\n",
    "    \n",
    "    print(\"REJECT Ho\")\n",
    "    \n",
    "print()\n",
    "\n",
    "print(\"--------------------------Answer End-----------------------------\")"
   ]
  },
  {
   "cell_type": "code",
   "execution_count": 379,
   "id": "f5bff694",
   "metadata": {},
   "outputs": [
    {
     "data": {
      "text/plain": [
       "<AxesSubplot:>"
      ]
     },
     "execution_count": 379,
     "metadata": {},
     "output_type": "execute_result"
    },
    {
     "data": {
      "image/png": "[encoded data removed]",
      "text/plain": [
       "<Figure size 432x288 with 1 Axes>"
      ]
     },
     "metadata": {
      "needs_background": "light"
     },
     "output_type": "display_data"
    }
   ],
   "source": [
    "# 2008 mpg_model\n",
    "\n",
    "mpg_model_08.hist()"
   ]
  },
  {
   "cell_type": "code",
   "execution_count": 380,
   "id": "e0a298c7",
   "metadata": {},
   "outputs": [
    {
     "data": {
      "text/plain": [
       "<AxesSubplot:>"
      ]
     },
     "execution_count": 380,
     "metadata": {},
     "output_type": "execute_result"
    },
    {
     "data": {
      "image/png": "[encoded data removed]",
      "text/plain": [
       "<Figure size 432x288 with 1 Axes>"
      ]
     },
     "metadata": {
      "needs_background": "light"
     },
     "output_type": "display_data"
    }
   ],
   "source": [
    "# 1999 mpg_model\n",
    "\n",
    "mpg_model_99.hist()"
   ]
  },
  {
   "cell_type": "markdown",
   "id": "35701db6",
   "metadata": {},
   "source": [
    "## B). -> Are compact cars more fuel-efficient than the average car?\n",
    "\n",
    "H0: Compact cars average fuel efficiency = average fuel efficiency in non-compact cars\n",
    "\n",
    "H1: Compact cars average fuel efficiency != average fuel efficiency in non-compact cars\n",
    "\n"
   ]
  },
  {
   "cell_type": "code",
   "execution_count": 275,
   "id": "2662ecf7",
   "metadata": {},
   "outputs": [
    {
     "data": {
      "text/html": [
       "<div>\n",
       "<style scoped>\n",
       "    .dataframe tbody tr th:only-of-type {\n",
       "        vertical-align: middle;\n",
       "    }\n",
       "\n",
       "    .dataframe tbody tr th {\n",
       "        vertical-align: top;\n",
       "    }\n",
       "\n",
       "    .dataframe thead th {\n",
       "        text-align: right;\n",
       "    }\n",
       "</style>\n",
       "<table border=\"1\" class=\"dataframe\">\n",
       "  <thead>\n",
       "    <tr style=\"text-align: right;\">\n",
       "      <th></th>\n",
       "      <th>manufacturer</th>\n",
       "      <th>model</th>\n",
       "      <th>displ</th>\n",
       "      <th>year</th>\n",
       "      <th>cyl</th>\n",
       "      <th>trans</th>\n",
       "      <th>drv</th>\n",
       "      <th>cty</th>\n",
       "      <th>hwy</th>\n",
       "      <th>fl</th>\n",
       "      <th>class</th>\n",
       "      <th>average_mpg</th>\n",
       "    </tr>\n",
       "  </thead>\n",
       "  <tbody>\n",
       "    <tr>\n",
       "      <th>1</th>\n",
       "      <td>audi</td>\n",
       "      <td>a4</td>\n",
       "      <td>1.8</td>\n",
       "      <td>1999</td>\n",
       "      <td>4</td>\n",
       "      <td>auto(l5)</td>\n",
       "      <td>f</td>\n",
       "      <td>18</td>\n",
       "      <td>29</td>\n",
       "      <td>p</td>\n",
       "      <td>compact</td>\n",
       "      <td>23.5</td>\n",
       "    </tr>\n",
       "    <tr>\n",
       "      <th>2</th>\n",
       "      <td>audi</td>\n",
       "      <td>a4</td>\n",
       "      <td>1.8</td>\n",
       "      <td>1999</td>\n",
       "      <td>4</td>\n",
       "      <td>manual(m5)</td>\n",
       "      <td>f</td>\n",
       "      <td>21</td>\n",
       "      <td>29</td>\n",
       "      <td>p</td>\n",
       "      <td>compact</td>\n",
       "      <td>25.0</td>\n",
       "    </tr>\n",
       "    <tr>\n",
       "      <th>3</th>\n",
       "      <td>audi</td>\n",
       "      <td>a4</td>\n",
       "      <td>2.0</td>\n",
       "      <td>2008</td>\n",
       "      <td>4</td>\n",
       "      <td>manual(m6)</td>\n",
       "      <td>f</td>\n",
       "      <td>20</td>\n",
       "      <td>31</td>\n",
       "      <td>p</td>\n",
       "      <td>compact</td>\n",
       "      <td>25.5</td>\n",
       "    </tr>\n",
       "    <tr>\n",
       "      <th>4</th>\n",
       "      <td>audi</td>\n",
       "      <td>a4</td>\n",
       "      <td>2.0</td>\n",
       "      <td>2008</td>\n",
       "      <td>4</td>\n",
       "      <td>auto(av)</td>\n",
       "      <td>f</td>\n",
       "      <td>21</td>\n",
       "      <td>30</td>\n",
       "      <td>p</td>\n",
       "      <td>compact</td>\n",
       "      <td>25.5</td>\n",
       "    </tr>\n",
       "    <tr>\n",
       "      <th>5</th>\n",
       "      <td>audi</td>\n",
       "      <td>a4</td>\n",
       "      <td>2.8</td>\n",
       "      <td>1999</td>\n",
       "      <td>6</td>\n",
       "      <td>auto(l5)</td>\n",
       "      <td>f</td>\n",
       "      <td>16</td>\n",
       "      <td>26</td>\n",
       "      <td>p</td>\n",
       "      <td>compact</td>\n",
       "      <td>21.0</td>\n",
       "    </tr>\n",
       "    <tr>\n",
       "      <th>...</th>\n",
       "      <td>...</td>\n",
       "      <td>...</td>\n",
       "      <td>...</td>\n",
       "      <td>...</td>\n",
       "      <td>...</td>\n",
       "      <td>...</td>\n",
       "      <td>...</td>\n",
       "      <td>...</td>\n",
       "      <td>...</td>\n",
       "      <td>...</td>\n",
       "      <td>...</td>\n",
       "      <td>...</td>\n",
       "    </tr>\n",
       "    <tr>\n",
       "      <th>230</th>\n",
       "      <td>volkswagen</td>\n",
       "      <td>passat</td>\n",
       "      <td>2.0</td>\n",
       "      <td>2008</td>\n",
       "      <td>4</td>\n",
       "      <td>auto(s6)</td>\n",
       "      <td>f</td>\n",
       "      <td>19</td>\n",
       "      <td>28</td>\n",
       "      <td>p</td>\n",
       "      <td>midsize</td>\n",
       "      <td>23.5</td>\n",
       "    </tr>\n",
       "    <tr>\n",
       "      <th>231</th>\n",
       "      <td>volkswagen</td>\n",
       "      <td>passat</td>\n",
       "      <td>2.0</td>\n",
       "      <td>2008</td>\n",
       "      <td>4</td>\n",
       "      <td>manual(m6)</td>\n",
       "      <td>f</td>\n",
       "      <td>21</td>\n",
       "      <td>29</td>\n",
       "      <td>p</td>\n",
       "      <td>midsize</td>\n",
       "      <td>25.0</td>\n",
       "    </tr>\n",
       "    <tr>\n",
       "      <th>232</th>\n",
       "      <td>volkswagen</td>\n",
       "      <td>passat</td>\n",
       "      <td>2.8</td>\n",
       "      <td>1999</td>\n",
       "      <td>6</td>\n",
       "      <td>auto(l5)</td>\n",
       "      <td>f</td>\n",
       "      <td>16</td>\n",
       "      <td>26</td>\n",
       "      <td>p</td>\n",
       "      <td>midsize</td>\n",
       "      <td>21.0</td>\n",
       "    </tr>\n",
       "    <tr>\n",
       "      <th>233</th>\n",
       "      <td>volkswagen</td>\n",
       "      <td>passat</td>\n",
       "      <td>2.8</td>\n",
       "      <td>1999</td>\n",
       "      <td>6</td>\n",
       "      <td>manual(m5)</td>\n",
       "      <td>f</td>\n",
       "      <td>18</td>\n",
       "      <td>26</td>\n",
       "      <td>p</td>\n",
       "      <td>midsize</td>\n",
       "      <td>22.0</td>\n",
       "    </tr>\n",
       "    <tr>\n",
       "      <th>234</th>\n",
       "      <td>volkswagen</td>\n",
       "      <td>passat</td>\n",
       "      <td>3.6</td>\n",
       "      <td>2008</td>\n",
       "      <td>6</td>\n",
       "      <td>auto(s6)</td>\n",
       "      <td>f</td>\n",
       "      <td>17</td>\n",
       "      <td>26</td>\n",
       "      <td>p</td>\n",
       "      <td>midsize</td>\n",
       "      <td>21.5</td>\n",
       "    </tr>\n",
       "  </tbody>\n",
       "</table>\n",
       "<p>234 rows × 12 columns</p>\n",
       "</div>"
      ],
      "text/plain": [
       "    manufacturer   model  displ  year  cyl       trans drv  cty  hwy fl  \\\n",
       "1           audi      a4    1.8  1999    4    auto(l5)   f   18   29  p   \n",
       "2           audi      a4    1.8  1999    4  manual(m5)   f   21   29  p   \n",
       "3           audi      a4    2.0  2008    4  manual(m6)   f   20   31  p   \n",
       "4           audi      a4    2.0  2008    4    auto(av)   f   21   30  p   \n",
       "5           audi      a4    2.8  1999    6    auto(l5)   f   16   26  p   \n",
       "..           ...     ...    ...   ...  ...         ...  ..  ...  ... ..   \n",
       "230   volkswagen  passat    2.0  2008    4    auto(s6)   f   19   28  p   \n",
       "231   volkswagen  passat    2.0  2008    4  manual(m6)   f   21   29  p   \n",
       "232   volkswagen  passat    2.8  1999    6    auto(l5)   f   16   26  p   \n",
       "233   volkswagen  passat    2.8  1999    6  manual(m5)   f   18   26  p   \n",
       "234   volkswagen  passat    3.6  2008    6    auto(s6)   f   17   26  p   \n",
       "\n",
       "       class  average_mpg  \n",
       "1    compact         23.5  \n",
       "2    compact         25.0  \n",
       "3    compact         25.5  \n",
       "4    compact         25.5  \n",
       "5    compact         21.0  \n",
       "..       ...          ...  \n",
       "230  midsize         23.5  \n",
       "231  midsize         25.0  \n",
       "232  midsize         21.0  \n",
       "233  midsize         22.0  \n",
       "234  midsize         21.5  \n",
       "\n",
       "[234 rows x 12 columns]"
      ]
     },
     "execution_count": 275,
     "metadata": {},
     "output_type": "execute_result"
    }
   ],
   "source": [
    "mpg"
   ]
  },
  {
   "cell_type": "code",
   "execution_count": 285,
   "id": "542952f3",
   "metadata": {},
   "outputs": [
    {
     "data": {
      "text/html": [
       "<div>\n",
       "<style scoped>\n",
       "    .dataframe tbody tr th:only-of-type {\n",
       "        vertical-align: middle;\n",
       "    }\n",
       "\n",
       "    .dataframe tbody tr th {\n",
       "        vertical-align: top;\n",
       "    }\n",
       "\n",
       "    .dataframe thead th {\n",
       "        text-align: right;\n",
       "    }\n",
       "</style>\n",
       "<table border=\"1\" class=\"dataframe\">\n",
       "  <thead>\n",
       "    <tr style=\"text-align: right;\">\n",
       "      <th></th>\n",
       "      <th>manufacturer</th>\n",
       "      <th>model</th>\n",
       "      <th>displ</th>\n",
       "      <th>year</th>\n",
       "      <th>cyl</th>\n",
       "      <th>trans</th>\n",
       "      <th>drv</th>\n",
       "      <th>cty</th>\n",
       "      <th>hwy</th>\n",
       "      <th>fl</th>\n",
       "      <th>class_type</th>\n",
       "      <th>average_mpg</th>\n",
       "    </tr>\n",
       "  </thead>\n",
       "  <tbody>\n",
       "    <tr>\n",
       "      <th>1</th>\n",
       "      <td>audi</td>\n",
       "      <td>a4</td>\n",
       "      <td>1.8</td>\n",
       "      <td>1999</td>\n",
       "      <td>4</td>\n",
       "      <td>auto(l5)</td>\n",
       "      <td>f</td>\n",
       "      <td>18</td>\n",
       "      <td>29</td>\n",
       "      <td>p</td>\n",
       "      <td>compact</td>\n",
       "      <td>23.5</td>\n",
       "    </tr>\n",
       "    <tr>\n",
       "      <th>2</th>\n",
       "      <td>audi</td>\n",
       "      <td>a4</td>\n",
       "      <td>1.8</td>\n",
       "      <td>1999</td>\n",
       "      <td>4</td>\n",
       "      <td>manual(m5)</td>\n",
       "      <td>f</td>\n",
       "      <td>21</td>\n",
       "      <td>29</td>\n",
       "      <td>p</td>\n",
       "      <td>compact</td>\n",
       "      <td>25.0</td>\n",
       "    </tr>\n",
       "    <tr>\n",
       "      <th>3</th>\n",
       "      <td>audi</td>\n",
       "      <td>a4</td>\n",
       "      <td>2.0</td>\n",
       "      <td>2008</td>\n",
       "      <td>4</td>\n",
       "      <td>manual(m6)</td>\n",
       "      <td>f</td>\n",
       "      <td>20</td>\n",
       "      <td>31</td>\n",
       "      <td>p</td>\n",
       "      <td>compact</td>\n",
       "      <td>25.5</td>\n",
       "    </tr>\n",
       "    <tr>\n",
       "      <th>4</th>\n",
       "      <td>audi</td>\n",
       "      <td>a4</td>\n",
       "      <td>2.0</td>\n",
       "      <td>2008</td>\n",
       "      <td>4</td>\n",
       "      <td>auto(av)</td>\n",
       "      <td>f</td>\n",
       "      <td>21</td>\n",
       "      <td>30</td>\n",
       "      <td>p</td>\n",
       "      <td>compact</td>\n",
       "      <td>25.5</td>\n",
       "    </tr>\n",
       "    <tr>\n",
       "      <th>5</th>\n",
       "      <td>audi</td>\n",
       "      <td>a4</td>\n",
       "      <td>2.8</td>\n",
       "      <td>1999</td>\n",
       "      <td>6</td>\n",
       "      <td>auto(l5)</td>\n",
       "      <td>f</td>\n",
       "      <td>16</td>\n",
       "      <td>26</td>\n",
       "      <td>p</td>\n",
       "      <td>compact</td>\n",
       "      <td>21.0</td>\n",
       "    </tr>\n",
       "    <tr>\n",
       "      <th>...</th>\n",
       "      <td>...</td>\n",
       "      <td>...</td>\n",
       "      <td>...</td>\n",
       "      <td>...</td>\n",
       "      <td>...</td>\n",
       "      <td>...</td>\n",
       "      <td>...</td>\n",
       "      <td>...</td>\n",
       "      <td>...</td>\n",
       "      <td>...</td>\n",
       "      <td>...</td>\n",
       "      <td>...</td>\n",
       "    </tr>\n",
       "    <tr>\n",
       "      <th>230</th>\n",
       "      <td>volkswagen</td>\n",
       "      <td>passat</td>\n",
       "      <td>2.0</td>\n",
       "      <td>2008</td>\n",
       "      <td>4</td>\n",
       "      <td>auto(s6)</td>\n",
       "      <td>f</td>\n",
       "      <td>19</td>\n",
       "      <td>28</td>\n",
       "      <td>p</td>\n",
       "      <td>midsize</td>\n",
       "      <td>23.5</td>\n",
       "    </tr>\n",
       "    <tr>\n",
       "      <th>231</th>\n",
       "      <td>volkswagen</td>\n",
       "      <td>passat</td>\n",
       "      <td>2.0</td>\n",
       "      <td>2008</td>\n",
       "      <td>4</td>\n",
       "      <td>manual(m6)</td>\n",
       "      <td>f</td>\n",
       "      <td>21</td>\n",
       "      <td>29</td>\n",
       "      <td>p</td>\n",
       "      <td>midsize</td>\n",
       "      <td>25.0</td>\n",
       "    </tr>\n",
       "    <tr>\n",
       "      <th>232</th>\n",
       "      <td>volkswagen</td>\n",
       "      <td>passat</td>\n",
       "      <td>2.8</td>\n",
       "      <td>1999</td>\n",
       "      <td>6</td>\n",
       "      <td>auto(l5)</td>\n",
       "      <td>f</td>\n",
       "      <td>16</td>\n",
       "      <td>26</td>\n",
       "      <td>p</td>\n",
       "      <td>midsize</td>\n",
       "      <td>21.0</td>\n",
       "    </tr>\n",
       "    <tr>\n",
       "      <th>233</th>\n",
       "      <td>volkswagen</td>\n",
       "      <td>passat</td>\n",
       "      <td>2.8</td>\n",
       "      <td>1999</td>\n",
       "      <td>6</td>\n",
       "      <td>manual(m5)</td>\n",
       "      <td>f</td>\n",
       "      <td>18</td>\n",
       "      <td>26</td>\n",
       "      <td>p</td>\n",
       "      <td>midsize</td>\n",
       "      <td>22.0</td>\n",
       "    </tr>\n",
       "    <tr>\n",
       "      <th>234</th>\n",
       "      <td>volkswagen</td>\n",
       "      <td>passat</td>\n",
       "      <td>3.6</td>\n",
       "      <td>2008</td>\n",
       "      <td>6</td>\n",
       "      <td>auto(s6)</td>\n",
       "      <td>f</td>\n",
       "      <td>17</td>\n",
       "      <td>26</td>\n",
       "      <td>p</td>\n",
       "      <td>midsize</td>\n",
       "      <td>21.5</td>\n",
       "    </tr>\n",
       "  </tbody>\n",
       "</table>\n",
       "<p>234 rows × 12 columns</p>\n",
       "</div>"
      ],
      "text/plain": [
       "    manufacturer   model  displ  year  cyl       trans drv  cty  hwy fl  \\\n",
       "1           audi      a4    1.8  1999    4    auto(l5)   f   18   29  p   \n",
       "2           audi      a4    1.8  1999    4  manual(m5)   f   21   29  p   \n",
       "3           audi      a4    2.0  2008    4  manual(m6)   f   20   31  p   \n",
       "4           audi      a4    2.0  2008    4    auto(av)   f   21   30  p   \n",
       "5           audi      a4    2.8  1999    6    auto(l5)   f   16   26  p   \n",
       "..           ...     ...    ...   ...  ...         ...  ..  ...  ... ..   \n",
       "230   volkswagen  passat    2.0  2008    4    auto(s6)   f   19   28  p   \n",
       "231   volkswagen  passat    2.0  2008    4  manual(m6)   f   21   29  p   \n",
       "232   volkswagen  passat    2.8  1999    6    auto(l5)   f   16   26  p   \n",
       "233   volkswagen  passat    2.8  1999    6  manual(m5)   f   18   26  p   \n",
       "234   volkswagen  passat    3.6  2008    6    auto(s6)   f   17   26  p   \n",
       "\n",
       "    class_type  average_mpg  \n",
       "1      compact         23.5  \n",
       "2      compact         25.0  \n",
       "3      compact         25.5  \n",
       "4      compact         25.5  \n",
       "5      compact         21.0  \n",
       "..         ...          ...  \n",
       "230    midsize         23.5  \n",
       "231    midsize         25.0  \n",
       "232    midsize         21.0  \n",
       "233    midsize         22.0  \n",
       "234    midsize         21.5  \n",
       "\n",
       "[234 rows x 12 columns]"
      ]
     },
     "execution_count": 285,
     "metadata": {},
     "output_type": "execute_result"
    }
   ],
   "source": [
    "# Rename class to class_type\n",
    "\n",
    "mpg = mpg.rename(columns={\"class\":\"class_type\"})\n",
    "mpg"
   ]
  },
  {
   "cell_type": "code",
   "execution_count": 425,
   "id": "d960fc0f",
   "metadata": {},
   "outputs": [
    {
     "name": "stdout",
     "output_type": "stream",
     "text": [
      "1    23.5\n",
      "2    25.0\n",
      "3    25.5\n",
      "4    25.5\n",
      "5    21.0\n",
      "Name: average_mpg, dtype: float64 16    19.5\n",
      "17    21.0\n",
      "18    19.5\n",
      "19    17.0\n",
      "20    13.0\n",
      "Name: average_mpg, dtype: float64\n"
     ]
    }
   ],
   "source": [
    "compact_cars_fuel_efficiency = mpg[mpg.class_type == 'compact'].average_mpg\n",
    "\n",
    "non_compact_cars_fuel_efficiency = mpg[mpg.class_type != 'compact'].average_mpg\n",
    "\n",
    "print(compact_cars_fuel_efficiency.head(),non_compact_cars_fuel_efficiency.head())"
   ]
  },
  {
   "cell_type": "code",
   "execution_count": 294,
   "id": "f0873226",
   "metadata": {},
   "outputs": [
    {
     "name": "stdout",
     "output_type": "stream",
     "text": [
      "Compact cars var:  12.442876965772433\n",
      "Non Compact cars var:  23.652794548904602\n"
     ]
    }
   ],
   "source": [
    "# Check variance\n",
    "\n",
    "print(\"Compact cars var: \", compact_cars_fuel_efficiency.var())\n",
    "print(\"Non Compact cars var: \", non_compact_cars_fuel_efficiency.var())\n"
   ]
  },
  {
   "cell_type": "code",
   "execution_count": 299,
   "id": "3266e798",
   "metadata": {},
   "outputs": [
    {
     "data": {
      "text/plain": [
       "(8.128810422808078, 1.6018060656123074e-12)"
      ]
     },
     "execution_count": 299,
     "metadata": {},
     "output_type": "execute_result"
    }
   ],
   "source": [
    "# Using two sample t-tes\n",
    "\n",
    "t_compact, pval_compact = stats.ttest_ind(compact_cars_fuel_efficiency, \n",
    "                                          non_compact_cars_fuel_efficiency, \n",
    "                                          equal_var = False)\n",
    "\n",
    "t_compact, pval_compact"
   ]
  },
  {
   "cell_type": "code",
   "execution_count": 375,
   "id": "da0c28f1",
   "metadata": {},
   "outputs": [
    {
     "name": "stdout",
     "output_type": "stream",
     "text": [
      "Average MPG Compact cars vs Non-compact cars\n",
      "\n",
      "____________________________________\n",
      "Hypothesis testing of two sample mean with two tails\n",
      "\n",
      "Determine: \n",
      "\n",
      "\t is P / 2:-  True\n",
      "\t t > 0:-  True\n",
      "\n",
      "--------------------------Answer Begin-----------------------------\n",
      "\n",
      "REJECT Ho & adapt H1\n",
      "\n",
      "--------------------------Answer End-----------------------------\n"
     ]
    }
   ],
   "source": [
    "# Decision:\n",
    "\n",
    "print(\"Average MPG Compact cars vs Non-compact cars\")\n",
    "print()\n",
    "print(\"____________________________________\")\n",
    "print(\"Hypothesis testing of two sample mean with two tails\")\n",
    "print()\n",
    "print(\"Determine: \\n\\n\\t is P / 2:- \", (pval_compact / 2) < alpha)\n",
    "print(\"\\t t > 0:- \", t_compact > 0)\n",
    "\n",
    "print()\n",
    "print(\"--------------------------Answer Begin-----------------------------\")\n",
    "print()\n",
    "# Hypothesis Logic\n",
    "\n",
    "Ho = \"Compact cars average fuel efficiency = average fuel efficiency in non-compact cars\"\n",
    "\n",
    "H1 = \"Compact cars average fuel efficiency != average fuel efficiency in non-compact cars\"\n",
    "\n",
    "if(pval_compact / 2) > alpha:\n",
    "    \n",
    "    print(f\"FAILED TO REJECT Ho: (Adapted Hypothesis)-> {Ho}\")\n",
    "    \n",
    "elif t_compact < 0:\n",
    "    \n",
    "    print(f\"FAILED TO REJECT Ho: (Adapted Hypothesis)-> {Ho}\")\n",
    "    \n",
    "else:\n",
    "    \n",
    "    print(\"REJECT Ho & adapt H1\")\n",
    "    \n",
    "print()\n",
    "\n",
    "print(\"--------------------------Answer End-----------------------------\")"
   ]
  },
  {
   "cell_type": "code",
   "execution_count": 376,
   "id": "f6b97aab",
   "metadata": {},
   "outputs": [
    {
     "data": {
      "text/plain": [
       "<AxesSubplot:>"
      ]
     },
     "execution_count": 376,
     "metadata": {},
     "output_type": "execute_result"
    },
    {
     "data": {
      "image/png": "[encoded data removed]",
      "text/plain": [
       "<Figure size 432x288 with 1 Axes>"
      ]
     },
     "metadata": {
      "needs_background": "light"
     },
     "output_type": "display_data"
    }
   ],
   "source": [
    "# Compact_cars_fuel_efficiency\n",
    "compact_cars_fuel_efficiency.hist()"
   ]
  },
  {
   "cell_type": "code",
   "execution_count": 377,
   "id": "1049470e",
   "metadata": {},
   "outputs": [
    {
     "data": {
      "text/plain": [
       "<AxesSubplot:>"
      ]
     },
     "execution_count": 377,
     "metadata": {},
     "output_type": "execute_result"
    },
    {
     "data": {
      "image/png": "[encoded data removed]",
      "text/plain": [
       "<Figure size 432x288 with 1 Axes>"
      ]
     },
     "metadata": {
      "needs_background": "light"
     },
     "output_type": "display_data"
    }
   ],
   "source": [
    "# Compact_cars_fuel_efficiency\n",
    "\n",
    "non_compact_cars_fuel_efficiency.hist()"
   ]
  },
  {
   "cell_type": "markdown",
   "id": "a4056ad2",
   "metadata": {},
   "source": [
    "## C). -> Do manual cars get better gas mileage than automatic cars?\n",
    "\n",
    "H0: Manual car average gas mileage = average gas mileage for automatic cars\n",
    "H1: Manual car average gas mileage != average gas mileage for automatic cars\n"
   ]
  },
  {
   "cell_type": "code",
   "execution_count": 304,
   "id": "ac649c15",
   "metadata": {},
   "outputs": [
    {
     "data": {
      "text/html": [
       "<div>\n",
       "<style scoped>\n",
       "    .dataframe tbody tr th:only-of-type {\n",
       "        vertical-align: middle;\n",
       "    }\n",
       "\n",
       "    .dataframe tbody tr th {\n",
       "        vertical-align: top;\n",
       "    }\n",
       "\n",
       "    .dataframe thead th {\n",
       "        text-align: right;\n",
       "    }\n",
       "</style>\n",
       "<table border=\"1\" class=\"dataframe\">\n",
       "  <thead>\n",
       "    <tr style=\"text-align: right;\">\n",
       "      <th></th>\n",
       "      <th>manufacturer</th>\n",
       "      <th>model</th>\n",
       "      <th>displ</th>\n",
       "      <th>year</th>\n",
       "      <th>cyl</th>\n",
       "      <th>trans</th>\n",
       "      <th>drv</th>\n",
       "      <th>cty</th>\n",
       "      <th>hwy</th>\n",
       "      <th>fl</th>\n",
       "      <th>class_type</th>\n",
       "      <th>average_mpg</th>\n",
       "    </tr>\n",
       "  </thead>\n",
       "  <tbody>\n",
       "    <tr>\n",
       "      <th>1</th>\n",
       "      <td>audi</td>\n",
       "      <td>a4</td>\n",
       "      <td>1.8</td>\n",
       "      <td>1999</td>\n",
       "      <td>4</td>\n",
       "      <td>auto(l5)</td>\n",
       "      <td>f</td>\n",
       "      <td>18</td>\n",
       "      <td>29</td>\n",
       "      <td>p</td>\n",
       "      <td>compact</td>\n",
       "      <td>23.5</td>\n",
       "    </tr>\n",
       "    <tr>\n",
       "      <th>2</th>\n",
       "      <td>audi</td>\n",
       "      <td>a4</td>\n",
       "      <td>1.8</td>\n",
       "      <td>1999</td>\n",
       "      <td>4</td>\n",
       "      <td>manual(m5)</td>\n",
       "      <td>f</td>\n",
       "      <td>21</td>\n",
       "      <td>29</td>\n",
       "      <td>p</td>\n",
       "      <td>compact</td>\n",
       "      <td>25.0</td>\n",
       "    </tr>\n",
       "    <tr>\n",
       "      <th>3</th>\n",
       "      <td>audi</td>\n",
       "      <td>a4</td>\n",
       "      <td>2.0</td>\n",
       "      <td>2008</td>\n",
       "      <td>4</td>\n",
       "      <td>manual(m6)</td>\n",
       "      <td>f</td>\n",
       "      <td>20</td>\n",
       "      <td>31</td>\n",
       "      <td>p</td>\n",
       "      <td>compact</td>\n",
       "      <td>25.5</td>\n",
       "    </tr>\n",
       "    <tr>\n",
       "      <th>4</th>\n",
       "      <td>audi</td>\n",
       "      <td>a4</td>\n",
       "      <td>2.0</td>\n",
       "      <td>2008</td>\n",
       "      <td>4</td>\n",
       "      <td>auto(av)</td>\n",
       "      <td>f</td>\n",
       "      <td>21</td>\n",
       "      <td>30</td>\n",
       "      <td>p</td>\n",
       "      <td>compact</td>\n",
       "      <td>25.5</td>\n",
       "    </tr>\n",
       "    <tr>\n",
       "      <th>5</th>\n",
       "      <td>audi</td>\n",
       "      <td>a4</td>\n",
       "      <td>2.8</td>\n",
       "      <td>1999</td>\n",
       "      <td>6</td>\n",
       "      <td>auto(l5)</td>\n",
       "      <td>f</td>\n",
       "      <td>16</td>\n",
       "      <td>26</td>\n",
       "      <td>p</td>\n",
       "      <td>compact</td>\n",
       "      <td>21.0</td>\n",
       "    </tr>\n",
       "    <tr>\n",
       "      <th>...</th>\n",
       "      <td>...</td>\n",
       "      <td>...</td>\n",
       "      <td>...</td>\n",
       "      <td>...</td>\n",
       "      <td>...</td>\n",
       "      <td>...</td>\n",
       "      <td>...</td>\n",
       "      <td>...</td>\n",
       "      <td>...</td>\n",
       "      <td>...</td>\n",
       "      <td>...</td>\n",
       "      <td>...</td>\n",
       "    </tr>\n",
       "    <tr>\n",
       "      <th>230</th>\n",
       "      <td>volkswagen</td>\n",
       "      <td>passat</td>\n",
       "      <td>2.0</td>\n",
       "      <td>2008</td>\n",
       "      <td>4</td>\n",
       "      <td>auto(s6)</td>\n",
       "      <td>f</td>\n",
       "      <td>19</td>\n",
       "      <td>28</td>\n",
       "      <td>p</td>\n",
       "      <td>midsize</td>\n",
       "      <td>23.5</td>\n",
       "    </tr>\n",
       "    <tr>\n",
       "      <th>231</th>\n",
       "      <td>volkswagen</td>\n",
       "      <td>passat</td>\n",
       "      <td>2.0</td>\n",
       "      <td>2008</td>\n",
       "      <td>4</td>\n",
       "      <td>manual(m6)</td>\n",
       "      <td>f</td>\n",
       "      <td>21</td>\n",
       "      <td>29</td>\n",
       "      <td>p</td>\n",
       "      <td>midsize</td>\n",
       "      <td>25.0</td>\n",
       "    </tr>\n",
       "    <tr>\n",
       "      <th>232</th>\n",
       "      <td>volkswagen</td>\n",
       "      <td>passat</td>\n",
       "      <td>2.8</td>\n",
       "      <td>1999</td>\n",
       "      <td>6</td>\n",
       "      <td>auto(l5)</td>\n",
       "      <td>f</td>\n",
       "      <td>16</td>\n",
       "      <td>26</td>\n",
       "      <td>p</td>\n",
       "      <td>midsize</td>\n",
       "      <td>21.0</td>\n",
       "    </tr>\n",
       "    <tr>\n",
       "      <th>233</th>\n",
       "      <td>volkswagen</td>\n",
       "      <td>passat</td>\n",
       "      <td>2.8</td>\n",
       "      <td>1999</td>\n",
       "      <td>6</td>\n",
       "      <td>manual(m5)</td>\n",
       "      <td>f</td>\n",
       "      <td>18</td>\n",
       "      <td>26</td>\n",
       "      <td>p</td>\n",
       "      <td>midsize</td>\n",
       "      <td>22.0</td>\n",
       "    </tr>\n",
       "    <tr>\n",
       "      <th>234</th>\n",
       "      <td>volkswagen</td>\n",
       "      <td>passat</td>\n",
       "      <td>3.6</td>\n",
       "      <td>2008</td>\n",
       "      <td>6</td>\n",
       "      <td>auto(s6)</td>\n",
       "      <td>f</td>\n",
       "      <td>17</td>\n",
       "      <td>26</td>\n",
       "      <td>p</td>\n",
       "      <td>midsize</td>\n",
       "      <td>21.5</td>\n",
       "    </tr>\n",
       "  </tbody>\n",
       "</table>\n",
       "<p>234 rows × 12 columns</p>\n",
       "</div>"
      ],
      "text/plain": [
       "    manufacturer   model  displ  year  cyl       trans drv  cty  hwy fl  \\\n",
       "1           audi      a4    1.8  1999    4    auto(l5)   f   18   29  p   \n",
       "2           audi      a4    1.8  1999    4  manual(m5)   f   21   29  p   \n",
       "3           audi      a4    2.0  2008    4  manual(m6)   f   20   31  p   \n",
       "4           audi      a4    2.0  2008    4    auto(av)   f   21   30  p   \n",
       "5           audi      a4    2.8  1999    6    auto(l5)   f   16   26  p   \n",
       "..           ...     ...    ...   ...  ...         ...  ..  ...  ... ..   \n",
       "230   volkswagen  passat    2.0  2008    4    auto(s6)   f   19   28  p   \n",
       "231   volkswagen  passat    2.0  2008    4  manual(m6)   f   21   29  p   \n",
       "232   volkswagen  passat    2.8  1999    6    auto(l5)   f   16   26  p   \n",
       "233   volkswagen  passat    2.8  1999    6  manual(m5)   f   18   26  p   \n",
       "234   volkswagen  passat    3.6  2008    6    auto(s6)   f   17   26  p   \n",
       "\n",
       "    class_type  average_mpg  \n",
       "1      compact         23.5  \n",
       "2      compact         25.0  \n",
       "3      compact         25.5  \n",
       "4      compact         25.5  \n",
       "5      compact         21.0  \n",
       "..         ...          ...  \n",
       "230    midsize         23.5  \n",
       "231    midsize         25.0  \n",
       "232    midsize         21.0  \n",
       "233    midsize         22.0  \n",
       "234    midsize         21.5  \n",
       "\n",
       "[234 rows x 12 columns]"
      ]
     },
     "execution_count": 304,
     "metadata": {},
     "output_type": "execute_result"
    }
   ],
   "source": [
    "mpg"
   ]
  },
  {
   "cell_type": "code",
   "execution_count": 327,
   "id": "d9ed4f9a",
   "metadata": {},
   "outputs": [
    {
     "data": {
      "text/plain": [
       "auto(l4)      83\n",
       "manual(m5)    58\n",
       "auto(l5)      39\n",
       "manual(m6)    19\n",
       "auto(s6)      16\n",
       "auto(l6)       6\n",
       "auto(av)       5\n",
       "auto(s5)       3\n",
       "auto(s4)       3\n",
       "auto(l3)       2\n",
       "Name: trans, dtype: int64"
      ]
     },
     "execution_count": 327,
     "metadata": {},
     "output_type": "execute_result"
    }
   ],
   "source": [
    "mpg.trans.value_counts()"
   ]
  },
  {
   "cell_type": "code",
   "execution_count": 427,
   "id": "c4b63e4e",
   "metadata": {},
   "outputs": [],
   "source": [
    "def avg_mpg_manual_cars():\n",
    "    \n",
    "    manual_cars = []\n",
    "    \n",
    "    avg_manual_m6 = mpg[mpg.trans == 'manual(m6)'].average_mpg\n",
    "    avg_manual_m5 = mpg[mpg.trans == 'manual(m5)'].average_mpg\n",
    "    \n",
    "    manuals = [avg_manual_m6, avg_manual_m5]\n",
    "    \n",
    "    return pd.concat(manuals)\n",
    "\n",
    "avg_mpg_manual_cars()\n",
    "\n",
    "def avg_mpg_automatic_cars():\n",
    "    \n",
    "    automatic_cars = []\n",
    "    \n",
    "    avg_automatic_15 = mpg[mpg.trans == 'auto(15)'].average_mpg\n",
    "    avg_automatic_s6 = mpg[mpg.trans == 'auto(s6)'].average_mpg\n",
    "    avg_automatic_16 = mpg[mpg.trans == 'auto(16)'].average_mpg\n",
    "    avg_automatic_av = mpg[mpg.trans == 'auto(av)'].average_mpg\n",
    "    avg_automatic_s5 = mpg[mpg.trans == 'auto(s5)'].average_mpg\n",
    "    avg_automatic_s4 = mpg[mpg.trans == 'auto(s4)'].average_mpg\n",
    "    avg_automatic_13 = mpg[mpg.trans == 'auto(13)'].average_mpg\n",
    "\n",
    "    avg_mpg_automatic_cars = [avg_automatic_15, avg_automatic_s6, avg_automatic_16, \n",
    "                      avg_automatic_av, avg_automatic_s5, avg_automatic_s4, \n",
    "                      avg_automatic_13]\n",
    "    \n",
    "    return pd.concat(avg_mpg_automatic_cars)\n",
    "\n",
    "# avg_mpg_manual_cars()\n",
    "# avg_mpg_automatic_cars()"
   ]
  },
  {
   "cell_type": "code",
   "execution_count": 429,
   "id": "402b3bfd",
   "metadata": {},
   "outputs": [
    {
     "data": {
      "text/plain": [
       "3     25.5\n",
       "10    24.0\n",
       "15    20.0\n",
       "24    21.0\n",
       "26    21.0\n",
       "Name: average_mpg, dtype: float64"
      ]
     },
     "execution_count": 429,
     "metadata": {},
     "output_type": "execute_result"
    }
   ],
   "source": [
    "avg_mpg_manual_cars().head()"
   ]
  },
  {
   "cell_type": "code",
   "execution_count": 428,
   "id": "a9b9e335",
   "metadata": {},
   "outputs": [
    {
     "data": {
      "text/plain": [
       "11    23.0\n",
       "14    21.0\n",
       "17    21.0\n",
       "18    19.5\n",
       "27    20.0\n",
       "Name: average_mpg, dtype: float64"
      ]
     },
     "execution_count": 428,
     "metadata": {},
     "output_type": "execute_result"
    }
   ],
   "source": [
    "avg_mpg_automatic_cars().head()"
   ]
  },
  {
   "cell_type": "code",
   "execution_count": 362,
   "id": "f55398d1",
   "metadata": {},
   "outputs": [
    {
     "data": {
      "text/plain": [
       "26.635167464114833"
      ]
     },
     "execution_count": 362,
     "metadata": {},
     "output_type": "execute_result"
    }
   ],
   "source": [
    "# Var Manual Cars\n",
    "manual_cars().var()"
   ]
  },
  {
   "cell_type": "code",
   "execution_count": 364,
   "id": "3ba6ece1",
   "metadata": {},
   "outputs": [
    {
     "data": {
      "text/plain": [
       "11.915242165242164"
      ]
     },
     "execution_count": 364,
     "metadata": {},
     "output_type": "execute_result"
    }
   ],
   "source": [
    "# Var Automatic Cars\n",
    "automatic_cars().var()"
   ]
  },
  {
   "cell_type": "code",
   "execution_count": 369,
   "id": "fe0fc9fa",
   "metadata": {},
   "outputs": [
    {
     "data": {
      "text/plain": [
       "(0.4022557985499306, 0.6887507424704394)"
      ]
     },
     "execution_count": 369,
     "metadata": {},
     "output_type": "execute_result"
    }
   ],
   "source": [
    "t_man_auto, p_man_auto = stats.ttest_ind(manual_cars(), automatic_cars(), equal_var = False)\n",
    "t_man_auto, p_man_auto"
   ]
  },
  {
   "cell_type": "code",
   "execution_count": 371,
   "id": "207fc727",
   "metadata": {},
   "outputs": [
    {
     "name": "stdout",
     "output_type": "stream",
     "text": [
      "Average MPG Manual cars vs Automatic cars\n",
      "\n",
      "____________________________________\n",
      "Hypothesis testing of two sample mean with two tails\n",
      "\n",
      "Determine: \n",
      "\n",
      "\t is P / 2:-  False\n",
      "\t t > 0:-  True\n",
      "\n",
      "--------------------------Answer Begin-----------------------------\n",
      "\n",
      "FAILED TO REJECT Ho: (Adapted Hypothesis)-> Manual car average gas mileage = average gas mileage for automatic cars\n",
      "\n",
      "--------------------------Answer End-----------------------------\n"
     ]
    }
   ],
   "source": [
    "# Decision:\n",
    "\n",
    "print(\"Average MPG Manual cars vs Automatic cars\")\n",
    "print()\n",
    "print(\"____________________________________\")\n",
    "print(\"Hypothesis testing of two sample mean with two tails\")\n",
    "print()\n",
    "print(\"Determine: \\n\\n\\t is P / 2:- \", (p_man_auto / 2) < alpha)\n",
    "print(\"\\t t > 0:- \", t_man_auto > 0)\n",
    "\n",
    "print()\n",
    "print(\"--------------------------Answer Begin-----------------------------\")\n",
    "print()\n",
    "# Hypothesis Logic\n",
    "\n",
    "H0 = \"Manual car average gas mileage = average gas mileage for automatic cars\"\n",
    "\n",
    "H1 = \"Manual car average gas mileage != average gas mileage for automatic cars\"\n",
    "\n",
    "if(p_man_auto / 2) > alpha:\n",
    "    \n",
    "    print(f\"FAILED TO REJECT Ho: (Adapted Hypothesis)-> {H0}\")\n",
    "    \n",
    "elif t_man_auto < 0:\n",
    "    \n",
    "    print(f\"FAILED TO REJECT Ho: (Adapted Hypothesis)-> {H0}\")\n",
    "    \n",
    "else:\n",
    "    \n",
    "    print(\"REJECT Ho & adapt H1\")\n",
    "    \n",
    "print()\n",
    "\n",
    "print(\"--------------------------Answer End-----------------------------\")"
   ]
  },
  {
   "cell_type": "code",
   "execution_count": 373,
   "id": "cd6315c9",
   "metadata": {},
   "outputs": [
    {
     "data": {
      "text/plain": [
       "<AxesSubplot:>"
      ]
     },
     "execution_count": 373,
     "metadata": {},
     "output_type": "execute_result"
    },
    {
     "data": {
      "image/png": "[encoded data removed]",
      "text/plain": [
       "<Figure size 432x288 with 1 Axes>"
      ]
     },
     "metadata": {
      "needs_background": "light"
     },
     "output_type": "display_data"
    }
   ],
   "source": [
    "# Manual Cars\n",
    "\n",
    "manual_cars().hist()"
   ]
  },
  {
   "cell_type": "code",
   "execution_count": 433,
   "id": "2479338d",
   "metadata": {},
   "outputs": [
    {
     "data": {
      "text/plain": [
       "<AxesSubplot:>"
      ]
     },
     "execution_count": 433,
     "metadata": {},
     "output_type": "execute_result"
    },
    {
     "data": {
      "image/png": "[encoded data removed]",
      "text/plain": [
       "<Figure size 432x288 with 1 Axes>"
      ]
     },
     "metadata": {
      "needs_background": "light"
     },
     "output_type": "display_data"
    }
   ],
   "source": [
    "# Automatic_cars\n",
    "\n",
    "automatic_cars().hist()"
   ]
  },
  {
   "cell_type": "markdown",
   "id": "16cded33",
   "metadata": {},
   "source": [
    "# CORRELATIONS EXERCISES"
   ]
  },
  {
   "cell_type": "markdown",
   "id": "bcb986c5",
   "metadata": {},
   "source": [
    "1). Use the telco_churn data. \n",
    "\n",
    "    -> Does tenure correlate with monthly charges? \n",
    "    \n",
    "    -> Total charges? \n",
    "    \n",
    "    -> What happens if you control for phone and internet service?\n",
    "\n",
    "    \n",
    "2). Use the employees database.\n",
    "\n",
    "    -> Is there a relationship between how long an employee has been with the company and \n",
    "    their salary?\n",
    "\n",
    "    -> Is there a relationship between how long an employee has been with the company and \n",
    "    the number of titles they have had?\n",
    "    \n",
    "    \n",
    "3). Use the sleepstudy data. Is there a relationship between days and reaction time?"
   ]
  },
  {
   "cell_type": "code",
   "execution_count": 40,
   "id": "390e2cb2",
   "metadata": {},
   "outputs": [
    {
     "data": {
      "text/html": [
       "<div>\n",
       "<style scoped>\n",
       "    .dataframe tbody tr th:only-of-type {\n",
       "        vertical-align: middle;\n",
       "    }\n",
       "\n",
       "    .dataframe tbody tr th {\n",
       "        vertical-align: top;\n",
       "    }\n",
       "\n",
       "    .dataframe thead th {\n",
       "        text-align: right;\n",
       "    }\n",
       "</style>\n",
       "<table border=\"1\" class=\"dataframe\">\n",
       "  <thead>\n",
       "    <tr style=\"text-align: right;\">\n",
       "      <th></th>\n",
       "      <th>customer_id</th>\n",
       "      <th>gender</th>\n",
       "      <th>senior_citizen</th>\n",
       "      <th>partner</th>\n",
       "      <th>dependents</th>\n",
       "      <th>tenure</th>\n",
       "      <th>phone_service</th>\n",
       "      <th>multiple_lines</th>\n",
       "      <th>internet_service_type_id</th>\n",
       "      <th>online_security</th>\n",
       "      <th>...</th>\n",
       "      <th>device_protection</th>\n",
       "      <th>tech_support</th>\n",
       "      <th>streaming_tv</th>\n",
       "      <th>streaming_movies</th>\n",
       "      <th>contract_type_id</th>\n",
       "      <th>paperless_billing</th>\n",
       "      <th>payment_type_id</th>\n",
       "      <th>monthly_charges</th>\n",
       "      <th>total_charges</th>\n",
       "      <th>churn</th>\n",
       "    </tr>\n",
       "  </thead>\n",
       "  <tbody>\n",
       "    <tr>\n",
       "      <th>0</th>\n",
       "      <td>0002-ORFBO</td>\n",
       "      <td>Female</td>\n",
       "      <td>0</td>\n",
       "      <td>Yes</td>\n",
       "      <td>Yes</td>\n",
       "      <td>9</td>\n",
       "      <td>Yes</td>\n",
       "      <td>No</td>\n",
       "      <td>1</td>\n",
       "      <td>No</td>\n",
       "      <td>...</td>\n",
       "      <td>No</td>\n",
       "      <td>Yes</td>\n",
       "      <td>Yes</td>\n",
       "      <td>No</td>\n",
       "      <td>2</td>\n",
       "      <td>Yes</td>\n",
       "      <td>2</td>\n",
       "      <td>65.6</td>\n",
       "      <td>593.3</td>\n",
       "      <td>No</td>\n",
       "    </tr>\n",
       "    <tr>\n",
       "      <th>1</th>\n",
       "      <td>0003-MKNFE</td>\n",
       "      <td>Male</td>\n",
       "      <td>0</td>\n",
       "      <td>No</td>\n",
       "      <td>No</td>\n",
       "      <td>9</td>\n",
       "      <td>Yes</td>\n",
       "      <td>Yes</td>\n",
       "      <td>1</td>\n",
       "      <td>No</td>\n",
       "      <td>...</td>\n",
       "      <td>No</td>\n",
       "      <td>No</td>\n",
       "      <td>No</td>\n",
       "      <td>Yes</td>\n",
       "      <td>1</td>\n",
       "      <td>No</td>\n",
       "      <td>2</td>\n",
       "      <td>59.9</td>\n",
       "      <td>542.4</td>\n",
       "      <td>No</td>\n",
       "    </tr>\n",
       "    <tr>\n",
       "      <th>2</th>\n",
       "      <td>0004-TLHLJ</td>\n",
       "      <td>Male</td>\n",
       "      <td>0</td>\n",
       "      <td>No</td>\n",
       "      <td>No</td>\n",
       "      <td>4</td>\n",
       "      <td>Yes</td>\n",
       "      <td>No</td>\n",
       "      <td>2</td>\n",
       "      <td>No</td>\n",
       "      <td>...</td>\n",
       "      <td>Yes</td>\n",
       "      <td>No</td>\n",
       "      <td>No</td>\n",
       "      <td>No</td>\n",
       "      <td>1</td>\n",
       "      <td>Yes</td>\n",
       "      <td>1</td>\n",
       "      <td>73.9</td>\n",
       "      <td>280.85</td>\n",
       "      <td>Yes</td>\n",
       "    </tr>\n",
       "    <tr>\n",
       "      <th>3</th>\n",
       "      <td>0011-IGKFF</td>\n",
       "      <td>Male</td>\n",
       "      <td>1</td>\n",
       "      <td>Yes</td>\n",
       "      <td>No</td>\n",
       "      <td>13</td>\n",
       "      <td>Yes</td>\n",
       "      <td>No</td>\n",
       "      <td>2</td>\n",
       "      <td>No</td>\n",
       "      <td>...</td>\n",
       "      <td>Yes</td>\n",
       "      <td>No</td>\n",
       "      <td>Yes</td>\n",
       "      <td>Yes</td>\n",
       "      <td>1</td>\n",
       "      <td>Yes</td>\n",
       "      <td>1</td>\n",
       "      <td>98.0</td>\n",
       "      <td>1237.85</td>\n",
       "      <td>Yes</td>\n",
       "    </tr>\n",
       "    <tr>\n",
       "      <th>4</th>\n",
       "      <td>0013-EXCHZ</td>\n",
       "      <td>Female</td>\n",
       "      <td>1</td>\n",
       "      <td>Yes</td>\n",
       "      <td>No</td>\n",
       "      <td>3</td>\n",
       "      <td>Yes</td>\n",
       "      <td>No</td>\n",
       "      <td>2</td>\n",
       "      <td>No</td>\n",
       "      <td>...</td>\n",
       "      <td>No</td>\n",
       "      <td>Yes</td>\n",
       "      <td>Yes</td>\n",
       "      <td>No</td>\n",
       "      <td>1</td>\n",
       "      <td>Yes</td>\n",
       "      <td>2</td>\n",
       "      <td>83.9</td>\n",
       "      <td>267.4</td>\n",
       "      <td>Yes</td>\n",
       "    </tr>\n",
       "  </tbody>\n",
       "</table>\n",
       "<p>5 rows × 21 columns</p>\n",
       "</div>"
      ],
      "text/plain": [
       "  customer_id  gender  senior_citizen partner dependents  tenure  \\\n",
       "0  0002-ORFBO  Female               0     Yes        Yes       9   \n",
       "1  0003-MKNFE    Male               0      No         No       9   \n",
       "2  0004-TLHLJ    Male               0      No         No       4   \n",
       "3  0011-IGKFF    Male               1     Yes         No      13   \n",
       "4  0013-EXCHZ  Female               1     Yes         No       3   \n",
       "\n",
       "  phone_service multiple_lines  internet_service_type_id online_security  ...  \\\n",
       "0           Yes             No                         1              No  ...   \n",
       "1           Yes            Yes                         1              No  ...   \n",
       "2           Yes             No                         2              No  ...   \n",
       "3           Yes             No                         2              No  ...   \n",
       "4           Yes             No                         2              No  ...   \n",
       "\n",
       "  device_protection tech_support streaming_tv streaming_movies  \\\n",
       "0                No          Yes          Yes               No   \n",
       "1                No           No           No              Yes   \n",
       "2               Yes           No           No               No   \n",
       "3               Yes           No          Yes              Yes   \n",
       "4                No          Yes          Yes               No   \n",
       "\n",
       "  contract_type_id  paperless_billing payment_type_id  monthly_charges  \\\n",
       "0                2                Yes               2             65.6   \n",
       "1                1                 No               2             59.9   \n",
       "2                1                Yes               1             73.9   \n",
       "3                1                Yes               1             98.0   \n",
       "4                1                Yes               2             83.9   \n",
       "\n",
       "   total_charges churn  \n",
       "0          593.3    No  \n",
       "1          542.4    No  \n",
       "2         280.85   Yes  \n",
       "3        1237.85   Yes  \n",
       "4          267.4   Yes  \n",
       "\n",
       "[5 rows x 21 columns]"
      ]
     },
     "execution_count": 40,
     "metadata": {},
     "output_type": "execute_result"
    }
   ],
   "source": [
    "# DB Connections (Telco_Churn)\n",
    "\n",
    "db_url = f'mysql+pymysql://{env.user}:{env.password}@{env.host}/telco_churn'\n",
    "df = pd.read_sql('SELECT * FROM customers', db_url)\n",
    "\n",
    "df_telco = pd.DataFrame(df)\n",
    "\n",
    "df_telco.head()\n"
   ]
  },
  {
   "cell_type": "code",
   "execution_count": 5,
   "id": "a6114172",
   "metadata": {
    "scrolled": true
   },
   "outputs": [
    {
     "data": {
      "text/plain": [
       "7038      742.9\n",
       "7039     1873.7\n",
       "7040      92.75\n",
       "7041    4627.65\n",
       "7042     3707.6\n",
       "Name: total_charges, dtype: object"
      ]
     },
     "execution_count": 5,
     "metadata": {},
     "output_type": "execute_result"
    }
   ],
   "source": [
    "df_telco[\"total_charges\"].tail()"
   ]
  },
  {
   "cell_type": "code",
   "execution_count": 12,
   "id": "70301a10",
   "metadata": {},
   "outputs": [],
   "source": [
    "# # Fill Total Charges NULLS with Zeros\n",
    "\n",
    "# df_telco[\"total_charges\"] = df_telco[\"total_charges\"]\n",
    "# df_telco = df_telco.total_charges.fillna(0)\n",
    "# df_telco = df_telco.monthly_charges.fillna(0)"
   ]
  },
  {
   "cell_type": "code",
   "execution_count": 20,
   "id": "3834170d",
   "metadata": {},
   "outputs": [
    {
     "data": {
      "text/plain": [
       "(0.24789985628615008, 4.0940449915016345e-99)"
      ]
     },
     "execution_count": 20,
     "metadata": {},
     "output_type": "execute_result"
    }
   ],
   "source": [
    "r, p = stats.pearsonr(df_telco.tenure, df_telco.monthly_charges)\n",
    "r, p"
   ]
  },
  {
   "cell_type": "code",
   "execution_count": 24,
   "id": "ef8f807c",
   "metadata": {},
   "outputs": [],
   "source": [
    "# r_telco_month_charges, _ = stats.pearsonr(df_telco.tenure, df_telco.monthly_charges)\n",
    "# r_telco_total_charges, _ = stats.pearsonr(df_telco.tenure, df_telco.total_charges)\n",
    "# r_telco_month_charges, r_telco_total_charges"
   ]
  },
  {
   "cell_type": "markdown",
   "id": "f19aaef6",
   "metadata": {},
   "source": [
    "##    1a).  Does tenure correlate with monthly charges? \n"
   ]
  },
  {
   "cell_type": "code",
   "execution_count": 14,
   "id": "356da3fb",
   "metadata": {},
   "outputs": [
    {
     "data": {
      "text/plain": [
       "Text(0.5, 1.0, 'Tenure vs Monthly Charges')"
      ]
     },
     "execution_count": 14,
     "metadata": {},
     "output_type": "execute_result"
    },
    {
     "data": {
      "image/png": "[encoded data removed]",
      "text/plain": [
       "<Figure size 432x288 with 1 Axes>"
      ]
     },
     "metadata": {
      "needs_background": "light"
     },
     "output_type": "display_data"
    }
   ],
   "source": [
    "# ANSWER: No Correlation\n",
    "\n",
    "df_telco.plot.scatter('tenure', 'monthly_charges')\n",
    "\n",
    "plt.title('Tenure vs Monthly Charges')\n"
   ]
  },
  {
   "cell_type": "markdown",
   "id": "fc78e49c",
   "metadata": {},
   "source": [
    "##   1b). Correlation of Tenure vs Total charges? \n"
   ]
  },
  {
   "cell_type": "code",
   "execution_count": 27,
   "id": "e9109385",
   "metadata": {},
   "outputs": [],
   "source": [
    "\n",
    "\n",
    "\n",
    "\n",
    "employees_salary_table = employees_salary_table..replace()\n",
    "# ANSWER:\n",
    "\n",
    "# r , p = stats.pearsonr(df_telco.tenure, df_telco.total_charges)\n",
    "# r, p"
   ]
  },
  {
   "cell_type": "code",
   "execution_count": 28,
   "id": "8194b1db",
   "metadata": {},
   "outputs": [
    {
     "data": {
      "text/plain": [
       "Text(0.5, 1.0, 'Tenure vs Total Charges')"
      ]
     },
     "execution_count": 28,
     "metadata": {},
     "output_type": "execute_result"
    },
    {
     "data": {
      "image/png": "[encoded data removed]",
      "text/plain": [
       "<Figure size 432x288 with 1 Axes>"
      ]
     },
     "metadata": {
      "needs_background": "light"
     },
     "output_type": "display_data"
    }
   ],
   "source": [
    "df_telco.plot.scatter('tenure', 'total_charges')\n",
    "plt.title('Tenure vs Total Charges')\n"
   ]
  },
  {
   "cell_type": "code",
   "execution_count": 31,
   "id": "de14b817",
   "metadata": {},
   "outputs": [
    {
     "data": {
      "text/html": [
       "<div>\n",
       "<style scoped>\n",
       "    .dataframe tbody tr th:only-of-type {\n",
       "        vertical-align: middle;\n",
       "    }\n",
       "\n",
       "    .dataframe tbody tr th {\n",
       "        vertical-align: top;\n",
       "    }\n",
       "\n",
       "    .dataframe thead th {\n",
       "        text-align: right;\n",
       "    }\n",
       "</style>\n",
       "<table border=\"1\" class=\"dataframe\">\n",
       "  <thead>\n",
       "    <tr style=\"text-align: right;\">\n",
       "      <th></th>\n",
       "      <th>customer_id</th>\n",
       "      <th>gender</th>\n",
       "      <th>senior_citizen</th>\n",
       "      <th>partner</th>\n",
       "      <th>dependents</th>\n",
       "      <th>tenure</th>\n",
       "      <th>phone_service</th>\n",
       "      <th>multiple_lines</th>\n",
       "      <th>internet_service_type_id</th>\n",
       "      <th>online_security</th>\n",
       "      <th>...</th>\n",
       "      <th>device_protection</th>\n",
       "      <th>tech_support</th>\n",
       "      <th>streaming_tv</th>\n",
       "      <th>streaming_movies</th>\n",
       "      <th>contract_type_id</th>\n",
       "      <th>paperless_billing</th>\n",
       "      <th>payment_type_id</th>\n",
       "      <th>monthly_charges</th>\n",
       "      <th>total_charges</th>\n",
       "      <th>churn</th>\n",
       "    </tr>\n",
       "  </thead>\n",
       "  <tbody>\n",
       "    <tr>\n",
       "      <th>0</th>\n",
       "      <td>0002-ORFBO</td>\n",
       "      <td>Female</td>\n",
       "      <td>0</td>\n",
       "      <td>Yes</td>\n",
       "      <td>Yes</td>\n",
       "      <td>9</td>\n",
       "      <td>Yes</td>\n",
       "      <td>No</td>\n",
       "      <td>1</td>\n",
       "      <td>No</td>\n",
       "      <td>...</td>\n",
       "      <td>No</td>\n",
       "      <td>Yes</td>\n",
       "      <td>Yes</td>\n",
       "      <td>No</td>\n",
       "      <td>2</td>\n",
       "      <td>Yes</td>\n",
       "      <td>2</td>\n",
       "      <td>65.6</td>\n",
       "      <td>593.3</td>\n",
       "      <td>No</td>\n",
       "    </tr>\n",
       "    <tr>\n",
       "      <th>1</th>\n",
       "      <td>0003-MKNFE</td>\n",
       "      <td>Male</td>\n",
       "      <td>0</td>\n",
       "      <td>No</td>\n",
       "      <td>No</td>\n",
       "      <td>9</td>\n",
       "      <td>Yes</td>\n",
       "      <td>Yes</td>\n",
       "      <td>1</td>\n",
       "      <td>No</td>\n",
       "      <td>...</td>\n",
       "      <td>No</td>\n",
       "      <td>No</td>\n",
       "      <td>No</td>\n",
       "      <td>Yes</td>\n",
       "      <td>1</td>\n",
       "      <td>No</td>\n",
       "      <td>2</td>\n",
       "      <td>59.9</td>\n",
       "      <td>542.4</td>\n",
       "      <td>No</td>\n",
       "    </tr>\n",
       "    <tr>\n",
       "      <th>2</th>\n",
       "      <td>0004-TLHLJ</td>\n",
       "      <td>Male</td>\n",
       "      <td>0</td>\n",
       "      <td>No</td>\n",
       "      <td>No</td>\n",
       "      <td>4</td>\n",
       "      <td>Yes</td>\n",
       "      <td>No</td>\n",
       "      <td>2</td>\n",
       "      <td>No</td>\n",
       "      <td>...</td>\n",
       "      <td>Yes</td>\n",
       "      <td>No</td>\n",
       "      <td>No</td>\n",
       "      <td>No</td>\n",
       "      <td>1</td>\n",
       "      <td>Yes</td>\n",
       "      <td>1</td>\n",
       "      <td>73.9</td>\n",
       "      <td>280.85</td>\n",
       "      <td>Yes</td>\n",
       "    </tr>\n",
       "    <tr>\n",
       "      <th>3</th>\n",
       "      <td>0011-IGKFF</td>\n",
       "      <td>Male</td>\n",
       "      <td>1</td>\n",
       "      <td>Yes</td>\n",
       "      <td>No</td>\n",
       "      <td>13</td>\n",
       "      <td>Yes</td>\n",
       "      <td>No</td>\n",
       "      <td>2</td>\n",
       "      <td>No</td>\n",
       "      <td>...</td>\n",
       "      <td>Yes</td>\n",
       "      <td>No</td>\n",
       "      <td>Yes</td>\n",
       "      <td>Yes</td>\n",
       "      <td>1</td>\n",
       "      <td>Yes</td>\n",
       "      <td>1</td>\n",
       "      <td>98.0</td>\n",
       "      <td>1237.85</td>\n",
       "      <td>Yes</td>\n",
       "    </tr>\n",
       "    <tr>\n",
       "      <th>4</th>\n",
       "      <td>0013-EXCHZ</td>\n",
       "      <td>Female</td>\n",
       "      <td>1</td>\n",
       "      <td>Yes</td>\n",
       "      <td>No</td>\n",
       "      <td>3</td>\n",
       "      <td>Yes</td>\n",
       "      <td>No</td>\n",
       "      <td>2</td>\n",
       "      <td>No</td>\n",
       "      <td>...</td>\n",
       "      <td>No</td>\n",
       "      <td>Yes</td>\n",
       "      <td>Yes</td>\n",
       "      <td>No</td>\n",
       "      <td>1</td>\n",
       "      <td>Yes</td>\n",
       "      <td>2</td>\n",
       "      <td>83.9</td>\n",
       "      <td>267.4</td>\n",
       "      <td>Yes</td>\n",
       "    </tr>\n",
       "  </tbody>\n",
       "</table>\n",
       "<p>5 rows × 21 columns</p>\n",
       "</div>"
      ],
      "text/plain": [
       "  customer_id  gender  senior_citizen partner dependents  tenure  \\\n",
       "0  0002-ORFBO  Female               0     Yes        Yes       9   \n",
       "1  0003-MKNFE    Male               0      No         No       9   \n",
       "2  0004-TLHLJ    Male               0      No         No       4   \n",
       "3  0011-IGKFF    Male               1     Yes         No      13   \n",
       "4  0013-EXCHZ  Female               1     Yes         No       3   \n",
       "\n",
       "  phone_service multiple_lines  internet_service_type_id online_security  ...  \\\n",
       "0           Yes             No                         1              No  ...   \n",
       "1           Yes            Yes                         1              No  ...   \n",
       "2           Yes             No                         2              No  ...   \n",
       "3           Yes             No                         2              No  ...   \n",
       "4           Yes             No                         2              No  ...   \n",
       "\n",
       "  device_protection tech_support streaming_tv streaming_movies  \\\n",
       "0                No          Yes          Yes               No   \n",
       "1                No           No           No              Yes   \n",
       "2               Yes           No           No               No   \n",
       "3               Yes           No          Yes              Yes   \n",
       "4                No          Yes          Yes               No   \n",
       "\n",
       "  contract_type_id  paperless_billing payment_type_id  monthly_charges  \\\n",
       "0                2                Yes               2             65.6   \n",
       "1                1                 No               2             59.9   \n",
       "2                1                Yes               1             73.9   \n",
       "3                1                Yes               1             98.0   \n",
       "4                1                Yes               2             83.9   \n",
       "\n",
       "   total_charges churn  \n",
       "0          593.3    No  \n",
       "1          542.4    No  \n",
       "2         280.85   Yes  \n",
       "3        1237.85   Yes  \n",
       "4          267.4   Yes  \n",
       "\n",
       "[5 rows x 21 columns]"
      ]
     },
     "execution_count": 31,
     "metadata": {},
     "output_type": "execute_result"
    }
   ],
   "source": [
    "df_telco.head()\n"
   ]
  },
  {
   "cell_type": "markdown",
   "id": "df4fa0d4",
   "metadata": {},
   "source": [
    "##    1c). What happens if you control for phone and internet service?\n"
   ]
  },
  {
   "cell_type": "code",
   "execution_count": 43,
   "id": "9ed5e7dc",
   "metadata": {},
   "outputs": [
    {
     "data": {
      "text/plain": [
       "(0.24538898585362875, 7.117871077967264e-88)"
      ]
     },
     "execution_count": 43,
     "metadata": {},
     "output_type": "execute_result"
    }
   ],
   "source": [
    "# PHONE SERVICE\n",
    "\n",
    "phone_tenure = df_telco[df_telco.phone_service == 'Yes'].tenure\n",
    "phone_monthly_charge = df_telco[df_telco.phone_service == 'Yes'].monthly_charges\n",
    "\n",
    "r, p = stats.pearsonr(phone_tenure, phone_monthly_charge)\n",
    "\n",
    "r, p"
   ]
  },
  {
   "cell_type": "code",
   "execution_count": 44,
   "id": "8c2b2285",
   "metadata": {},
   "outputs": [
    {
     "name": "stderr",
     "output_type": "stream",
     "text": [
      "/usr/local/anaconda3/lib/python3.9/site-packages/seaborn/_decorators.py:36: FutureWarning: Pass the following variables as keyword args: x, y. From version 0.12, the only valid positional argument will be `data`, and passing other arguments without an explicit keyword will result in an error or misinterpretation.\n",
      "  warnings.warn(\n"
     ]
    },
    {
     "data": {
      "text/plain": [
       "<seaborn.axisgrid.FacetGrid at 0x7fac0de836a0>"
      ]
     },
     "execution_count": 44,
     "metadata": {},
     "output_type": "execute_result"
    },
    {
     "data": {
      "image/png": "[encoded data removed]",
      "text/plain": [
       "<Figure size 360x360 with 1 Axes>"
      ]
     },
     "metadata": {
      "needs_background": "light"
     },
     "output_type": "display_data"
    }
   ],
   "source": [
    "sns.relplot(phone_tenure, phone_monthly_charge)"
   ]
  },
  {
   "cell_type": "code",
   "execution_count": 46,
   "id": "a1fbb64d",
   "metadata": {},
   "outputs": [
    {
     "data": {
      "text/plain": [
       "(0.24789985628615008, 4.0940449915016345e-99)"
      ]
     },
     "execution_count": 46,
     "metadata": {},
     "output_type": "execute_result"
    }
   ],
   "source": [
    "# INTERNET SERVICE\n",
    "\n",
    "internet_tenure = df_telco[df_telco.internet_service_type_id != 0].tenure\n",
    "internet_monthly_charge = df_telco[df_telco.internet_service_type_id != 0].monthly_charges\n",
    "\n",
    "r, p = stats.pearsonr(internet_tenure, internet_monthly_charge)\n",
    "\n",
    "r, p\n",
    "\n"
   ]
  },
  {
   "cell_type": "code",
   "execution_count": 48,
   "id": "f0b72d9a",
   "metadata": {},
   "outputs": [
    {
     "name": "stderr",
     "output_type": "stream",
     "text": [
      "/usr/local/anaconda3/lib/python3.9/site-packages/seaborn/_decorators.py:36: FutureWarning: Pass the following variables as keyword args: x, y. From version 0.12, the only valid positional argument will be `data`, and passing other arguments without an explicit keyword will result in an error or misinterpretation.\n",
      "  warnings.warn(\n"
     ]
    },
    {
     "data": {
      "text/plain": [
       "<seaborn.axisgrid.FacetGrid at 0x7fac10a1d0a0>"
      ]
     },
     "execution_count": 48,
     "metadata": {},
     "output_type": "execute_result"
    },
    {
     "data": {
      "image/png": "[encoded data removed]",
      "text/plain": [
       "<Figure size 360x360 with 1 Axes>"
      ]
     },
     "metadata": {
      "needs_background": "light"
     },
     "output_type": "display_data"
    }
   ],
   "source": [
    "sns.relplot(internet_tenure, internet_monthly_charge)"
   ]
  },
  {
   "cell_type": "markdown",
   "id": "8c43b339",
   "metadata": {},
   "source": [
    "## 2a).  Is there a relationship between how long an employee has been with the company and their salary?"
   ]
  },
  {
   "cell_type": "code",
   "execution_count": 2,
   "id": "81f40f64",
   "metadata": {},
   "outputs": [
    {
     "data": {
      "text/html": [
       "<div>\n",
       "<style scoped>\n",
       "    .dataframe tbody tr th:only-of-type {\n",
       "        vertical-align: middle;\n",
       "    }\n",
       "\n",
       "    .dataframe tbody tr th {\n",
       "        vertical-align: top;\n",
       "    }\n",
       "\n",
       "    .dataframe thead th {\n",
       "        text-align: right;\n",
       "    }\n",
       "</style>\n",
       "<table border=\"1\" class=\"dataframe\">\n",
       "  <thead>\n",
       "    <tr style=\"text-align: right;\">\n",
       "      <th></th>\n",
       "      <th>emp_no</th>\n",
       "      <th>birth_date</th>\n",
       "      <th>first_name</th>\n",
       "      <th>last_name</th>\n",
       "      <th>gender</th>\n",
       "      <th>hire_date</th>\n",
       "      <th>emp_no</th>\n",
       "      <th>salary</th>\n",
       "      <th>from_date</th>\n",
       "      <th>to_date</th>\n",
       "    </tr>\n",
       "  </thead>\n",
       "  <tbody>\n",
       "    <tr>\n",
       "      <th>0</th>\n",
       "      <td>10001.0</td>\n",
       "      <td>1953-09-02</td>\n",
       "      <td>Georgi</td>\n",
       "      <td>Facello</td>\n",
       "      <td>M</td>\n",
       "      <td>1986-06-26</td>\n",
       "      <td>10001</td>\n",
       "      <td>60117</td>\n",
       "      <td>1986-06-26</td>\n",
       "      <td>1987-06-26</td>\n",
       "    </tr>\n",
       "    <tr>\n",
       "      <th>1</th>\n",
       "      <td>10002.0</td>\n",
       "      <td>1964-06-02</td>\n",
       "      <td>Bezalel</td>\n",
       "      <td>Simmel</td>\n",
       "      <td>F</td>\n",
       "      <td>1985-11-21</td>\n",
       "      <td>10001</td>\n",
       "      <td>62102</td>\n",
       "      <td>1987-06-26</td>\n",
       "      <td>1988-06-25</td>\n",
       "    </tr>\n",
       "    <tr>\n",
       "      <th>2</th>\n",
       "      <td>10003.0</td>\n",
       "      <td>1959-12-03</td>\n",
       "      <td>Parto</td>\n",
       "      <td>Bamford</td>\n",
       "      <td>M</td>\n",
       "      <td>1986-08-28</td>\n",
       "      <td>10001</td>\n",
       "      <td>66074</td>\n",
       "      <td>1988-06-25</td>\n",
       "      <td>1989-06-25</td>\n",
       "    </tr>\n",
       "    <tr>\n",
       "      <th>3</th>\n",
       "      <td>10004.0</td>\n",
       "      <td>1954-05-01</td>\n",
       "      <td>Chirstian</td>\n",
       "      <td>Koblick</td>\n",
       "      <td>M</td>\n",
       "      <td>1986-12-01</td>\n",
       "      <td>10001</td>\n",
       "      <td>66596</td>\n",
       "      <td>1989-06-25</td>\n",
       "      <td>1990-06-25</td>\n",
       "    </tr>\n",
       "    <tr>\n",
       "      <th>4</th>\n",
       "      <td>10005.0</td>\n",
       "      <td>1955-01-21</td>\n",
       "      <td>Kyoichi</td>\n",
       "      <td>Maliniak</td>\n",
       "      <td>M</td>\n",
       "      <td>1989-09-12</td>\n",
       "      <td>10001</td>\n",
       "      <td>66961</td>\n",
       "      <td>1990-06-25</td>\n",
       "      <td>1991-06-25</td>\n",
       "    </tr>\n",
       "    <tr>\n",
       "      <th>...</th>\n",
       "      <td>...</td>\n",
       "      <td>...</td>\n",
       "      <td>...</td>\n",
       "      <td>...</td>\n",
       "      <td>...</td>\n",
       "      <td>...</td>\n",
       "      <td>...</td>\n",
       "      <td>...</td>\n",
       "      <td>...</td>\n",
       "      <td>...</td>\n",
       "    </tr>\n",
       "    <tr>\n",
       "      <th>2844042</th>\n",
       "      <td>NaN</td>\n",
       "      <td>NaN</td>\n",
       "      <td>NaN</td>\n",
       "      <td>NaN</td>\n",
       "      <td>NaN</td>\n",
       "      <td>NaN</td>\n",
       "      <td>499999</td>\n",
       "      <td>63707</td>\n",
       "      <td>1997-11-30</td>\n",
       "      <td>1998-11-30</td>\n",
       "    </tr>\n",
       "    <tr>\n",
       "      <th>2844043</th>\n",
       "      <td>NaN</td>\n",
       "      <td>NaN</td>\n",
       "      <td>NaN</td>\n",
       "      <td>NaN</td>\n",
       "      <td>NaN</td>\n",
       "      <td>NaN</td>\n",
       "      <td>499999</td>\n",
       "      <td>67043</td>\n",
       "      <td>1998-11-30</td>\n",
       "      <td>1999-11-30</td>\n",
       "    </tr>\n",
       "    <tr>\n",
       "      <th>2844044</th>\n",
       "      <td>NaN</td>\n",
       "      <td>NaN</td>\n",
       "      <td>NaN</td>\n",
       "      <td>NaN</td>\n",
       "      <td>NaN</td>\n",
       "      <td>NaN</td>\n",
       "      <td>499999</td>\n",
       "      <td>70745</td>\n",
       "      <td>1999-11-30</td>\n",
       "      <td>2000-11-29</td>\n",
       "    </tr>\n",
       "    <tr>\n",
       "      <th>2844045</th>\n",
       "      <td>NaN</td>\n",
       "      <td>NaN</td>\n",
       "      <td>NaN</td>\n",
       "      <td>NaN</td>\n",
       "      <td>NaN</td>\n",
       "      <td>NaN</td>\n",
       "      <td>499999</td>\n",
       "      <td>74327</td>\n",
       "      <td>2000-11-29</td>\n",
       "      <td>2001-11-29</td>\n",
       "    </tr>\n",
       "    <tr>\n",
       "      <th>2844046</th>\n",
       "      <td>NaN</td>\n",
       "      <td>NaN</td>\n",
       "      <td>NaN</td>\n",
       "      <td>NaN</td>\n",
       "      <td>NaN</td>\n",
       "      <td>NaN</td>\n",
       "      <td>499999</td>\n",
       "      <td>77303</td>\n",
       "      <td>2001-11-29</td>\n",
       "      <td>9999-01-01</td>\n",
       "    </tr>\n",
       "  </tbody>\n",
       "</table>\n",
       "<p>2844047 rows × 10 columns</p>\n",
       "</div>"
      ],
      "text/plain": [
       "          emp_no  birth_date first_name last_name gender   hire_date  emp_no  \\\n",
       "0        10001.0  1953-09-02     Georgi   Facello      M  1986-06-26   10001   \n",
       "1        10002.0  1964-06-02    Bezalel    Simmel      F  1985-11-21   10001   \n",
       "2        10003.0  1959-12-03      Parto   Bamford      M  1986-08-28   10001   \n",
       "3        10004.0  1954-05-01  Chirstian   Koblick      M  1986-12-01   10001   \n",
       "4        10005.0  1955-01-21    Kyoichi  Maliniak      M  1989-09-12   10001   \n",
       "...          ...         ...        ...       ...    ...         ...     ...   \n",
       "2844042      NaN         NaN        NaN       NaN    NaN         NaN  499999   \n",
       "2844043      NaN         NaN        NaN       NaN    NaN         NaN  499999   \n",
       "2844044      NaN         NaN        NaN       NaN    NaN         NaN  499999   \n",
       "2844045      NaN         NaN        NaN       NaN    NaN         NaN  499999   \n",
       "2844046      NaN         NaN        NaN       NaN    NaN         NaN  499999   \n",
       "\n",
       "         salary   from_date     to_date  \n",
       "0         60117  1986-06-26  1987-06-26  \n",
       "1         62102  1987-06-26  1988-06-25  \n",
       "2         66074  1988-06-25  1989-06-25  \n",
       "3         66596  1989-06-25  1990-06-25  \n",
       "4         66961  1990-06-25  1991-06-25  \n",
       "...         ...         ...         ...  \n",
       "2844042   63707  1997-11-30  1998-11-30  \n",
       "2844043   67043  1998-11-30  1999-11-30  \n",
       "2844044   70745  1999-11-30  2000-11-29  \n",
       "2844045   74327  2000-11-29  2001-11-29  \n",
       "2844046   77303  2001-11-29  9999-01-01  \n",
       "\n",
       "[2844047 rows x 10 columns]"
      ]
     },
     "execution_count": 2,
     "metadata": {},
     "output_type": "execute_result"
    }
   ],
   "source": [
    "# DB Connection (Employees)\n",
    "\n",
    "db_url = f'mysql+pymysql://{env.user}:{env.password}@{env.host}/employees'\n",
    "df_employees = pd.read_sql('SELECT * FROM employees', db_url)\n",
    "df_salaries = pd.read_sql('SELECT * FROM salaries', db_url)\n",
    "\n",
    "# Convert DB data into Pandas DF\n",
    "df_employees = pd.DataFrame(df_employees)\n",
    "df_salaries = pd.DataFrame(df_salaries)\n",
    "\n",
    "employees_with_salary = [df_employees, df_salaries]\n",
    "employees_salary_table = pd.concat(employees_with_salary, axis=1)\n",
    "employees_salary_table"
   ]
  },
  {
   "cell_type": "code",
   "execution_count": 24,
   "id": "b0cd9226",
   "metadata": {},
   "outputs": [
    {
     "data": {
      "text/plain": [
       "0    1986-06-26\n",
       "1    1985-11-21\n",
       "2    1986-08-28\n",
       "3    1986-12-01\n",
       "4    1989-09-12\n",
       "Name: hire_date, dtype: object"
      ]
     },
     "execution_count": 24,
     "metadata": {},
     "output_type": "execute_result"
    }
   ],
   "source": [
    "employees_salary_table.head()"
   ]
  },
  {
   "cell_type": "code",
   "execution_count": 5,
   "id": "3ef7cd07",
   "metadata": {},
   "outputs": [
    {
     "data": {
      "text/html": [
       "<div>\n",
       "<style scoped>\n",
       "    .dataframe tbody tr th:only-of-type {\n",
       "        vertical-align: middle;\n",
       "    }\n",
       "\n",
       "    .dataframe tbody tr th {\n",
       "        vertical-align: top;\n",
       "    }\n",
       "\n",
       "    .dataframe thead th {\n",
       "        text-align: right;\n",
       "    }\n",
       "</style>\n",
       "<table border=\"1\" class=\"dataframe\">\n",
       "  <thead>\n",
       "    <tr style=\"text-align: right;\">\n",
       "      <th></th>\n",
       "      <th>emp_no</th>\n",
       "      <th>emp_no</th>\n",
       "    </tr>\n",
       "  </thead>\n",
       "  <tbody>\n",
       "    <tr>\n",
       "      <th>0</th>\n",
       "      <td>10001.0</td>\n",
       "      <td>10001</td>\n",
       "    </tr>\n",
       "    <tr>\n",
       "      <th>1</th>\n",
       "      <td>10002.0</td>\n",
       "      <td>10001</td>\n",
       "    </tr>\n",
       "    <tr>\n",
       "      <th>2</th>\n",
       "      <td>10003.0</td>\n",
       "      <td>10001</td>\n",
       "    </tr>\n",
       "    <tr>\n",
       "      <th>3</th>\n",
       "      <td>10004.0</td>\n",
       "      <td>10001</td>\n",
       "    </tr>\n",
       "    <tr>\n",
       "      <th>4</th>\n",
       "      <td>10005.0</td>\n",
       "      <td>10001</td>\n",
       "    </tr>\n",
       "    <tr>\n",
       "      <th>...</th>\n",
       "      <td>...</td>\n",
       "      <td>...</td>\n",
       "    </tr>\n",
       "    <tr>\n",
       "      <th>2844042</th>\n",
       "      <td>NaN</td>\n",
       "      <td>499999</td>\n",
       "    </tr>\n",
       "    <tr>\n",
       "      <th>2844043</th>\n",
       "      <td>NaN</td>\n",
       "      <td>499999</td>\n",
       "    </tr>\n",
       "    <tr>\n",
       "      <th>2844044</th>\n",
       "      <td>NaN</td>\n",
       "      <td>499999</td>\n",
       "    </tr>\n",
       "    <tr>\n",
       "      <th>2844045</th>\n",
       "      <td>NaN</td>\n",
       "      <td>499999</td>\n",
       "    </tr>\n",
       "    <tr>\n",
       "      <th>2844046</th>\n",
       "      <td>NaN</td>\n",
       "      <td>499999</td>\n",
       "    </tr>\n",
       "  </tbody>\n",
       "</table>\n",
       "<p>2844047 rows × 2 columns</p>\n",
       "</div>"
      ],
      "text/plain": [
       "          emp_no  emp_no\n",
       "0        10001.0   10001\n",
       "1        10002.0   10001\n",
       "2        10003.0   10001\n",
       "3        10004.0   10001\n",
       "4        10005.0   10001\n",
       "...          ...     ...\n",
       "2844042      NaN  499999\n",
       "2844043      NaN  499999\n",
       "2844044      NaN  499999\n",
       "2844045      NaN  499999\n",
       "2844046      NaN  499999\n",
       "\n",
       "[2844047 rows x 2 columns]"
      ]
     },
     "execution_count": 5,
     "metadata": {},
     "output_type": "execute_result"
    }
   ],
   "source": [
    "employees_salary_table.emp_no"
   ]
  },
  {
   "cell_type": "code",
   "execution_count": 7,
   "id": "be6bdc4f",
   "metadata": {},
   "outputs": [
    {
     "ename": "AttributeError",
     "evalue": "'DataFrame' object has no attribute 'tenure'",
     "output_type": "error",
     "traceback": [
      "\u001b[0;31m---------------------------------------------------------------------------\u001b[0m",
      "\u001b[0;31mAttributeError\u001b[0m                            Traceback (most recent call last)",
      "\u001b[0;32m/var/folders/b2/3fdswr7x4v5fhdt54wpcfmdw0000gn/T/ipykernel_1803/1201120715.py\u001b[0m in \u001b[0;36m<module>\u001b[0;34m\u001b[0m\n\u001b[0;32m----> 1\u001b[0;31m \u001b[0mstats\u001b[0m\u001b[0;34m.\u001b[0m\u001b[0mpearsonr\u001b[0m\u001b[0;34m(\u001b[0m\u001b[0memployees_salary_table\u001b[0m\u001b[0;34m.\u001b[0m\u001b[0mtenure\u001b[0m\u001b[0;34m,\u001b[0m \u001b[0memployees_salary_table\u001b[0m\u001b[0;34m.\u001b[0m\u001b[0mmonthly_charges\u001b[0m\u001b[0;34m)\u001b[0m\u001b[0;34m\u001b[0m\u001b[0;34m\u001b[0m\u001b[0m\n\u001b[0m",
      "\u001b[0;32m/usr/local/anaconda3/lib/python3.9/site-packages/pandas/core/generic.py\u001b[0m in \u001b[0;36m__getattr__\u001b[0;34m(self, name)\u001b[0m\n\u001b[1;32m   5485\u001b[0m         ):\n\u001b[1;32m   5486\u001b[0m             \u001b[0;32mreturn\u001b[0m \u001b[0mself\u001b[0m\u001b[0;34m[\u001b[0m\u001b[0mname\u001b[0m\u001b[0;34m]\u001b[0m\u001b[0;34m\u001b[0m\u001b[0;34m\u001b[0m\u001b[0m\n\u001b[0;32m-> 5487\u001b[0;31m         \u001b[0;32mreturn\u001b[0m \u001b[0mobject\u001b[0m\u001b[0;34m.\u001b[0m\u001b[0m__getattribute__\u001b[0m\u001b[0;34m(\u001b[0m\u001b[0mself\u001b[0m\u001b[0;34m,\u001b[0m \u001b[0mname\u001b[0m\u001b[0;34m)\u001b[0m\u001b[0;34m\u001b[0m\u001b[0;34m\u001b[0m\u001b[0m\n\u001b[0m\u001b[1;32m   5488\u001b[0m \u001b[0;34m\u001b[0m\u001b[0m\n\u001b[1;32m   5489\u001b[0m     \u001b[0;32mdef\u001b[0m \u001b[0m__setattr__\u001b[0m\u001b[0;34m(\u001b[0m\u001b[0mself\u001b[0m\u001b[0;34m,\u001b[0m \u001b[0mname\u001b[0m\u001b[0;34m:\u001b[0m \u001b[0mstr\u001b[0m\u001b[0;34m,\u001b[0m \u001b[0mvalue\u001b[0m\u001b[0;34m)\u001b[0m \u001b[0;34m->\u001b[0m \u001b[0;32mNone\u001b[0m\u001b[0;34m:\u001b[0m\u001b[0;34m\u001b[0m\u001b[0;34m\u001b[0m\u001b[0m\n",
      "\u001b[0;31mAttributeError\u001b[0m: 'DataFrame' object has no attribute 'tenure'"
     ]
    }
   ],
   "source": [
    "# stats.pearsonr(employees_salary_table.tenure, employees_salary_table.monthly_charges)"
   ]
  },
  {
   "cell_type": "code",
   "execution_count": 20,
   "id": "56dd8d29",
   "metadata": {},
   "outputs": [],
   "source": [
    "\n",
    "\n",
    "# Fill NaNs with zeros on all columns\n",
    "# df_telco = df_telco.total_charges.fillna(0)\n",
    "# employees_salary_table = employees_salary_table.hire_date.fillna(0000-00-00)\n",
    "# employees_salary_table.head()\n",
    "\n",
    "\n",
    "\n",
    "\n",
    "employees_salary_table = employees_salary_table.hire_date.replace(np.NaN, '0000-00-00', regex = True)\n",
    "# employees_salary_table"
   ]
  },
  {
   "cell_type": "code",
   "execution_count": null,
   "id": "a7cd416e",
   "metadata": {},
   "outputs": [],
   "source": [
    "# # Convert ZEROS dates to format 0000-00-00\n",
    "# employees_salary_table = employees_salary_table.hire_date.fillna(0000-00-00)\n",
    "\n",
    "# # df_telco = df_telco.total_charges.fillna(0)\n",
    "\n",
    "\n",
    "# employee_time_with_company = employees_salary_table[employees_salary_table.to_date - employees_salary_table.hire_date ]\n",
    "# employee_time_with_company\n"
   ]
  },
  {
   "cell_type": "markdown",
   "id": "5aa86ba3",
   "metadata": {},
   "source": [
    "3). Use the sleepstudy data. Is there a relationship between days and reaction time?\n"
   ]
  },
  {
   "cell_type": "code",
   "execution_count": 22,
   "id": "b956deb3",
   "metadata": {},
   "outputs": [
    {
     "data": {
      "text/html": [
       "<div>\n",
       "<style scoped>\n",
       "    .dataframe tbody tr th:only-of-type {\n",
       "        vertical-align: middle;\n",
       "    }\n",
       "\n",
       "    .dataframe tbody tr th {\n",
       "        vertical-align: top;\n",
       "    }\n",
       "\n",
       "    .dataframe thead th {\n",
       "        text-align: right;\n",
       "    }\n",
       "</style>\n",
       "<table border=\"1\" class=\"dataframe\">\n",
       "  <thead>\n",
       "    <tr style=\"text-align: right;\">\n",
       "      <th></th>\n",
       "      <th>Reaction</th>\n",
       "      <th>Days</th>\n",
       "      <th>Subject</th>\n",
       "    </tr>\n",
       "  </thead>\n",
       "  <tbody>\n",
       "    <tr>\n",
       "      <th>1</th>\n",
       "      <td>249.5600</td>\n",
       "      <td>0</td>\n",
       "      <td>308</td>\n",
       "    </tr>\n",
       "    <tr>\n",
       "      <th>2</th>\n",
       "      <td>258.7047</td>\n",
       "      <td>1</td>\n",
       "      <td>308</td>\n",
       "    </tr>\n",
       "    <tr>\n",
       "      <th>3</th>\n",
       "      <td>250.8006</td>\n",
       "      <td>2</td>\n",
       "      <td>308</td>\n",
       "    </tr>\n",
       "    <tr>\n",
       "      <th>4</th>\n",
       "      <td>321.4398</td>\n",
       "      <td>3</td>\n",
       "      <td>308</td>\n",
       "    </tr>\n",
       "    <tr>\n",
       "      <th>5</th>\n",
       "      <td>356.8519</td>\n",
       "      <td>4</td>\n",
       "      <td>308</td>\n",
       "    </tr>\n",
       "    <tr>\n",
       "      <th>...</th>\n",
       "      <td>...</td>\n",
       "      <td>...</td>\n",
       "      <td>...</td>\n",
       "    </tr>\n",
       "    <tr>\n",
       "      <th>176</th>\n",
       "      <td>329.6076</td>\n",
       "      <td>5</td>\n",
       "      <td>372</td>\n",
       "    </tr>\n",
       "    <tr>\n",
       "      <th>177</th>\n",
       "      <td>334.4818</td>\n",
       "      <td>6</td>\n",
       "      <td>372</td>\n",
       "    </tr>\n",
       "    <tr>\n",
       "      <th>178</th>\n",
       "      <td>343.2199</td>\n",
       "      <td>7</td>\n",
       "      <td>372</td>\n",
       "    </tr>\n",
       "    <tr>\n",
       "      <th>179</th>\n",
       "      <td>369.1417</td>\n",
       "      <td>8</td>\n",
       "      <td>372</td>\n",
       "    </tr>\n",
       "    <tr>\n",
       "      <th>180</th>\n",
       "      <td>364.1236</td>\n",
       "      <td>9</td>\n",
       "      <td>372</td>\n",
       "    </tr>\n",
       "  </tbody>\n",
       "</table>\n",
       "<p>180 rows × 3 columns</p>\n",
       "</div>"
      ],
      "text/plain": [
       "     Reaction  Days  Subject\n",
       "1    249.5600     0      308\n",
       "2    258.7047     1      308\n",
       "3    250.8006     2      308\n",
       "4    321.4398     3      308\n",
       "5    356.8519     4      308\n",
       "..        ...   ...      ...\n",
       "176  329.6076     5      372\n",
       "177  334.4818     6      372\n",
       "178  343.2199     7      372\n",
       "179  369.1417     8      372\n",
       "180  364.1236     9      372\n",
       "\n",
       "[180 rows x 3 columns]"
      ]
     },
     "execution_count": 22,
     "metadata": {},
     "output_type": "execute_result"
    }
   ],
   "source": [
    "sleep = data('sleepstudy')\n",
    "sleep"
   ]
  },
  {
   "cell_type": "code",
   "execution_count": 24,
   "id": "0a8cb19e",
   "metadata": {},
   "outputs": [
    {
     "data": {
      "text/plain": [
       "(0.5352302262650253, 9.894096322214812e-15)"
      ]
     },
     "execution_count": 24,
     "metadata": {},
     "output_type": "execute_result"
    }
   ],
   "source": [
    "r, p = stats.pearsonr(sleep.Days, sleep.Reaction)\n",
    "\n",
    "r, p"
   ]
  },
  {
   "cell_type": "code",
   "execution_count": 33,
   "id": "6b49bb79",
   "metadata": {},
   "outputs": [
    {
     "data": {
      "text/plain": [
       "<seaborn.axisgrid.FacetGrid at 0x7fc4756fe430>"
      ]
     },
     "execution_count": 33,
     "metadata": {},
     "output_type": "execute_result"
    },
    {
     "data": {
      "image/png": "[encoded data removed]",
      "text/plain": [
       "<Figure size 402.375x360 with 1 Axes>"
      ]
     },
     "metadata": {
      "needs_background": "light"
     },
     "output_type": "display_data"
    }
   ],
   "source": [
    "sns.relplot(data = sleep, y=\"Reaction\", x=\"Days\", hue=\"Days\" )"
   ]
  },
  {
   "cell_type": "code",
   "execution_count": 36,
   "id": "46e31f09",
   "metadata": {},
   "outputs": [
    {
     "name": "stdout",
     "output_type": "stream",
     "text": [
      "Reject Ho:\n"
     ]
    }
   ],
   "source": [
    "alpha = 0.05\n",
    "\n",
    "if p < alpha:\n",
    "    \n",
    "    print('Reject Ho:')\n",
    "    \n",
    "else:\n",
    "    \n",
    "    print('Failed to reject Ho')"
   ]
  },
  {
   "cell_type": "markdown",
   "id": "6cad2c15",
   "metadata": {},
   "source": [
    "# CHI Square Exercises"
   ]
  },
  {
   "cell_type": "markdown",
   "id": "77838895",
   "metadata": {},
   "source": [
    "1). Use the following contingency table to help answer the question of whether using a macbook and being a codeup student are independent of each other.\n",
    "\n",
    " \tCodeup Student\tNot Codeup Student\n",
    "Uses a Macbook\t49\t20\n",
    "Doesn't Use A Macbook\t1\t30\n",
    "\n",
    "\n",
    "2). Choose another 2 categorical variables from the mpg dataset and perform a \n",
    "chi2 contingency table test with them. Be sure to state your null and alternative hypotheses.\n",
    "\n",
    "\n",
    "3). Use the data from the employees database to answer these questions:\n",
    "\n",
    "    -> Is an employee's gender independent of whether an employee works in sales or marketing? \n",
    "(only look at current employees)\n",
    "\n",
    "    -> Is an employee's gender independent of whether or not they are or have been a manager?"
   ]
  },
  {
   "cell_type": "code",
   "execution_count": 62,
   "id": "4f793308",
   "metadata": {},
   "outputs": [],
   "source": [
    "alpha = 0.05\n",
    "\n",
    "Ho = \"No association between mac-book and codeup students\"\n",
    "H1 = \"There is an association between mac-book and codeup students\"\n",
    "\n",
    "index = ['Mac','Non-Mac']\n",
    "column = ['CodeUp','Non-Code']\n",
    "\n",
    "observed = pd.DataFrame([[49, 20], [1, 30]], index=index, columns = column)\n",
    "\n",
    "n = observed.values.sum()\n",
    "\n"
   ]
  },
  {
   "cell_type": "code",
   "execution_count": 59,
   "id": "7d72b89b",
   "metadata": {},
   "outputs": [
    {
     "name": "stdout",
     "output_type": "stream",
     "text": [
      "Observed:\n",
      "\n",
      "[[49 20]\n",
      " [ 1 30]]\n",
      "\n",
      "Expected: \n",
      "\n",
      "[[34.5 34.5]\n",
      " [15.5 15.5]]\n",
      "\n",
      "chi^2: 36.65264142122487\n",
      "P : 1.4116760526193828e-09\n"
     ]
    }
   ],
   "source": [
    "chi2, p, degf, expected = stats.chi2_contingency(observed)\n",
    "\n",
    "print(\"Observed:\")\n",
    "print()\n",
    "\n",
    "print(observed.values)\n",
    "\n",
    "print()\n",
    "\n",
    "print(\"Expected: \\n\")\n",
    "print(expected)\n",
    "print()\n",
    "\n",
    "print(f'chi^2: {chi2}')\n",
    "\n",
    "print(f\"P : {p}\")\n",
    "\n",
    "# chi2, p, degf, expected"
   ]
  },
  {
   "cell_type": "code",
   "execution_count": 64,
   "id": "962c3c9d",
   "metadata": {},
   "outputs": [
    {
     "name": "stdout",
     "output_type": "stream",
     "text": [
      "Reject Ho: No association between mac-book and codeup students\n",
      "\n"
     ]
    }
   ],
   "source": [
    "if p < alpha:\n",
    "    \n",
    "    print(f\"Reject Ho: {Ho}\")\n",
    "    \n",
    "else:\n",
    "    \n",
    "    print(f\"Failed to reject Ho: {H1}\")\n",
    "    \n",
    "print()"
   ]
  },
  {
   "cell_type": "markdown",
   "id": "e562ec6d",
   "metadata": {},
   "source": [
    "2). Choose another 2 categorical variables from the mpg dataset and perform a \n",
    "chi2 contingency table test with them. Be sure to state your null and alternative hypotheses.\n"
   ]
  },
  {
   "cell_type": "code",
   "execution_count": 38,
   "id": "e54b7606",
   "metadata": {},
   "outputs": [],
   "source": [
    "# NOTE: CTY & HWY ARE NOT CATEGORICAL DATA. \n",
    "\n",
    "mpg = data('mpg')\n",
    "mpg.head()\n",
    "\n",
    "\n",
    "Ho = \"American and foreign cars city and higways mileage compares\"\n",
    "H1= \"American and foreign cars city and higways mileage do not compares\""
   ]
  },
  {
   "cell_type": "code",
   "execution_count": 3,
   "id": "d247e263",
   "metadata": {},
   "outputs": [
    {
     "data": {
      "text/plain": [
       "dodge         37\n",
       "toyota        34\n",
       "volkswagen    27\n",
       "ford          25\n",
       "chevrolet     19\n",
       "audi          18\n",
       "hyundai       14\n",
       "subaru        14\n",
       "nissan        13\n",
       "honda          9\n",
       "jeep           8\n",
       "pontiac        5\n",
       "land rover     4\n",
       "mercury        4\n",
       "lincoln        3\n",
       "Name: manufacturer, dtype: int64"
      ]
     },
     "execution_count": 3,
     "metadata": {},
     "output_type": "execute_result"
    }
   ],
   "source": [
    "mpg.manufacturer.value_counts()\n"
   ]
  },
  {
   "cell_type": "code",
   "execution_count": 31,
   "id": "f3d0bc8b",
   "metadata": {},
   "outputs": [],
   "source": [
    "def american_city_mpg_avg():\n",
    "    \n",
    "    dodge = mpg[mpg.manufacturer == \"dodge\"].cty\n",
    "    chevy = mpg[mpg.manufacturer == \"chevrolet\"].cty\n",
    "    jeep = mpg[mpg.manufacturer == \"jeep\"].cty\n",
    "    pontiac = mpg[mpg.manufacturer == \"pontiac\"].cty\n",
    "    lincoln = mpg[mpg.manufacturer == \"lincoln\"].cty\n",
    "    mercury = mpg[mpg.manufacturer == \"mercury\"].cty\n",
    "    ford = mpg[mpg.manufacturer == \"ford\"].cty\n",
    "    \n",
    "    american = [dodge, chevy, jeep, pontiac, lincoln, mercury, ford]\n",
    "    \n",
    "    american_cars = pd.concat(american)\n",
    "    \n",
    "    sum_city_mpg = american_cars.sum()\n",
    "    \n",
    "    len_size = len(american_cars)\n",
    "    \n",
    "    avg_american_city_mpg = sum_city_mpg /  len_size\n",
    "    \n",
    "    return avg_american_city_mpg\n",
    "\n",
    "\n",
    "def american_hwy_mpg_avg():\n",
    "    \n",
    "    dodge = mpg[mpg.manufacturer == \"dodge\"].hwy\n",
    "    chevy = mpg[mpg.manufacturer == \"chevrolet\"].hwy\n",
    "    jeep = mpg[mpg.manufacturer == \"jeep\"].hwy\n",
    "    pontiac = mpg[mpg.manufacturer == \"pontiac\"].hwy\n",
    "    lincoln = mpg[mpg.manufacturer == \"lincoln\"].hwy\n",
    "    mercury = mpg[mpg.manufacturer == \"mercury\"].hwy\n",
    "    ford = mpg[mpg.manufacturer == \"ford\"].hwy\n",
    "   \n",
    "    american = [dodge, chevy, jeep, pontiac, lincoln, mercury, ford]\n",
    "    \n",
    "    american_cars = pd.concat(american)\n",
    "    \n",
    "    sum_hwy_mpg = american_cars.sum()\n",
    "    \n",
    "    len_size = len(american_cars)\n",
    "    \n",
    "    avg_american_hwy_mpg = sum_hwy_mpg /  len_size\n",
    "    \n",
    "    return avg_american_hwy_mpg\n",
    "\n",
    "\n",
    "\n",
    "def others_city_mpg_avg():\n",
    "    \n",
    "    volkswagen = mpg[mpg.manufacturer == \"volkswagen\"].cty\n",
    "    toyota = mpg[mpg.manufacturer == \"toyota\"].cty\n",
    "    hyundai = mpg[mpg.manufacturer == \"hyundai\"].cty\n",
    "    subaru = mpg[mpg.manufacturer == \"subaru\"].cty\n",
    "    audi = mpg[mpg.manufacturer == \"audi\"].cty\n",
    "    land_rover = mpg[mpg.manufacturer == \"land rover\"].cty\n",
    "    nissan = mpg[mpg.manufacturer == \"nissan\"].cty\n",
    "    \n",
    "    others_countries = [toyota, hyundai, subaru, audi, land_rover, nissan]\n",
    "    \n",
    "    other_cars = pd.concat(others_countries)\n",
    "    \n",
    "    sum_other_city_mpg = other_cars.sum()\n",
    "    \n",
    "    other_len_size = len(other_cars)\n",
    "    \n",
    "    avg_other_city_mpg = sum_other_city_mpg /  other_len_size\n",
    "    \n",
    "    return avg_other_city_mpg\n",
    "\n",
    "\n",
    "def others_hwy_mpg_avg():\n",
    "    \n",
    "    volkswagen = mpg[mpg.manufacturer == \"volkswagen\"].hwy\n",
    "    toyota = mpg[mpg.manufacturer == \"toyota\"].hwy\n",
    "    hyundai = mpg[mpg.manufacturer == \"hyundai\"].hwy\n",
    "    subaru = mpg[mpg.manufacturer == \"subaru\"].hwy\n",
    "    audi = mpg[mpg.manufacturer == \"audi\"].hwy\n",
    "    land_rover = mpg[mpg.manufacturer == \"land rover\"].hwy\n",
    "    nissan = mpg[mpg.manufacturer == \"nissan\"].hwy\n",
    "    \n",
    "    others_countries = [toyota, hyundai, subaru, audi, land_rover, nissan]\n",
    "    \n",
    "    other_cars = pd.concat(others_countries)\n",
    "    \n",
    "    sum_other_hwy_mpg = other_cars.sum()\n",
    "    \n",
    "    other_len_size = len(other_cars)\n",
    "    \n",
    "    avg_other_hwy_mpg = sum_other_hwy_mpg /  other_len_size\n",
    "    \n",
    "    return avg_other_hwy_mpg\n",
    "\n",
    "\n",
    "    \n"
   ]
  },
  {
   "cell_type": "code",
   "execution_count": 115,
   "id": "4ea1aa55",
   "metadata": {},
   "outputs": [
    {
     "data": {
      "text/html": [
       "<div>\n",
       "<style scoped>\n",
       "    .dataframe tbody tr th:only-of-type {\n",
       "        vertical-align: middle;\n",
       "    }\n",
       "\n",
       "    .dataframe tbody tr th {\n",
       "        vertical-align: top;\n",
       "    }\n",
       "\n",
       "    .dataframe thead th {\n",
       "        text-align: right;\n",
       "    }\n",
       "</style>\n",
       "<table border=\"1\" class=\"dataframe\">\n",
       "  <thead>\n",
       "    <tr style=\"text-align: right;\">\n",
       "      <th></th>\n",
       "      <th>City MPG (avg)</th>\n",
       "      <th>Highway MPG (avg)</th>\n",
       "    </tr>\n",
       "  </thead>\n",
       "  <tbody>\n",
       "    <tr>\n",
       "      <th>American Cars</th>\n",
       "      <td>13.871287</td>\n",
       "      <td>19.405941</td>\n",
       "    </tr>\n",
       "    <tr>\n",
       "      <th>Europe &amp; Japan Cars</th>\n",
       "      <td>18.134021</td>\n",
       "      <td>25.185567</td>\n",
       "    </tr>\n",
       "  </tbody>\n",
       "</table>\n",
       "</div>"
      ],
      "text/plain": [
       "                     City MPG (avg)  Highway MPG (avg)\n",
       "American Cars             13.871287          19.405941\n",
       "Europe & Japan Cars       18.134021          25.185567"
      ]
     },
     "execution_count": 115,
     "metadata": {},
     "output_type": "execute_result"
    }
   ],
   "source": [
    "columns = ['City MPG (avg)', 'Highway MPG (avg)']\n",
    "\n",
    "index = ['American Cars', 'Europe & Japan Cars']\n",
    "\n",
    "observed = pd.DataFrame([[american_city_mpg_avg(), american_hwy_mpg_avg()],\n",
    "                        [others_city_mpg_avg(), others_hwy_mpg_avg()]], index = index, columns=columns)\n",
    "\n",
    "\n",
    "observed\n"
   ]
  },
  {
   "cell_type": "code",
   "execution_count": 36,
   "id": "21b9f0ea",
   "metadata": {},
   "outputs": [
    {
     "name": "stdout",
     "output_type": "stream",
     "text": [
      "Observed:\n",
      "\n",
      "[[13.87128713 19.40594059]\n",
      " [18.13402062 25.18556701]]\n",
      "\n",
      "Expected: \n",
      "\n",
      "[[13.90459785 19.37262987]\n",
      " [18.10070989 25.21887773]]\n",
      "\n",
      "chi^2: 0.0\n",
      "P : 1.0\n"
     ]
    }
   ],
   "source": [
    "alpha = 0.05\n",
    "\n",
    "\n",
    "chi2, p, degf, expected = stats.chi2_contingency(observed)\n",
    "\n",
    "print(\"Observed:\")\n",
    "print()\n",
    "\n",
    "print(observed.values)\n",
    "\n",
    "print()\n",
    "\n",
    "print(\"Expected: \\n\")\n",
    "print(expected)\n",
    "print()\n",
    "\n",
    "print(f'chi^2: {chi2}')\n",
    "\n",
    "print(f\"P : {p}\")\n",
    "\n",
    "# chi2, p, degf, expected"
   ]
  },
  {
   "cell_type": "code",
   "execution_count": 39,
   "id": "370c2524",
   "metadata": {},
   "outputs": [
    {
     "name": "stdout",
     "output_type": "stream",
     "text": [
      "Failed to reject Ho: American and foreign cars city and higways mileage do not compares\n",
      "\n"
     ]
    }
   ],
   "source": [
    "if p < alpha:\n",
    "    \n",
    "    print(f\"Reject Ho: {Ho}\")\n",
    "    \n",
    "else:\n",
    "    \n",
    "    print(f\"Failed to reject Ho: {H1}\")\n",
    "    \n",
    "print()"
   ]
  },
  {
   "cell_type": "markdown",
   "id": "57aa6855",
   "metadata": {},
   "source": [
    "# 3). Use the data from the employees database to answer these questions:\n",
    "\n",
    "   ## 3a). Is an employee's gender independent of whether an employee works in sales or marketing? (only look at current employees)\n",
    "\n"
   ]
  },
  {
   "cell_type": "code",
   "execution_count": 134,
   "id": "a9e4476e",
   "metadata": {},
   "outputs": [
    {
     "data": {
      "text/html": [
       "<div>\n",
       "<style scoped>\n",
       "    .dataframe tbody tr th:only-of-type {\n",
       "        vertical-align: middle;\n",
       "    }\n",
       "\n",
       "    .dataframe tbody tr th {\n",
       "        vertical-align: top;\n",
       "    }\n",
       "\n",
       "    .dataframe thead th {\n",
       "        text-align: right;\n",
       "    }\n",
       "</style>\n",
       "<table border=\"1\" class=\"dataframe\">\n",
       "  <thead>\n",
       "    <tr style=\"text-align: right;\">\n",
       "      <th></th>\n",
       "      <th>Gender</th>\n",
       "      <th>Dept_Name</th>\n",
       "    </tr>\n",
       "  </thead>\n",
       "  <tbody>\n",
       "    <tr>\n",
       "      <th>0</th>\n",
       "      <td>M</td>\n",
       "      <td>Customer Service</td>\n",
       "    </tr>\n",
       "    <tr>\n",
       "      <th>1</th>\n",
       "      <td>F</td>\n",
       "      <td>Customer Service</td>\n",
       "    </tr>\n",
       "    <tr>\n",
       "      <th>2</th>\n",
       "      <td>M</td>\n",
       "      <td>Customer Service</td>\n",
       "    </tr>\n",
       "    <tr>\n",
       "      <th>3</th>\n",
       "      <td>F</td>\n",
       "      <td>Customer Service</td>\n",
       "    </tr>\n",
       "    <tr>\n",
       "      <th>4</th>\n",
       "      <td>F</td>\n",
       "      <td>Customer Service</td>\n",
       "    </tr>\n",
       "    <tr>\n",
       "      <th>...</th>\n",
       "      <td>...</td>\n",
       "      <td>...</td>\n",
       "    </tr>\n",
       "    <tr>\n",
       "      <th>240119</th>\n",
       "      <td>F</td>\n",
       "      <td>Sales</td>\n",
       "    </tr>\n",
       "    <tr>\n",
       "      <th>240120</th>\n",
       "      <td>M</td>\n",
       "      <td>Sales</td>\n",
       "    </tr>\n",
       "    <tr>\n",
       "      <th>240121</th>\n",
       "      <td>M</td>\n",
       "      <td>Sales</td>\n",
       "    </tr>\n",
       "    <tr>\n",
       "      <th>240122</th>\n",
       "      <td>F</td>\n",
       "      <td>Sales</td>\n",
       "    </tr>\n",
       "    <tr>\n",
       "      <th>240123</th>\n",
       "      <td>F</td>\n",
       "      <td>Sales</td>\n",
       "    </tr>\n",
       "  </tbody>\n",
       "</table>\n",
       "<p>240124 rows × 2 columns</p>\n",
       "</div>"
      ],
      "text/plain": [
       "       Gender         Dept_Name\n",
       "0           M  Customer Service\n",
       "1           F  Customer Service\n",
       "2           M  Customer Service\n",
       "3           F  Customer Service\n",
       "4           F  Customer Service\n",
       "...       ...               ...\n",
       "240119      F             Sales\n",
       "240120      M             Sales\n",
       "240121      M             Sales\n",
       "240122      F             Sales\n",
       "240123      F             Sales\n",
       "\n",
       "[240124 rows x 2 columns]"
      ]
     },
     "execution_count": 134,
     "metadata": {},
     "output_type": "execute_result"
    }
   ],
   "source": [
    "# DB Connections (Telco_Churn)\n",
    "\n",
    "db_url = f'mysql+pymysql://{env.user}:{env.password}@{env.host}/employees'\n",
    "    \n",
    "query_stm = '''\n",
    "SELECT e.gender AS Gender, d.dept_name AS 'Dept_Name' \n",
    "FROM employees e \n",
    "JOIN dept_emp de ON de.emp_no = e.emp_no \n",
    "AND de.to_date > NOW() \n",
    "JOIN departments d ON d.dept_no = de.dept_no\n",
    "'''\n",
    "df = pd.read_sql(query_stm, db_url)\n",
    "\n",
    "s_m_emp = pd.DataFrame(df)\n",
    "s_m_emp"
   ]
  },
  {
   "cell_type": "code",
   "execution_count": 127,
   "id": "8e06542e",
   "metadata": {},
   "outputs": [],
   "source": [
    "# ho = \"Gender vary in employees working in Sales as compared to employees working in Marketing\"\n",
    "# h1 = \"Gender does not vary in employees working in Sales as compared to employees working in Marketing\"\n",
    "\n",
    "\n",
    "# cols = ['Sales', 'Marketing']\n",
    "# ind = ['Male', 'Female']\n",
    "\n",
    "# sales_male = s_m_emp[s_m_emp.Dept_Name == 'Sales'].Gender == 'M'\n",
    "# s_male_count = sales_male.count()\n",
    "\n",
    "# sales_female = s_m_emp[s_m_emp.Dept_Name == 'Sales'].Gender == 'F'\n",
    "# sales_female_count = sales_female.count()\n",
    "\n",
    "# marketing_male = s_m_emp[s_m_emp.Dept_Name == 'Marketing'].Gender == 'M'\n",
    "# m_male_count = marketing_male.count()\n",
    "\n",
    "# marketing_female = s_m_emp[s_m_emp.Dept_Name == 'Marketing'].Gender == 'F'\n",
    "# m_female_count = marketing_female.count()\n",
    "\n",
    "# m_s_observed = pd.DataFrame([[s_male_count, m_male_count], [sales_female_count, m_female_count]], index = ind, columns= cols)\n",
    "\n",
    "# m_s_observed "
   ]
  },
  {
   "cell_type": "code",
   "execution_count": 130,
   "id": "91909801",
   "metadata": {},
   "outputs": [
    {
     "data": {
      "text/plain": [
       "Gender  Dept_Name\n",
       "M       Sales        22702\n",
       "F       Sales        14999\n",
       "M       Marketing     8978\n",
       "F       Marketing     5864\n",
       "dtype: int64"
      ]
     },
     "execution_count": 130,
     "metadata": {},
     "output_type": "execute_result"
    }
   ],
   "source": [
    "s_m_emp = s_m_emp[(s_m_emp.Dept_Name == \"Sales\") | (s_m_emp.Dept_Name == \"Marketing\")]\n",
    "s_m_emp.value_counts()"
   ]
  },
  {
   "cell_type": "code",
   "execution_count": 131,
   "id": "19264377",
   "metadata": {},
   "outputs": [
    {
     "data": {
      "text/html": [
       "<div>\n",
       "<style scoped>\n",
       "    .dataframe tbody tr th:only-of-type {\n",
       "        vertical-align: middle;\n",
       "    }\n",
       "\n",
       "    .dataframe tbody tr th {\n",
       "        vertical-align: top;\n",
       "    }\n",
       "\n",
       "    .dataframe thead th {\n",
       "        text-align: right;\n",
       "    }\n",
       "</style>\n",
       "<table border=\"1\" class=\"dataframe\">\n",
       "  <thead>\n",
       "    <tr style=\"text-align: right;\">\n",
       "      <th>Dept_Name</th>\n",
       "      <th>Marketing</th>\n",
       "      <th>Sales</th>\n",
       "    </tr>\n",
       "    <tr>\n",
       "      <th>Gender</th>\n",
       "      <th></th>\n",
       "      <th></th>\n",
       "    </tr>\n",
       "  </thead>\n",
       "  <tbody>\n",
       "    <tr>\n",
       "      <th>F</th>\n",
       "      <td>5864</td>\n",
       "      <td>14999</td>\n",
       "    </tr>\n",
       "    <tr>\n",
       "      <th>M</th>\n",
       "      <td>8978</td>\n",
       "      <td>22702</td>\n",
       "    </tr>\n",
       "  </tbody>\n",
       "</table>\n",
       "</div>"
      ],
      "text/plain": [
       "Dept_Name  Marketing  Sales\n",
       "Gender                     \n",
       "F               5864  14999\n",
       "M               8978  22702"
      ]
     },
     "execution_count": 131,
     "metadata": {},
     "output_type": "execute_result"
    }
   ],
   "source": [
    "m_s_observed = pd.crosstab(s_m_emp.Gender, s_m_emp.Dept_Name)\n",
    "m_s_observed"
   ]
  },
  {
   "cell_type": "code",
   "execution_count": 132,
   "id": "fb6c64cd",
   "metadata": {},
   "outputs": [
    {
     "name": "stdout",
     "output_type": "stream",
     "text": [
      "Observed:\n",
      "\n",
      "[[ 5864 14999]\n",
      " [ 8978 22702]]\n",
      "\n",
      "Expected: \n",
      "\n",
      "[[ 5893.2426013 14969.7573987]\n",
      " [ 8948.7573987 22731.2426013]]\n",
      "\n",
      "chi^2: 0.3240332004060638\n",
      "P : 0.5691938610810126\n"
     ]
    }
   ],
   "source": [
    "chi2, p, degf, expected = stats.chi2_contingency(m_s_observed)\n",
    "\n",
    "print(\"Observed:\")\n",
    "print()\n",
    "\n",
    "print(m_s_observed.values)\n",
    "\n",
    "print()\n",
    "\n",
    "print(\"Expected: \\n\")\n",
    "print(expected)\n",
    "print()\n",
    "\n",
    "print(f'chi^2: {chi2}')\n",
    "\n",
    "print(f\"P : {p}\")"
   ]
  },
  {
   "cell_type": "code",
   "execution_count": 137,
   "id": "c15165b0",
   "metadata": {},
   "outputs": [
    {
     "name": "stdout",
     "output_type": "stream",
     "text": [
      "Failed to reject Ho: Gender does not vary in employees working in Sales as compared to employees working in Marketing\n",
      "\n",
      "-----Program (3a) END--------\n"
     ]
    }
   ],
   "source": [
    "if p < alpha:\n",
    "    \n",
    "    print(f\"Reject Ho: {ho}\")\n",
    "    \n",
    "else:\n",
    "    \n",
    "    print(f\"Failed to reject Ho: {h1}\")\n",
    "    \n",
    "print()\n",
    "    \n",
    "print(\"-----Program (3a) END--------\")"
   ]
  },
  {
   "cell_type": "markdown",
   "id": "44967ae1",
   "metadata": {},
   "source": [
    " ## 3b). Is an employee's gender independent of whether or not they are or have been a manager?"
   ]
  },
  {
   "cell_type": "code",
   "execution_count": 159,
   "id": "defd6c5d",
   "metadata": {},
   "outputs": [],
   "source": [
    "ho = \"Employee gender is independent of whether employee has been a manager\"\n",
    "h1 = \"Employee gender is not independent of whether employee has been a manager\"\n",
    "\n",
    "\n",
    "\n",
    "qry = '''SELECT e.gender AS gender, dm.dept_no as dept_manager \n",
    "FROM employees e \n",
    "LEFT JOIN dept_manager dm \n",
    "ON dm.emp_no = e.emp_no '''"
   ]
  },
  {
   "cell_type": "code",
   "execution_count": 140,
   "id": "8e224ac3",
   "metadata": {},
   "outputs": [
    {
     "data": {
      "text/html": [
       "<div>\n",
       "<style scoped>\n",
       "    .dataframe tbody tr th:only-of-type {\n",
       "        vertical-align: middle;\n",
       "    }\n",
       "\n",
       "    .dataframe tbody tr th {\n",
       "        vertical-align: top;\n",
       "    }\n",
       "\n",
       "    .dataframe thead th {\n",
       "        text-align: right;\n",
       "    }\n",
       "</style>\n",
       "<table border=\"1\" class=\"dataframe\">\n",
       "  <thead>\n",
       "    <tr style=\"text-align: right;\">\n",
       "      <th></th>\n",
       "      <th>gender</th>\n",
       "      <th>dept_manager</th>\n",
       "    </tr>\n",
       "  </thead>\n",
       "  <tbody>\n",
       "    <tr>\n",
       "      <th>0</th>\n",
       "      <td>M</td>\n",
       "      <td>None</td>\n",
       "    </tr>\n",
       "    <tr>\n",
       "      <th>1</th>\n",
       "      <td>F</td>\n",
       "      <td>None</td>\n",
       "    </tr>\n",
       "    <tr>\n",
       "      <th>2</th>\n",
       "      <td>M</td>\n",
       "      <td>None</td>\n",
       "    </tr>\n",
       "    <tr>\n",
       "      <th>3</th>\n",
       "      <td>M</td>\n",
       "      <td>None</td>\n",
       "    </tr>\n",
       "    <tr>\n",
       "      <th>4</th>\n",
       "      <td>M</td>\n",
       "      <td>None</td>\n",
       "    </tr>\n",
       "    <tr>\n",
       "      <th>...</th>\n",
       "      <td>...</td>\n",
       "      <td>...</td>\n",
       "    </tr>\n",
       "    <tr>\n",
       "      <th>300019</th>\n",
       "      <td>F</td>\n",
       "      <td>None</td>\n",
       "    </tr>\n",
       "    <tr>\n",
       "      <th>300020</th>\n",
       "      <td>M</td>\n",
       "      <td>None</td>\n",
       "    </tr>\n",
       "    <tr>\n",
       "      <th>300021</th>\n",
       "      <td>M</td>\n",
       "      <td>None</td>\n",
       "    </tr>\n",
       "    <tr>\n",
       "      <th>300022</th>\n",
       "      <td>M</td>\n",
       "      <td>None</td>\n",
       "    </tr>\n",
       "    <tr>\n",
       "      <th>300023</th>\n",
       "      <td>M</td>\n",
       "      <td>None</td>\n",
       "    </tr>\n",
       "  </tbody>\n",
       "</table>\n",
       "<p>300024 rows × 2 columns</p>\n",
       "</div>"
      ],
      "text/plain": [
       "       gender dept_manager\n",
       "0           M         None\n",
       "1           F         None\n",
       "2           M         None\n",
       "3           M         None\n",
       "4           M         None\n",
       "...       ...          ...\n",
       "300019      F         None\n",
       "300020      M         None\n",
       "300021      M         None\n",
       "300022      M         None\n",
       "300023      M         None\n",
       "\n",
       "[300024 rows x 2 columns]"
      ]
     },
     "execution_count": 140,
     "metadata": {},
     "output_type": "execute_result"
    }
   ],
   "source": [
    "mgr_gender = pd.read_sql(qry, db_url)\n",
    "mgr_gender"
   ]
  },
  {
   "cell_type": "code",
   "execution_count": 144,
   "id": "5c74ba80",
   "metadata": {},
   "outputs": [
    {
     "data": {
      "text/plain": [
       "0       300000\n",
       "d004         4\n",
       "d006         4\n",
       "d009         4\n",
       "d001         2\n",
       "d002         2\n",
       "d003         2\n",
       "d005         2\n",
       "d007         2\n",
       "d008         2\n",
       "Name: dept_manager, dtype: int64"
      ]
     },
     "execution_count": 144,
     "metadata": {},
     "output_type": "execute_result"
    }
   ],
   "source": [
    "mgr_gender.fillna(0, inplace = True)\n",
    "\n",
    "# mgr_gender = mgr_gender.fillna(0)\n",
    "\n",
    "mgr_gender.dept_manager.value_counts()"
   ]
  },
  {
   "cell_type": "code",
   "execution_count": 145,
   "id": "14f9b9ce",
   "metadata": {},
   "outputs": [
    {
     "data": {
      "text/plain": [
       "0    300000\n",
       "1        24\n",
       "Name: dept_manager, dtype: int64"
      ]
     },
     "execution_count": 145,
     "metadata": {},
     "output_type": "execute_result"
    }
   ],
   "source": [
    "mgr_gender['dept_manager'] = mgr_gender.dept_manager.apply(lambda x: x if x == 0 else 1)\n",
    "\n",
    "mgr_gender.dept_manager.value_counts()"
   ]
  },
  {
   "cell_type": "code",
   "execution_count": 146,
   "id": "fb5e9505",
   "metadata": {},
   "outputs": [
    {
     "data": {
      "text/html": [
       "<div>\n",
       "<style scoped>\n",
       "    .dataframe tbody tr th:only-of-type {\n",
       "        vertical-align: middle;\n",
       "    }\n",
       "\n",
       "    .dataframe tbody tr th {\n",
       "        vertical-align: top;\n",
       "    }\n",
       "\n",
       "    .dataframe thead th {\n",
       "        text-align: right;\n",
       "    }\n",
       "</style>\n",
       "<table border=\"1\" class=\"dataframe\">\n",
       "  <thead>\n",
       "    <tr style=\"text-align: right;\">\n",
       "      <th>dept_manager</th>\n",
       "      <th>0</th>\n",
       "      <th>1</th>\n",
       "    </tr>\n",
       "    <tr>\n",
       "      <th>gender</th>\n",
       "      <th></th>\n",
       "      <th></th>\n",
       "    </tr>\n",
       "  </thead>\n",
       "  <tbody>\n",
       "    <tr>\n",
       "      <th>F</th>\n",
       "      <td>120038</td>\n",
       "      <td>13</td>\n",
       "    </tr>\n",
       "    <tr>\n",
       "      <th>M</th>\n",
       "      <td>179962</td>\n",
       "      <td>11</td>\n",
       "    </tr>\n",
       "  </tbody>\n",
       "</table>\n",
       "</div>"
      ],
      "text/plain": [
       "dept_manager       0   1\n",
       "gender                  \n",
       "F             120038  13\n",
       "M             179962  11"
      ]
     },
     "execution_count": 146,
     "metadata": {},
     "output_type": "execute_result"
    }
   ],
   "source": [
    "observed = pd.crosstab(mgr_gender.gender, mgr_gender.dept_manager)\n",
    "observed"
   ]
  },
  {
   "cell_type": "code",
   "execution_count": 151,
   "id": "6e8f2677",
   "metadata": {},
   "outputs": [
    {
     "name": "stdout",
     "output_type": "stream",
     "text": [
      "\n",
      "Chi2: 1.4566857643547197,\n",
      "\n",
      "P Val: 0.22745818732810363, \n",
      "\n",
      "Degree Function: 1, \n",
      "\n",
      "Expected Val:  [[1.20041397e+05 9.60331174e+00]\n",
      " [1.79958603e+05 1.43966883e+01]]\n",
      "\n"
     ]
    }
   ],
   "source": [
    "chi2, p, degf, expected = stats.chi2_contingency(observed)\n",
    "\n",
    "print(f'''\n",
    "Chi2: {chi2},\n",
    "\n",
    "P Val: {p}, \n",
    "\n",
    "Degree Function: {degf}, \n",
    "\n",
    "Expected Val:  {expected}\n",
    "''')"
   ]
  },
  {
   "cell_type": "code",
   "execution_count": 160,
   "id": "52cca31d",
   "metadata": {},
   "outputs": [
    {
     "name": "stdout",
     "output_type": "stream",
     "text": [
      "Observed:\n",
      "\n",
      "[[ 5864 14999]\n",
      " [ 8978 22702]]\n",
      "\n",
      "Expected: \n",
      "\n",
      "\t [[1.20041397e+05 9.60331174e+00]\n",
      " [1.79958603e+05 1.43966883e+01]]\n",
      "\n",
      "Chi^2: \t 1.4566857643547197\n",
      "P : \t 0.22745818732810363\n",
      "----------Decision-------------\n",
      "Failed to reject Ho: Employee gender is not independent of whether employee has been a manager\n",
      "\n",
      "-----Program (3b) END--------\n"
     ]
    }
   ],
   "source": [
    "print(\"Observed:\")\n",
    "print()\n",
    "\n",
    "print(m_s_observed.values)\n",
    "\n",
    "print()\n",
    "\n",
    "print(\"Expected: \\n\")\n",
    "print(\"\\t\", expected)\n",
    "print()\n",
    "\n",
    "print(f'Chi^2: \\t {chi2}')\n",
    "\n",
    "print(f\"P : \\t {p}\")\n",
    "\n",
    "print('----------Decision-------------')\n",
    "\n",
    "if p < alpha:\n",
    "    \n",
    "    print(f\"Reject Ho: {ho}\")\n",
    "    \n",
    "else:\n",
    "    \n",
    "    print(f\"Failed to reject Ho: {h1}\")\n",
    "    \n",
    "print()\n",
    "    \n",
    "print(\"-----Program (3b) END--------\")"
   ]
  },
  {
   "cell_type": "code",
   "execution_count": null,
   "id": "6377c068",
   "metadata": {},
   "outputs": [],
   "source": []
  }
 ],
 "metadata": {
  "kernelspec": {
   "display_name": "Python 3 (ipykernel)",
   "language": "python",
   "name": "python3"
  },
  "language_info": {
   "codemirror_mode": {
    "name": "ipython",
    "version": 3
   },
   "file_extension": ".py",
   "mimetype": "text/x-python",
   "name": "python",
   "nbconvert_exporter": "python",
   "pygments_lexer": "ipython3",
   "version": "3.9.7"
  }
 },
 "nbformat": 4,
 "nbformat_minor": 5
}
