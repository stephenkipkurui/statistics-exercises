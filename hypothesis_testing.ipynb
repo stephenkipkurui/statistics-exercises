{
 "cells": [
  {
   "cell_type": "markdown",
   "id": "568b08a9",
   "metadata": {},
   "source": [
    "# Hypothesis Testing Exercises\n",
    "\n",
    "Do your work for this exercise in a jupyter notebook named hypothesis_testing.ipynb.\n",
    "\n",
    "For each of the following questions, formulate a null and alternative hypothesis (be as specific as you can be), then give an example of what a true positive, true negative, type I and type II errors would look like. Note that some of the questions are intentionally phrased in a vague way. It is your job to reword these as more precise questions that could be tested.\n"
   ]
  },
  {
   "cell_type": "markdown",
   "id": "3e6642d2",
   "metadata": {},
   "source": [
    "## 1). Has the network latency gone up since we switched internet service providers?\n"
   ]
  },
  {
   "cell_type": "markdown",
   "id": "1072b4e5",
   "metadata": {},
   "source": [
    "Ho (Null Hypothesis): Network latency has gone up begining on date internet service providers (ISP) were switched. \n",
    "    \n",
    "H1 (Alternate Hypothesis): Network latency has not gone up begining on date internet service providers were switched.\n",
    "    \n",
    "True +ve: Accepting the Ho as expected since data inference sugest the network laterncy has gone up due to switching ISP. \n",
    "    \n",
    "True -ve: We accept Ho but the cause for network latency was not attributed to the switching of ISP. Could be the weather, distance from the tower, a new service plan, e.t.c. that coincided with the switching of ISP.\n",
    "\n",
    "Type I Error (False +ve): Reject Ho that network laterncy has not gone up (adapt H1) yet there is evidence inferred from data that this is not true. Swithching providers did not make network latency rise. \n",
    "\n",
    "Type II Error (False -ve): Failed to reject Ho above yet inference from statistical data suggest we should reject Ho and adapt H1 \n",
    "\n"
   ]
  },
  {
   "cell_type": "markdown",
   "id": "fc091fec",
   "metadata": {},
   "source": [
    "## 2). Is the website redesign any good?\n",
    "\n",
    "Good cannot be measured statistically. It has to be converted to \n"
   ]
  },
  {
   "cell_type": "markdown",
   "id": "22188da0",
   "metadata": {},
   "source": [
    "Ho (Null Hypothesis): Website redesign has resulted in higher sales return \n",
    "    \n",
    "H1 (Alternate Hypothesis): Website redesign did not affect sales return\n",
    "    \n",
    "True +ve: Accept Ho as inferred by statistical data\n",
    "    \n",
    "True -ve: Accept Ho but the cause os sales increase was not necessarily caused by the re-design.\n",
    "    \n",
    "Type I Error (False +ve): Rejected Ho above when inferred data sugest we should have kept the hypothesis \n",
    "    \n",
    "Type II Error (False -ve): Did not reject Ho yet we should have. Website redesign did not affect sales return\n",
    "    \n"
   ]
  },
  {
   "cell_type": "markdown",
   "id": "b73f938f",
   "metadata": {},
   "source": [
    "## 3). Is our television ad driving more sales?\n"
   ]
  },
  {
   "cell_type": "markdown",
   "id": "1d475193",
   "metadata": {},
   "source": [
    "Ho (Null Hypothesis): Listing our ad on television has resulted in increased sales.\n",
    "    \n",
    "H1 (Alternate Hypothesis): Listing our ad on television did not result in increased sales.\n",
    "    \n",
    "True +ve: Increased sales was directlty as a result in increased sales. Accept Ho\n",
    "    \n",
    "True -ve: Increased sales was as a result of listing our tv ad. Other factors caused the spike in sales\n",
    "    \n",
    "Type I Error (False +ve): Adapted H1 \n",
    "    \n",
    "Type II Error (False -ve):"
   ]
  },
  {
   "cell_type": "code",
   "execution_count": null,
   "id": "0c3a1cea",
   "metadata": {},
   "outputs": [],
   "source": []
  }
 ],
 "metadata": {
  "kernelspec": {
   "display_name": "Python 3 (ipykernel)",
   "language": "python",
   "name": "python3"
  },
  "language_info": {
   "codemirror_mode": {
    "name": "ipython",
    "version": 3
   },
   "file_extension": ".py",
   "mimetype": "text/x-python",
   "name": "python",
   "nbconvert_exporter": "python",
   "pygments_lexer": "ipython3",
   "version": "3.9.7"
  }
 },
 "nbformat": 4,
 "nbformat_minor": 5
}
